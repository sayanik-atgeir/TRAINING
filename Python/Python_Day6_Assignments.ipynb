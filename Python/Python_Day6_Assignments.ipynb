{
 "cells": [
  {
   "cell_type": "code",
   "execution_count": null,
   "id": "1ab34c59",
   "metadata": {},
   "outputs": [],
   "source": [
    "# Python day6"
   ]
  },
  {
   "cell_type": "code",
   "execution_count": 15,
   "id": "091162d6",
   "metadata": {},
   "outputs": [
    {
     "name": "stdout",
     "output_type": "stream",
     "text": [
      "2+7j\n",
      "10+15j\n",
      "(10, 15, 20)\n"
     ]
    }
   ],
   "source": [
    "#1. Use of Class Objects and constructor in Python Program to create a class called ComplexNumber that consist of variables real and imag, functions like constructor and getData(). Create  objects c1 and c2. In c2 add a new attribute and print the contents of c1 and c2\n",
    "\n",
    "class ComplexNumber:\n",
    "    def __init__(self,real,imag):\n",
    "        self.real = real\n",
    "        self.imag = imag\n",
    "        \n",
    "    def getdata(self):\n",
    "        print(f'{self.real}+{self.imag}j')\n",
    "    \n",
    "c1 = ComplexNumber(2,7)\n",
    "c1.getdata()\n",
    "\n",
    "c2 = ComplexNumber(10,15)\n",
    "c2.newattri = 20\n",
    "c2.getdata()\n",
    "print((c2.real,c2.imag,c2.newattri))"
   ]
  },
  {
   "cell_type": "code",
   "execution_count": 69,
   "id": "28aae6f1",
   "metadata": {},
   "outputs": [
    {
     "name": "stdout",
     "output_type": "stream",
     "text": [
      "student id: 1001\n",
      "student name: sayanik\n",
      "student class: 12th\n"
     ]
    }
   ],
   "source": [
    "#2. Write a Python class named Student with two attributes student_id, student_name. Add a new attribute student_class and display the entire attribute and their values of the said class. Now remove the student_name attribute and display the entire attribute with values\n",
    "\n",
    "class student:\n",
    "    def __init__(self,student_id,student_name):\n",
    "        self.student_id=student_id\n",
    "        self.student_name = student_name\n",
    "        \n",
    "    def setClass(self,student_class):\n",
    "        self.student_class = student_class\n",
    "        \n",
    "    def display(self):\n",
    "        print('student id:',self.student_id)\n",
    "        print('student name:',self.student_name)\n",
    "        print('student class:',self.student_class)\n",
    "        \n",
    "s = student(1001,'sayanik')\n",
    "s.setClass('12th')\n",
    "s.display()"
   ]
  },
  {
   "cell_type": "code",
   "execution_count": 70,
   "id": "b5d68c9d",
   "metadata": {},
   "outputs": [
    {
     "name": "stdout",
     "output_type": "stream",
     "text": [
      "student id: 1001\n",
      "student class: 12th\n"
     ]
    }
   ],
   "source": [
    "#Removing attributes\n",
    "del s.student_name\n",
    "\n",
    "class student:\n",
    "    def __init__(self,student_id):\n",
    "        self.student_id=student_id\n",
    "        \n",
    "    def setClass(self,student_class):\n",
    "        self.student_class = student_class\n",
    "        \n",
    "    def display(self):\n",
    "        print('student id:',self.student_id)\n",
    "        print('student class:',self.student_class)\n",
    "        \n",
    "s = student(1001)\n",
    "s.setClass('12th')\n",
    "s.display()"
   ]
  },
  {
   "cell_type": "code",
   "execution_count": 41,
   "id": "7bc43936",
   "metadata": {},
   "outputs": [
    {
     "name": "stdout",
     "output_type": "stream",
     "text": [
      "result is : 25\n"
     ]
    }
   ],
   "source": [
    "#3.Write a Python class to implement pow(x, n) function\n",
    "\n",
    "class power:\n",
    "    def f(x,n):\n",
    "        return pow(x,n)\n",
    "\n",
    "print(\"result is :\", power.f(5,2))"
   ]
  },
  {
   "cell_type": "code",
   "execution_count": 46,
   "id": "6f7d639a",
   "metadata": {},
   "outputs": [
    {
     "name": "stdout",
     "output_type": "stream",
     "text": [
      "Enter tyhe radius:10\n",
      "Area of the circle : 314.1592653589793\n",
      "Parameter of the circle : 62.83185307179586\n"
     ]
    }
   ],
   "source": [
    "#4.Write a Python class named Circle constructed by a radius and two methods which will compute the area and the perimeter of a circle\n",
    "\n",
    "from math import pi\n",
    "class circle:\n",
    "    def __init__(self,radius):\n",
    "        self.radius = radius\n",
    "        \n",
    "    def area(self):\n",
    "        return (pi*(self.radius**2))\n",
    "    def parameter(self):\n",
    "        return (2 * pi*self.radius)\n",
    "\n",
    "r1 = int(input(\"Enter tyhe radius:\"))\n",
    "obj1 = circle(r1)\n",
    "print(\"Area of the circle :\",obj1.area())\n",
    "print(\"Parameter of the circle :\",obj1.parameter())"
   ]
  },
  {
   "cell_type": "code",
   "execution_count": 52,
   "id": "59eecfaa",
   "metadata": {},
   "outputs": [
    {
     "name": "stdout",
     "output_type": "stream",
     "text": [
      "Enter the string:atgeir\n",
      "ATGEIR\n"
     ]
    }
   ],
   "source": [
    "#5.Write a Python class which has two methods  get_String and print_String. get_String accept a  string from the user and print_String print the  string in upper case.\n",
    "\n",
    "class string:\n",
    "    def __init__(self,x):\n",
    "        self.x = x\n",
    "    \n",
    "    def get_string(self,str1):\n",
    "            self.str1 = str1\n",
    "    def print_string(self):\n",
    "            return self.str1\n",
    "    \n",
    "s = input(\"Enter the string:\")\n",
    "obj1 = string('a')\n",
    "obj1.get_string(s)\n",
    "print(obj1.print_string().upper())"
   ]
  },
  {
   "cell_type": "code",
   "execution_count": 53,
   "id": "546099f3",
   "metadata": {},
   "outputs": [
    {
     "name": "stdout",
     "output_type": "stream",
     "text": [
      "Enter the length :25\n",
      "Enter the width :20\n",
      "Area of the rectangle : 500\n"
     ]
    }
   ],
   "source": [
    "#6.. Write a Python class named Rectangle  constructed by a length and width and a method  which will compute the area of a rectangle.\n",
    "\n",
    "class rectangle:\n",
    "    def __init__(self,length,width):\n",
    "        self.length = length\n",
    "        self.width = width\n",
    "        \n",
    "    def area_rec(self):\n",
    "        return (self.length*self.width)\n",
    "\n",
    "l = int(input(\"Enter the length :\"))\n",
    "w = int(input(\"Enter the width :\"))\n",
    "obj1 = rectangle(l,w)\n",
    "print(\"Area of the rectangle :\",obj1.area_rec())"
   ]
  },
  {
   "cell_type": "code",
   "execution_count": 77,
   "id": "eca3cebe",
   "metadata": {},
   "outputs": [
    {
     "name": "stdout",
     "output_type": "stream",
     "text": [
      "Enter first Number=10\n",
      "Enter Second Number=sayanik\n",
      "a+b: 10sayanik\n"
     ]
    }
   ],
   "source": [
    "#7.WAP using exception handling, to add any 2 datatypes among int, float, str, Boolean, complex without showing exceptions\n",
    "\n",
    "try:\n",
    "    a=int(input(\"Enter first Number=\"))\n",
    "    b=input(\"Enter Second Number=\")\n",
    "    x=(str(a)+b)\n",
    "except Exception as e:\n",
    "    print(\"Error\",e)\n",
    "    exit(0)\n",
    "print(\"a+b:\",x)"
   ]
  },
  {
   "cell_type": "code",
   "execution_count": 61,
   "id": "77345401",
   "metadata": {},
   "outputs": [
    {
     "name": "stdout",
     "output_type": "stream",
     "text": [
      "Age:-10\n"
     ]
    },
    {
     "ename": "Exception",
     "evalue": "Age can not be negative",
     "output_type": "error",
     "traceback": [
      "\u001b[1;31m---------------------------------------------------------------------------\u001b[0m",
      "\u001b[1;31mException\u001b[0m                                 Traceback (most recent call last)",
      "\u001b[1;32m~\\AppData\\Local\\Temp/ipykernel_14192/760479811.py\u001b[0m in \u001b[0;36m<module>\u001b[1;34m\u001b[0m\n\u001b[0;32m      3\u001b[0m \u001b[0mage\u001b[0m \u001b[1;33m=\u001b[0m \u001b[0mint\u001b[0m\u001b[1;33m(\u001b[0m\u001b[0minput\u001b[0m\u001b[1;33m(\u001b[0m\u001b[1;34m\"Age:\"\u001b[0m\u001b[1;33m)\u001b[0m\u001b[1;33m)\u001b[0m\u001b[1;33m\u001b[0m\u001b[1;33m\u001b[0m\u001b[0m\n\u001b[0;32m      4\u001b[0m \u001b[1;32mif\u001b[0m \u001b[0mage\u001b[0m\u001b[1;33m<\u001b[0m\u001b[1;36m0\u001b[0m\u001b[1;33m:\u001b[0m\u001b[1;33m\u001b[0m\u001b[1;33m\u001b[0m\u001b[0m\n\u001b[1;32m----> 5\u001b[1;33m     \u001b[1;32mraise\u001b[0m \u001b[0mException\u001b[0m\u001b[1;33m(\u001b[0m\u001b[1;34m\"Age can not be negative\"\u001b[0m\u001b[1;33m)\u001b[0m\u001b[1;33m\u001b[0m\u001b[1;33m\u001b[0m\u001b[0m\n\u001b[0m\u001b[0;32m      6\u001b[0m \u001b[0mprint\u001b[0m\u001b[1;33m(\u001b[0m\u001b[1;34m\"year of birth:\"\u001b[0m\u001b[1;33m,\u001b[0m\u001b[1;33m(\u001b[0m\u001b[1;36m2022\u001b[0m\u001b[1;33m-\u001b[0m\u001b[0mage\u001b[0m\u001b[1;33m)\u001b[0m\u001b[1;33m)\u001b[0m\u001b[1;33m\u001b[0m\u001b[1;33m\u001b[0m\u001b[0m\n",
      "\u001b[1;31mException\u001b[0m: Age can not be negative"
     ]
    }
   ],
   "source": [
    "#8.WAP for user defined exceptions\n",
    "\n",
    "age = int(input(\"Age:\"))\n",
    "if age<0:\n",
    "    raise Exception(\"Age can not be negative\")\n",
    "print(\"year of birth:\",(2022-age))"
   ]
  },
  {
   "cell_type": "code",
   "execution_count": 62,
   "id": "a5bc92c1",
   "metadata": {},
   "outputs": [],
   "source": [
    "#9.. Create a function with no code inside it\n",
    "\n",
    "def func():\n",
    "    pass"
   ]
  },
  {
   "cell_type": "code",
   "execution_count": null,
   "id": "6f68c3fb",
   "metadata": {},
   "outputs": [],
   "source": []
  },
  {
   "cell_type": "code",
   "execution_count": null,
   "id": "bf911eb6",
   "metadata": {},
   "outputs": [],
   "source": []
  },
  {
   "cell_type": "code",
   "execution_count": null,
   "id": "4dc3e29d",
   "metadata": {},
   "outputs": [],
   "source": []
  },
  {
   "cell_type": "code",
   "execution_count": null,
   "id": "4f633d78",
   "metadata": {},
   "outputs": [],
   "source": []
  },
  {
   "cell_type": "code",
   "execution_count": null,
   "id": "13b4d968",
   "metadata": {},
   "outputs": [],
   "source": []
  },
  {
   "cell_type": "code",
   "execution_count": null,
   "id": "213859f4",
   "metadata": {},
   "outputs": [],
   "source": []
  },
  {
   "cell_type": "code",
   "execution_count": null,
   "id": "ea9b77f3",
   "metadata": {},
   "outputs": [],
   "source": []
  },
  {
   "cell_type": "code",
   "execution_count": null,
   "id": "caea7b9b",
   "metadata": {},
   "outputs": [],
   "source": []
  },
  {
   "cell_type": "code",
   "execution_count": null,
   "id": "269c913b",
   "metadata": {},
   "outputs": [],
   "source": []
  },
  {
   "cell_type": "code",
   "execution_count": null,
   "id": "f647c138",
   "metadata": {},
   "outputs": [],
   "source": []
  },
  {
   "cell_type": "code",
   "execution_count": null,
   "id": "6b645547",
   "metadata": {},
   "outputs": [],
   "source": []
  },
  {
   "cell_type": "code",
   "execution_count": null,
   "id": "97535651",
   "metadata": {},
   "outputs": [],
   "source": []
  },
  {
   "cell_type": "code",
   "execution_count": null,
   "id": "304809fb",
   "metadata": {},
   "outputs": [],
   "source": []
  },
  {
   "cell_type": "code",
   "execution_count": null,
   "id": "daf0c05c",
   "metadata": {},
   "outputs": [],
   "source": []
  },
  {
   "cell_type": "code",
   "execution_count": null,
   "id": "2dc154c9",
   "metadata": {},
   "outputs": [],
   "source": []
  },
  {
   "cell_type": "code",
   "execution_count": null,
   "id": "6e2bfa9e",
   "metadata": {},
   "outputs": [],
   "source": []
  }
 ],
 "metadata": {
  "kernelspec": {
   "display_name": "Python 3 (ipykernel)",
   "language": "python",
   "name": "python3"
  },
  "language_info": {
   "codemirror_mode": {
    "name": "ipython",
    "version": 3
   },
   "file_extension": ".py",
   "mimetype": "text/x-python",
   "name": "python",
   "nbconvert_exporter": "python",
   "pygments_lexer": "ipython3",
   "version": "3.9.7"
  }
 },
 "nbformat": 4,
 "nbformat_minor": 5
}
