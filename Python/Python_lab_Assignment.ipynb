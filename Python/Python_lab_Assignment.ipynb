{
 "cells": [
  {
   "cell_type": "code",
   "execution_count": 1,
   "id": "fdd1c51b",
   "metadata": {},
   "outputs": [],
   "source": [
    "import os"
   ]
  },
  {
   "cell_type": "code",
   "execution_count": 2,
   "id": "039fa61b",
   "metadata": {},
   "outputs": [
    {
     "name": "stdout",
     "output_type": "stream",
     "text": [
      "C:\\Users\\SAYANIK\n"
     ]
    }
   ],
   "source": [
    "rootdir = os.getcwd()\n",
    "print(rootdir)"
   ]
  },
  {
   "cell_type": "code",
   "execution_count": 3,
   "id": "7f0ec7c0",
   "metadata": {},
   "outputs": [
    {
     "name": "stdout",
     "output_type": "stream",
     "text": [
      "Enter the log directories path: F:\\log\n"
     ]
    }
   ],
   "source": [
    "path = input(\"Enter the log directories path: \")"
   ]
  },
  {
   "cell_type": "code",
   "execution_count": 4,
   "id": "bdb0032d",
   "metadata": {},
   "outputs": [],
   "source": [
    "os.chdir(path)"
   ]
  },
  {
   "cell_type": "code",
   "execution_count": 5,
   "id": "d0bfbcb6",
   "metadata": {},
   "outputs": [
    {
     "name": "stdout",
     "output_type": "stream",
     "text": [
      "F:\\log\n"
     ]
    }
   ],
   "source": [
    "rootdir1 = os.getcwd()\n",
    "print(rootdir1)"
   ]
  },
  {
   "cell_type": "code",
   "execution_count": 6,
   "id": "3abd1208",
   "metadata": {},
   "outputs": [
    {
     "name": "stdout",
     "output_type": "stream",
     "text": [
      "Python_Day3_Assignments.ipynb\n",
      "F:\\log\\2022-07-04\\Python_Day3_Assignments.ipynb\n",
      "Python_Day3_Notes.ipynb\n",
      "F:\\log\\2022-07-04\\Python_Day3_Notes.ipynb\n",
      "Python_Day4_Assignments.ipynb\n",
      "F:\\log\\2022-07-05\\Python_Day4_Assignments.ipynb\n",
      "Python_DAY5_Assignments.ipynb\n",
      "F:\\log\\2022-07-06\\Python_DAY5_Assignments.ipynb\n",
      "Python_Day6_Assignments.ipynb\n",
      "F:\\log\\2022-07-07\\Python_Day6_Assignments.ipynb\n",
      "Python_Day7_Assignments.ipynb\n",
      "F:\\log\\2022-07-08\\Python_Day7_Assignments.ipynb\n",
      "Python_day4_notes.ipynb\n",
      "F:\\log\\2022-07-11\\Python_day4_notes.ipynb\n",
      "Python_Day8_Assignments.ipynb\n",
      "F:\\log\\2022-07-11\\Python_Day8_Assignments.ipynb\n",
      "Python_day9_Assignments.ipynb\n",
      "F:\\log\\2022-07-12\\Python_day9_Assignments.ipynb\n"
     ]
    }
   ],
   "source": [
    "for subdir,dirs,files in os.walk(rootdir1):\n",
    "    for i in files:\n",
    "        print(i)\n",
    "        filepath = subdir + os.sep + i\n",
    "        print(filepath)"
   ]
  },
  {
   "cell_type": "code",
   "execution_count": 7,
   "id": "945371ff",
   "metadata": {},
   "outputs": [],
   "source": [
    "import datetime"
   ]
  },
  {
   "cell_type": "code",
   "execution_count": 8,
   "id": "fae6a5c3",
   "metadata": {},
   "outputs": [
    {
     "name": "stdout",
     "output_type": "stream",
     "text": [
      "Python_Day3_Assignments.ipynb\n",
      "last accessed date :\n",
      "2022-07-13 12:38:48.661867\n",
      "last modified date :\n",
      "2022-07-04 13:29:45.928665\n",
      "\n",
      "\n",
      "Python_Day3_Notes.ipynb\n",
      "last accessed date :\n",
      "2022-07-13 12:38:48.661867\n",
      "last modified date :\n",
      "2022-07-04 15:01:39.041834\n",
      "\n",
      "\n",
      "Python_Day4_Assignments.ipynb\n",
      "last accessed date :\n",
      "2022-07-13 12:38:48.661867\n",
      "last modified date :\n",
      "2022-07-05 14:10:35.582806\n",
      "\n",
      "\n",
      "Python_DAY5_Assignments.ipynb\n",
      "last accessed date :\n",
      "2022-07-13 12:38:48.661867\n",
      "last modified date :\n",
      "2022-07-06 15:28:04.279221\n",
      "\n",
      "\n",
      "Python_Day6_Assignments.ipynb\n",
      "last accessed date :\n",
      "2022-07-13 12:38:48.671374\n",
      "last modified date :\n",
      "2022-07-07 14:26:52.339009\n",
      "\n",
      "\n",
      "Python_Day7_Assignments.ipynb\n",
      "last accessed date :\n",
      "2022-07-13 12:38:48.660546\n",
      "last modified date :\n",
      "2022-07-08 14:23:52.141109\n",
      "\n",
      "\n",
      "Python_day4_notes.ipynb\n",
      "last accessed date :\n",
      "2022-07-13 10:30:22.341791\n",
      "last modified date :\n",
      "2022-07-11 15:13:51.398910\n",
      "\n",
      "\n",
      "Python_Day8_Assignments.ipynb\n",
      "last accessed date :\n",
      "2022-07-13 10:30:22.442072\n",
      "last modified date :\n",
      "2022-07-11 12:30:04.580371\n",
      "\n",
      "\n",
      "Python_day9_Assignments.ipynb\n",
      "last accessed date :\n",
      "2022-07-13 10:30:22.210276\n",
      "last modified date :\n",
      "2022-07-12 17:09:41.574376\n",
      "\n",
      "\n"
     ]
    }
   ],
   "source": [
    "for subdir,dirs,files in os.walk(rootdir1):\n",
    "    for i in files:\n",
    "        filepath = subdir + os.sep + i\n",
    "        status = os.stat(filepath)\n",
    "        print(i)\n",
    "        print(\"last accessed date :\")\n",
    "        print(datetime.datetime.fromtimestamp(status.st_atime))\n",
    "        print(\"last modified date :\")\n",
    "        print(datetime.datetime.fromtimestamp(status.st_mtime))\n",
    "        print('\\n')"
   ]
  },
  {
   "cell_type": "code",
   "execution_count": 9,
   "id": "07e6fdba",
   "metadata": {},
   "outputs": [
    {
     "name": "stdout",
     "output_type": "stream",
     "text": [
      "F:\\log\\2022-07-04\\Python_Day3_Assignments.ipynb \n",
      " no of days old file : 8 Days\n",
      "F:\\log\\2022-07-04\\Python_Day3_Notes.ipynb \n",
      " no of days old file : 8 Days\n",
      "F:\\log\\2022-07-05\\Python_Day4_Assignments.ipynb \n",
      " no of days old file : 7 Days\n",
      "F:\\log\\2022-07-06\\Python_DAY5_Assignments.ipynb \n",
      " no of days old file : 6 Days\n",
      "F:\\log\\2022-07-07\\Python_Day6_Assignments.ipynb \n",
      " no of days old file : 5 Days\n",
      "F:\\log\\2022-07-08\\Python_Day7_Assignments.ipynb \n",
      " no of days old file : 4 Days\n",
      "F:\\log\\2022-07-11\\Python_day4_notes.ipynb \n",
      " no of days old file : 1 Days\n",
      "F:\\log\\2022-07-11\\Python_Day8_Assignments.ipynb \n",
      " no of days old file : 2 Days\n",
      "F:\\log\\2022-07-12\\Python_day9_Assignments.ipynb \n",
      " no of days old file : 0 Days\n"
     ]
    }
   ],
   "source": [
    "today = datetime.datetime.now()\n",
    "for subdir,dirs,files in os.walk(rootdir1):\n",
    "    for i in files:\n",
    "        filepath = subdir + os.sep + i\n",
    "        status = os.stat(filepath)\n",
    "        file_creation_date = datetime.datetime.fromtimestamp(status.st_mtime)\n",
    "        print(filepath,'\\n',\"no of days old file :\",(today-file_creation_date).days,\"Days\")"
   ]
  },
  {
   "cell_type": "markdown",
   "id": "184c43f1",
   "metadata": {},
   "source": [
    "# The whole script"
   ]
  },
  {
   "cell_type": "code",
   "execution_count": null,
   "id": "17e7ce2c",
   "metadata": {},
   "outputs": [],
   "source": [
    "import os\n",
    "path = input(\"Enter the log directories path: \")\n",
    "os.chdir(path)\n",
    "rootdir1 = os.getcwd()\n",
    "print(rootdir1)"
   ]
  },
  {
   "cell_type": "code",
   "execution_count": 10,
   "id": "840b6c42",
   "metadata": {},
   "outputs": [
    {
     "name": "stdout",
     "output_type": "stream",
     "text": [
      "Enter the no of days :4\n"
     ]
    }
   ],
   "source": [
    "n = int(input(\"Enter the no of days :\"))\n",
    "today = datetime.datetime.now()\n",
    "for subdir,dirs,files in os.walk(rootdir1):\n",
    "    for i in files:\n",
    "        filepath = subdir + os.sep + i\n",
    "        status = os.stat(filepath)\n",
    "        #print(i)\n",
    "        #print(\"last accessed date :\")\n",
    "        #print(datetime.datetime.fromtimestamp(status.st_atime))\n",
    "        #print(\"last modified date :\")\n",
    "        #print(datetime.datetime.fromtimestamp(status.st_mtime))\n",
    "        file_creation_date = datetime.datetime.fromtimestamp(status.st_mtime)\n",
    "        #print(filepath,'\\n',\"no of days old file :\",(today-file_creation_date).days,\"Days\")\n",
    "        date_difference = ((today-file_creation_date).days)\n",
    "        if date_difference > n:\n",
    "            os.remove(filepath)"
   ]
  },
  {
   "cell_type": "code",
   "execution_count": null,
   "id": "41d555db",
   "metadata": {},
   "outputs": [],
   "source": [
    "## Checking"
   ]
  },
  {
   "cell_type": "code",
   "execution_count": 12,
   "id": "649b7ae7",
   "metadata": {},
   "outputs": [
    {
     "name": "stdout",
     "output_type": "stream",
     "text": [
      "F:\\log\\2022-07-08\\Python_Day7_Assignments.ipynb\n",
      "F:\\log\\2022-07-11\\Python_day4_notes.ipynb\n",
      "F:\\log\\2022-07-11\\Python_Day8_Assignments.ipynb\n",
      "F:\\log\\2022-07-12\\Python_day9_Assignments.ipynb\n"
     ]
    }
   ],
   "source": [
    "for subdir,dirs,files in os.walk(rootdir1):\n",
    "    for i in files:\n",
    "        filepath = subdir + os.sep + i\n",
    "        print(filepath)"
   ]
  },
  {
   "cell_type": "code",
   "execution_count": null,
   "id": "813b9671",
   "metadata": {},
   "outputs": [],
   "source": []
  },
  {
   "cell_type": "code",
   "execution_count": null,
   "id": "771dd242",
   "metadata": {},
   "outputs": [],
   "source": []
  }
 ],
 "metadata": {
  "kernelspec": {
   "display_name": "Python 3 (ipykernel)",
   "language": "python",
   "name": "python3"
  },
  "language_info": {
   "codemirror_mode": {
    "name": "ipython",
    "version": 3
   },
   "file_extension": ".py",
   "mimetype": "text/x-python",
   "name": "python",
   "nbconvert_exporter": "python",
   "pygments_lexer": "ipython3",
   "version": "3.9.7"
  }
 },
 "nbformat": 4,
 "nbformat_minor": 5
}
