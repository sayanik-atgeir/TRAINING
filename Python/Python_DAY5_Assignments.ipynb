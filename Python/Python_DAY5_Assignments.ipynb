{
 "cells": [
  {
   "cell_type": "code",
   "execution_count": null,
   "id": "d4237b26",
   "metadata": {},
   "outputs": [],
   "source": [
    "# Python day5"
   ]
  },
  {
   "cell_type": "code",
   "execution_count": 5,
   "id": "168bc40c",
   "metadata": {},
   "outputs": [
    {
     "name": "stdout",
     "output_type": "stream",
     "text": [
      "Multiplication= 6000\n"
     ]
    }
   ],
   "source": [
    "#1.Using the concept of Arbitrary Arguments, *args, print multiplication of all the numbers passed in the function call \n",
    "\n",
    "def mult(*arg):\n",
    "    result=1\n",
    "    for i in arg:\n",
    "        result=result * i\n",
    "    print(\"Multiplication=\",result)\n",
    "\n",
    "mult(10,20,30)"
   ]
  },
  {
   "cell_type": "code",
   "execution_count": 13,
   "id": "d2fc57ab",
   "metadata": {},
   "outputs": [
    {
     "name": "stdout",
     "output_type": "stream",
     "text": [
      "True\n",
      "False\n"
     ]
    }
   ],
   "source": [
    "#2.Using the concept of regex Write a Python program to check that a string contains only a certain set of characters (in this case a-z, A-Z and 0-9).\n",
    "\n",
    "def pattern_match(x):\n",
    "    import re\n",
    "    regx = \"^[A-Za-z0-9]\"\n",
    "    result = bool(re.match(regx,x))\n",
    "    return result\n",
    "\n",
    "print(pattern_match(\"ABCDEFabcdef123450\"))\n",
    "print(pattern_match(\"*&%@#!}{\"))"
   ]
  },
  {
   "cell_type": "code",
   "execution_count": 14,
   "id": "45d7adc7",
   "metadata": {},
   "outputs": [
    {
     "name": "stdout",
     "output_type": "stream",
     "text": [
      "addition : 40\n",
      "Multiplication : -200\n"
     ]
    }
   ],
   "source": [
    "#3.Write a Python program to create a lambda function that adds 15 to a given number passed in as an argument, also create a lambda function that multiplies argument x with argument y and prints the result.\n",
    "\n",
    "sum1 = lambda a:a+15\n",
    "mult = lambda x,y:x*y\n",
    "print(\"addition :\",sum1(25))\n",
    "print(\"Multiplication :\",mult(10,-20))"
   ]
  },
  {
   "cell_type": "code",
   "execution_count": 26,
   "id": "3d3e7a95",
   "metadata": {},
   "outputs": [
    {
     "name": "stdout",
     "output_type": "stream",
     "text": [
      "(12.5, -10.0)\n"
     ]
    }
   ],
   "source": [
    "#4.To define a roots() to calculate roots of a quadratic equation, ax^2 + bx +c which takes a ,b and c as arguments.\n",
    "\n",
    "def roots(a,b,c):\n",
    "    x1 = (-b + ((b**2 -4*a*c)**0.5))/(2*a)\n",
    "    x2 = (-b - ((b**2 -4*a*c)**0.5))/(2*a)\n",
    "    return x1,x2\n",
    "\n",
    "print(roots(2,-5,-250))"
   ]
  },
  {
   "cell_type": "code",
   "execution_count": 27,
   "id": "a2f59030",
   "metadata": {},
   "outputs": [
    {
     "name": "stdout",
     "output_type": "stream",
     "text": [
      "20\n"
     ]
    }
   ],
   "source": [
    "#5. Write a Python function to perform sum of all the elements of a list\n",
    "\n",
    "def sum_lst(lst1):\n",
    "    result = 0\n",
    "    for i in lst1:\n",
    "        result = result+i\n",
    "    return result\n",
    "\n",
    "Sample_List = [8, 2, 3, 0, 7]\n",
    "print(sum_lst(Sample_List))"
   ]
  },
  {
   "cell_type": "code",
   "execution_count": 29,
   "id": "b11f7e73",
   "metadata": {},
   "outputs": [
    {
     "name": "stdout",
     "output_type": "stream",
     "text": [
      "20\n"
     ]
    }
   ],
   "source": [
    "## 2nd way:(Reduce function)\n",
    "from functools import reduce\n",
    "lst=[8, 2, 3, 0, 7] \n",
    "result=reduce(lambda x,y:x+y,lst)\n",
    "print(result)"
   ]
  },
  {
   "cell_type": "code",
   "execution_count": 41,
   "id": "cc39b7ef",
   "metadata": {},
   "outputs": [
    {
     "data": {
      "text/plain": [
       "True"
      ]
     },
     "execution_count": 41,
     "metadata": {},
     "output_type": "execute_result"
    }
   ],
   "source": [
    "#6.Write a Python function to check whether a number falls in a given range. (Note: Ask the user for the range and number.)\n",
    "\n",
    "def number_check(n,num1,num2):\n",
    "    return (num1<= n <= num2 if num2 >= num1 else num2 <= n <= num1)\n",
    "\n",
    "number_check(5,3,9)"
   ]
  },
  {
   "cell_type": "code",
   "execution_count": 60,
   "id": "9667be4c",
   "metadata": {},
   "outputs": [
    {
     "name": "stdout",
     "output_type": "stream",
     "text": [
      "No of Upper case letter: 3\n",
      "No of lower case letter: 13\n"
     ]
    }
   ],
   "source": [
    "#7.Write a Python function that accepts a string and calculates the number of uppercase letters and lowercase letters\n",
    "\n",
    "def upper_lower(string):\n",
    "    upper_case = 0\n",
    "    lower_case = 0\n",
    "    for i in string:\n",
    "        if i.isupper():\n",
    "            upper_case+=1\n",
    "        elif i.islower():\n",
    "            lower_case+=1\n",
    "        else:\n",
    "            pass\n",
    "    return upper_case,lower_case\n",
    "\n",
    "print(\"No of Upper case letter:\",upper_lower(\"The quick Brown Fox\")[0])\n",
    "print(\"No of lower case letter:\",upper_lower(\"The quick Brown Fox\")[1])"
   ]
  },
  {
   "cell_type": "code",
   "execution_count": 55,
   "id": "7caba192",
   "metadata": {},
   "outputs": [
    {
     "name": "stdout",
     "output_type": "stream",
     "text": [
      "String is palindrome\n"
     ]
    }
   ],
   "source": [
    "#8.Write a Python function that checks whether a passed string is palindrome or not.\n",
    "\n",
    "def palin(s):\n",
    "    if s == s[::-1]:\n",
    "        print(\"String is palindrome\")\n",
    "    else:\n",
    "        print(\"string is not palindrome\")\n",
    "        \n",
    "palin('madam')"
   ]
  },
  {
   "cell_type": "code",
   "execution_count": 61,
   "id": "0b1fe52d",
   "metadata": {},
   "outputs": [
    {
     "name": "stdout",
     "output_type": "stream",
     "text": [
      "No of vowels: 3\n",
      "No of consonant: 4\n"
     ]
    }
   ],
   "source": [
    "#9.Define a function which counts vowels and consonants in a word.\n",
    "\n",
    "def check_vc(s):\n",
    "    vowel =0\n",
    "    consonant = 0\n",
    "    for i in s:\n",
    "        if i in 'aeiou':\n",
    "            vowel+=1\n",
    "        else:\n",
    "            consonant+=1\n",
    "    return vowel,consonant\n",
    "\n",
    "print(\"No of vowels:\",check_vc('sayanik')[0])\n",
    "print(\"No of consonant:\",check_vc('sayanik')[1])"
   ]
  },
  {
   "cell_type": "code",
   "execution_count": 64,
   "id": "ffd07c69",
   "metadata": {},
   "outputs": [
    {
     "name": "stdout",
     "output_type": "stream",
     "text": [
      "ATGEIR\n"
     ]
    }
   ],
   "source": [
    "#10.Define a function that accepts lowercase words and returns uppercase words.\n",
    "\n",
    "def upper(lower):\n",
    "    ucase = lower.upper()\n",
    "    return ucase\n",
    "\n",
    "print(upper('atgeir'))"
   ]
  },
  {
   "cell_type": "code",
   "execution_count": 75,
   "id": "57125377",
   "metadata": {},
   "outputs": [
    {
     "name": "stdout",
     "output_type": "stream",
     "text": [
      "License Suspended\n"
     ]
    }
   ],
   "source": [
    "#11Write a function for checking the speed of drivers. This function should have one parameter: speed.\n",
    "\n",
    "def driver_speed_chk(speed):\n",
    "    if speed<70:\n",
    "        print(\"OK\")\n",
    "    elif speed>70 and speed<=(70+12*5):\n",
    "        print(\"Demerit points:\",(speed-70)/5)\n",
    "    elif ((speed-70)/5) > 12:\n",
    "        print(\"License Suspended\")\n",
    "    else:\n",
    "        pass\n",
    "\n",
    "driver_speed_chk(200)"
   ]
  },
  {
   "cell_type": "code",
   "execution_count": 4,
   "id": "a3c07976",
   "metadata": {},
   "outputs": [
    {
     "name": "stdout",
     "output_type": "stream",
     "text": [
      "sum of common multiples: 45\n",
      "sum of multiples of both 3 and 5: 225\n"
     ]
    }
   ],
   "source": [
    "#12.Write a function that returns the sum of multiples of 3 and 5 between 0 and limit (parameter). add another function which can calculate the sum of common multiples of 3 and 5\n",
    "\n",
    "def sum_multilpes(limit):\n",
    "    result = 0\n",
    "    \n",
    "    def common_multiples(limit):\n",
    "        common_mul = 0\n",
    "        for j in range(limit):\n",
    "            if j%3==0 and j%5==0:\n",
    "                common_mul = common_mul+j\n",
    "                j+=1\n",
    "        return(common_mul)\n",
    "    print('sum of common multiples:',common_multiples(31))\n",
    "    \n",
    "    for i in range(limit):\n",
    "        if i%3==0 or i%5==0:\n",
    "            result = result+i\n",
    "            i+=1\n",
    "    return(result)\n",
    "\n",
    "print('sum of multiples of both 3 and 5:',sum_multilpes(31))"
   ]
  },
  {
   "cell_type": "code",
   "execution_count": null,
   "id": "4a222d2b",
   "metadata": {},
   "outputs": [],
   "source": []
  },
  {
   "cell_type": "code",
   "execution_count": null,
   "id": "d6c285f5",
   "metadata": {},
   "outputs": [],
   "source": []
  }
 ],
 "metadata": {
  "kernelspec": {
   "display_name": "Python 3 (ipykernel)",
   "language": "python",
   "name": "python3"
  },
  "language_info": {
   "codemirror_mode": {
    "name": "ipython",
    "version": 3
   },
   "file_extension": ".py",
   "mimetype": "text/x-python",
   "name": "python",
   "nbconvert_exporter": "python",
   "pygments_lexer": "ipython3",
   "version": "3.9.7"
  }
 },
 "nbformat": 4,
 "nbformat_minor": 5
}
