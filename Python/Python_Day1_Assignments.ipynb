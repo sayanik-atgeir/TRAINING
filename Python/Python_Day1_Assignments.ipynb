{
 "cells": [
  {
   "cell_type": "code",
   "execution_count": 1,
   "id": "0b34ac25",
   "metadata": {},
   "outputs": [
    {
     "name": "stdout",
     "output_type": "stream",
     "text": [
      "3.9.7\n"
     ]
    }
   ],
   "source": [
    "##2.Using platform module Write a Python program to get the Python version you are using\n",
    "from platform import python_version\n",
    "print(python_version())"
   ]
  },
  {
   "cell_type": "code",
   "execution_count": 2,
   "id": "d5807036",
   "metadata": {},
   "outputs": [
    {
     "name": "stdout",
     "output_type": "stream",
     "text": [
      "2022-06-30 15:05:22.319826\n"
     ]
    }
   ],
   "source": [
    "#3.Using datetime module Display the current date and time\n",
    "\n",
    "import datetime\n",
    "current_time = datetime.datetime.now()\n",
    "print(current_time)"
   ]
  },
  {
   "cell_type": "code",
   "execution_count": null,
   "id": "12f9c940",
   "metadata": {},
   "outputs": [],
   "source": [
    "#4.What is a doc string? Write command to print doc string of any builtin function\n",
    "--Python docstrings are the string literals that appear right after the definition of a function, method, class or module"
   ]
  },
  {
   "cell_type": "code",
   "execution_count": 3,
   "id": "0da28d59",
   "metadata": {},
   "outputs": [
    {
     "name": "stdout",
     "output_type": "stream",
     "text": [
      "this is the first assignment of python\n",
      "    There are 16 questions in this assignment.\n"
     ]
    }
   ],
   "source": [
    "def my_function():\n",
    "    \"\"\"this is the first assignment of python\n",
    "    There are 16 questions in this assignment.\"\"\"\n",
    "   \n",
    "    return None\n",
    "\n",
    "print(my_function.__doc__)"
   ]
  },
  {
   "cell_type": "code",
   "execution_count": 4,
   "id": "49cddc37",
   "metadata": {},
   "outputs": [
    {
     "name": "stdout",
     "output_type": "stream",
     "text": [
      "year : 2021\n",
      "month : 05\n",
      "      May 2021\n",
      "Mo Tu We Th Fr Sa Su\n",
      "                1  2\n",
      " 3  4  5  6  7  8  9\n",
      "10 11 12 13 14 15 16\n",
      "17 18 19 20 21 22 23\n",
      "24 25 26 27 28 29 30\n",
      "31\n",
      "\n"
     ]
    }
   ],
   "source": [
    "#5.Write a Python program to print the calendar of a given month and year.Note : Use 'calendar' module\n",
    "\n",
    "import calendar\n",
    "y = int(input(\"year : \"))\n",
    "m = int(input(\"month : \"))\n",
    "print(calendar.month(y, m))"
   ]
  },
  {
   "cell_type": "code",
   "execution_count": 8,
   "id": "a057c282",
   "metadata": {},
   "outputs": [
    {
     "name": "stdout",
     "output_type": "stream",
     "text": [
      "7\n"
     ]
    }
   ],
   "source": [
    "#6.Print a random number using random module\n",
    "\n",
    "import random\n",
    "print(random.randint(0,9))"
   ]
  },
  {
   "cell_type": "code",
   "execution_count": 12,
   "id": "2b785605",
   "metadata": {},
   "outputs": [
    {
     "name": "stdout",
     "output_type": "stream",
     "text": [
      "13\n",
      "45\n"
     ]
    }
   ],
   "source": [
    "#7.Write a Python program to calculate the sum of three given numbers, if the values are equal then return three times of their sum.\n",
    "\n",
    "def add1(x, y, z):\n",
    "\n",
    "     add1 = x + y + z\n",
    "  \n",
    "     if x==y==z:\n",
    "      add1 = add1 * 3\n",
    "     return add1\n",
    "    \n",
    "print(add1(2,5,6))\n",
    "print(add1(5,5,5))"
   ]
  },
  {
   "cell_type": "code",
   "execution_count": 13,
   "id": "ffa6766b",
   "metadata": {},
   "outputs": [
    {
     "name": "stdout",
     "output_type": "stream",
     "text": [
      "<class 'int'>\n",
      "<class 'str'>\n",
      "<class 'float'>\n",
      "<class 'bool'>\n"
     ]
    }
   ],
   "source": [
    "# 8.To print different kinds of variables and their types like float,int,string,boolean\n",
    "\n",
    "print(type(2))\n",
    "print(type('sayanik'))\n",
    "print(type(5.89))\n",
    "print(type(False))"
   ]
  },
  {
   "cell_type": "code",
   "execution_count": 18,
   "id": "e0571a68",
   "metadata": {},
   "outputs": [
    {
     "name": "stdout",
     "output_type": "stream",
     "text": [
      "sum of two complex no is : (3+2j)\n"
     ]
    }
   ],
   "source": [
    "#9.Write a program which can add two complex numbers.\n",
    "\n",
    "a = 1+5j\n",
    "b = 2-3j\n",
    "print(\"sum of two complex no is :\",a+b)"
   ]
  },
  {
   "cell_type": "code",
   "execution_count": 19,
   "id": "5cba6dd1",
   "metadata": {},
   "outputs": [
    {
     "name": "stdout",
     "output_type": "stream",
     "text": [
      "no1: 25\n",
      "no2: 45\n",
      "no1: 45\n",
      "no2: 25\n"
     ]
    }
   ],
   "source": [
    "#10.Write a program to swap two numbers without using third variable\n",
    "\n",
    "x = int(input(\"no1: \"))\n",
    "y = int(input(\"no2: \"))\n",
    "x=x-y\n",
    "y=x+y\n",
    "x=y-x\n",
    "print(\"no1:\",x);\n",
    "print(\"no2:\",y);"
   ]
  },
  {
   "cell_type": "code",
   "execution_count": 21,
   "id": "1b034749",
   "metadata": {},
   "outputs": [
    {
     "name": "stdout",
     "output_type": "stream",
     "text": [
      "Hello World\n"
     ]
    }
   ],
   "source": [
    "#11.Write a program to print message on single line \n",
    "\n",
    "print('Hello',end = ' ')\n",
    "print('World')"
   ]
  },
  {
   "cell_type": "code",
   "execution_count": 24,
   "id": "10917ed8",
   "metadata": {},
   "outputs": [
    {
     "name": "stdout",
     "output_type": "stream",
     "text": [
      "10.0\n",
      "<class 'float'>\n"
     ]
    }
   ],
   "source": [
    "# 12.List out the different types of type casting in python (e.g. int to float)\n",
    "# string to float\n",
    "a = 10\n",
    "b = float(a)\n",
    "print(b)\n",
    "print(type(b))"
   ]
  },
  {
   "cell_type": "code",
   "execution_count": 25,
   "id": "b177adef",
   "metadata": {},
   "outputs": [
    {
     "name": "stdout",
     "output_type": "stream",
     "text": [
      "1\n",
      "<class 'int'>\n"
     ]
    }
   ],
   "source": [
    "# float to int\n",
    "a = 1.56\n",
    "b = int(a)\n",
    "print(b)\n",
    "print(type(b))"
   ]
  },
  {
   "cell_type": "code",
   "execution_count": 26,
   "id": "a18b4cde",
   "metadata": {},
   "outputs": [
    {
     "name": "stdout",
     "output_type": "stream",
     "text": [
      "10\n",
      "<class 'str'>\n"
     ]
    }
   ],
   "source": [
    "# int to string\n",
    "a = 10\n",
    "b = str(a)\n",
    "print(b)\n",
    "print(type(b))"
   ]
  },
  {
   "cell_type": "code",
   "execution_count": 27,
   "id": "faa181b9",
   "metadata": {},
   "outputs": [
    {
     "name": "stdout",
     "output_type": "stream",
     "text": [
      "10\n",
      "<class 'int'>\n"
     ]
    }
   ],
   "source": [
    "# string to int\n",
    "a = '10'\n",
    "b = int(a)\n",
    "print(b)\n",
    "print(type(b))"
   ]
  },
  {
   "cell_type": "code",
   "execution_count": 28,
   "id": "51621d5e",
   "metadata": {},
   "outputs": [
    {
     "name": "stdout",
     "output_type": "stream",
     "text": [
      "10.89\n",
      "<class 'str'>\n"
     ]
    }
   ],
   "source": [
    "# float to string\n",
    "a = 10.89\n",
    "b = str(a)\n",
    "print(b)\n",
    "print(type(b))"
   ]
  },
  {
   "cell_type": "code",
   "execution_count": 29,
   "id": "9825d4f0",
   "metadata": {},
   "outputs": [
    {
     "name": "stdout",
     "output_type": "stream",
     "text": [
      "10.89\n",
      "<class 'float'>\n"
     ]
    }
   ],
   "source": [
    "# string to float\n",
    "a = '10.89'\n",
    "b = float(a)\n",
    "print(b)\n",
    "print(type(b))"
   ]
  },
  {
   "cell_type": "code",
   "execution_count": 30,
   "id": "2075702c",
   "metadata": {},
   "outputs": [
    {
     "name": "stdout",
     "output_type": "stream",
     "text": [
      "radius:4.0\n",
      "circle area : 50.26548245743669\n"
     ]
    }
   ],
   "source": [
    "# 13. Program to calculate area of circle by using math module function\n",
    "\n",
    "from math import pi\n",
    "radius = float(input(\"radius:\"))\n",
    "print (\"circle area :\",(pi * radius**2))"
   ]
  },
  {
   "cell_type": "code",
   "execution_count": 32,
   "id": "a2a94ea9",
   "metadata": {},
   "outputs": [
    {
     "name": "stdout",
     "output_type": "stream",
     "text": [
      "basic salary :5000\n",
      "gross salary: 8000.0\n"
     ]
    }
   ],
   "source": [
    "# 14. Assume suitable value for Ramesh's basic salary. His dearness allowance is 40% of basic salary and house rent allowance is 20% of basic salary. Calculte his gross salary (basic+dearness+hra=gross)\n",
    "\n",
    "basic_sal = float(input(\"basic salary :\"))\n",
    "gross_sal = basic_sal + (0.40 * basic_sal) + (0.20 * basic_sal)\n",
    "print(\"gross salary:\",gross_sal)"
   ]
  },
  {
   "cell_type": "code",
   "execution_count": 36,
   "id": "2a21a5c5",
   "metadata": {},
   "outputs": [
    {
     "name": "stdout",
     "output_type": "stream",
     "text": [
      "value in km :8.98\n",
      "km to meter: 8980.0 mt\n",
      "km to feet: 29461.9432 ft\n",
      "km to inches: 353543.30942 inch\n",
      "km to centimeter: 898000.0 cm\n"
     ]
    }
   ],
   "source": [
    "#15. 15. Take input of distance between two cities in Km convert this value in meters, feet, inches and centimeters\n",
    "\n",
    "km = float(input('value in km :'))\n",
    "meter = km * 1000\n",
    "feet = km * 3280.84\n",
    "inches = km * 39370.079\n",
    "centimeter = km * 100000\n",
    "\n",
    "print('km to meter:',meter,'mt')\n",
    "print('km to feet:',feet,'ft')\n",
    "print('km to inches:',inches,'inch')\n",
    "print('km to centimeter:',centimeter,'cm')"
   ]
  },
  {
   "cell_type": "code",
   "execution_count": 38,
   "id": "2bbb1dab",
   "metadata": {},
   "outputs": [
    {
     "name": "stdout",
     "output_type": "stream",
     "text": [
      "8.97\n"
     ]
    }
   ],
   "source": [
    "#Display float number with 2 decimal places using print().\n",
    "\n",
    "num = 8.9653\n",
    "num_new = \"{:.2f}\".format(num)\n",
    "print(num_new)"
   ]
  },
  {
   "cell_type": "code",
   "execution_count": null,
   "id": "28551ad5",
   "metadata": {},
   "outputs": [],
   "source": []
  },
  {
   "cell_type": "code",
   "execution_count": null,
   "id": "84b56ed8",
   "metadata": {},
   "outputs": [],
   "source": []
  },
  {
   "cell_type": "code",
   "execution_count": null,
   "id": "fe15c847",
   "metadata": {},
   "outputs": [],
   "source": []
  },
  {
   "cell_type": "code",
   "execution_count": null,
   "id": "cb989280",
   "metadata": {},
   "outputs": [],
   "source": []
  },
  {
   "cell_type": "code",
   "execution_count": null,
   "id": "a6b46b31",
   "metadata": {},
   "outputs": [],
   "source": []
  },
  {
   "cell_type": "code",
   "execution_count": null,
   "id": "5392cf3b",
   "metadata": {},
   "outputs": [],
   "source": []
  }
 ],
 "metadata": {
  "kernelspec": {
   "display_name": "Python 3 (ipykernel)",
   "language": "python",
   "name": "python3"
  },
  "language_info": {
   "codemirror_mode": {
    "name": "ipython",
    "version": 3
   },
   "file_extension": ".py",
   "mimetype": "text/x-python",
   "name": "python",
   "nbconvert_exporter": "python",
   "pygments_lexer": "ipython3",
   "version": "3.9.7"
  }
 },
 "nbformat": 4,
 "nbformat_minor": 5
}
