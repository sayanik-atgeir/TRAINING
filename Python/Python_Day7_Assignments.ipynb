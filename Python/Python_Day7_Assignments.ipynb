{
 "cells": [
  {
   "cell_type": "code",
   "execution_count": null,
   "id": "ec5a7f76",
   "metadata": {},
   "outputs": [],
   "source": [
    "## Python DAY:7"
   ]
  },
  {
   "cell_type": "code",
   "execution_count": 82,
   "id": "ef54a485",
   "metadata": {
    "scrolled": true
   },
   "outputs": [
    {
     "name": "stdout",
     "output_type": "stream",
     "text": [
      "Random alphabatical string T\n",
      "Random number between two int: 3\n",
      "random Multiple of 7 : 35\n"
     ]
    }
   ],
   "source": [
    "#1.Write a Python program to generate a random alphabetical string, random value between two integers (inclusive) and a random multiple of 7 between 0 and 70. \n",
    "\n",
    "import random\n",
    "import string\n",
    "\n",
    "str1 = random.choice(string.ascii_letters)\n",
    "print(\"Random alphabatical string\",str1)\n",
    "\n",
    "num = random.randint(1,4)\n",
    "print(\"Random number between two int:\",num)\n",
    "\n",
    "mlti_7 = random.randrange(0,70, 7)\n",
    "print(\"random Multiple of 7 :\",mlti_7)"
   ]
  },
  {
   "cell_type": "code",
   "execution_count": 102,
   "id": "948ff034",
   "metadata": {},
   "outputs": [
    {
     "name": "stdout",
     "output_type": "stream",
     "text": [
      "sayanik\n",
      "Mukherjee\n"
     ]
    }
   ],
   "source": [
    "#2.Write a python program to create a package (Atgeir),subpackage(Data),modules(Learner) and create read and write function to module\n",
    "\n",
    "from Atgeir.Data.learner import *\n",
    "\n",
    "print(read('sayanik'))\n",
    "print(write('Mukherjee'))"
   ]
  },
  {
   "cell_type": "code",
   "execution_count": 93,
   "id": "10b75f69",
   "metadata": {},
   "outputs": [
    {
     "name": "stdout",
     "output_type": "stream",
     "text": [
      "birth day: 1959-01-22\n",
      "Today: 2022-07-08\n",
      "Nextbirthday : 2023-01-22\n",
      "days left for next birthday: 198\n"
     ]
    }
   ],
   "source": [
    "#3.write a python program to print the no. of days to reach your birthday from today\n",
    "\n",
    "import datetime\n",
    "\n",
    "birth = datetime.date(1959,1,22)\n",
    "print(\"birth day:\",birth)\n",
    "\n",
    "today = datetime.date.today()\n",
    "print(\"Today:\",today)\n",
    "\n",
    "if (today.month==birth.month and today.day>=birth.day or today.month > birth.month):\n",
    "    nextbirthyear=today.year +1\n",
    "else:\n",
    "    nextbirthyear=today.year\n",
    "    \n",
    "nextbirthday = datetime.date(nextbirthyear,birth.month,birth.day)\n",
    "print(\"Nextbirthday :\",nextbirthday)\n",
    "\n",
    "differnece = nextbirthday-today\n",
    "print(\"days left for next birthday:\",differnece.days)"
   ]
  },
  {
   "cell_type": "code",
   "execution_count": 97,
   "id": "4ecf3d75",
   "metadata": {},
   "outputs": [
    {
     "name": "stdout",
     "output_type": "stream",
     "text": [
      "\n",
      "Please wait a moment while I gather a list of all available modules...\n",
      "\n"
     ]
    },
    {
     "name": "stderr",
     "output_type": "stream",
     "text": [
      "C:\\Users\\SAYANIK\\anaconda3\\lib\\pkgutil.py:93: MatplotlibDeprecationWarning: \n",
      "The matplotlib.compat module was deprecated in Matplotlib 3.3 and will be removed two minor releases later.\n",
      "  __import__(info.name)\n",
      "C:\\Users\\SAYANIK\\anaconda3\\lib\\site-packages\\nltk\\twitter\\__init__.py:20: UserWarning: The twython library has not been installed. Some functionality from the twitter package will not be available.\n",
      "  warnings.warn(\n"
     ]
    },
    {
     "name": "stdout",
     "output_type": "stream",
     "text": [
      "Update LANGUAGE_CODES (inside config/base.py) if a new translation has been added to Spyder\n"
     ]
    },
    {
     "name": "stderr",
     "output_type": "stream",
     "text": [
      "QSS file sucessfuly loaded.\n",
      "Found application patches to be applied.\n",
      "No QCoreApplication instance found. Application patches not applied. You have to call load_stylesheet function after instantiation of QApplication to take effect. \n",
      "C:\\Users\\SAYANIK\\anaconda3\\lib\\pkgutil.py:108: VisibleDeprecationWarning: zmq.eventloop.minitornado is deprecated in pyzmq 14.0 and will be removed.\n",
      "    Install tornado itself to use zmq with the tornado IOLoop.\n",
      "    \n",
      "  yield from walk_packages(path, info.name+'.', onerror)\n"
     ]
    },
    {
     "name": "stdout",
     "output_type": "stream",
     "text": [
      "Cython              codecs              modulefinder        sortedcontainers\n",
      "IPython             codeop              more_itertools      soupsieve\n",
      "OpenSSL             collections         mpmath              sphinx\n",
      "PIL                 colorama            msgpack             sphinxcontrib\n",
      "PyQt5               colorsys            msilib              spyder\n",
      "TBB                 commctrl            msvcrt              spyder_kernels\n",
      "__future__          compileall          multipledispatch    sqlalchemy\n",
      "_abc                comtypes            multiprocessing     sqlite3\n",
      "_aix_support        concurrent          munkres             sre_compile\n",
      "_ast                conda               mypy_extensions     sre_constants\n",
      "_asyncio            conda_build         nacl                sre_parse\n",
      "_bisect             conda_content_trust navigator_updater   ssl\n",
      "_black_version      conda_env           nbclassic           sspi\n",
      "_blake2             conda_pack          nbclient            sspicon\n",
      "_bootlocale         conda_package_handling nbconvert           stat\n",
      "_bootsubprocess     conda_token         nbformat            statistics\n",
      "_bz2                conda_verify        nest_asyncio        statsmodels\n",
      "_cffi_backend       configparser        netbios             storemagic\n",
      "_codecs             contextlib          netrc               string\n",
      "_codecs_cn          contextlib2         networkx            stringprep\n",
      "_codecs_hk          contextvars         nltk                struct\n",
      "_codecs_iso2022     cookiecutter        nntplib             subprocess\n",
      "_codecs_jp          copy                nose                sunau\n",
      "_codecs_kr          copyreg             notebook            symbol\n",
      "_codecs_tw          crypt               nt                  sympy\n",
      "_collections        cryptography        ntpath              sympyprinting\n",
      "_collections_abc    csv                 ntsecuritycon       symtable\n",
      "_compat_pickle      ctypes              nturl2path          sys\n",
      "_compression        curl                numba               sysconfig\n",
      "_contextvars        curses              numbers             tables\n",
      "_csv                cwp                 numexpr             tabnanny\n",
      "_ctypes             cycler              numpy               tarfile\n",
      "_ctypes_test        cython              numpydoc            tbb\n",
      "_daal4py            cythonmagic         odbc                tblib\n",
      "_datetime           cytoolz             olefile             telnetlib\n",
      "_decimal            daal4py             onedal              tempfile\n",
      "_distutils_hack     dask                opcode              terminado\n",
      "_elementtree        dataclasses         openpyxl            test\n",
      "_functools          datetime            operator            test_data\n",
      "_hashlib            dateutil            optparse            test_pycosat\n",
      "_heapq              dbi                 os                  testpath\n",
      "_imp                dbm                 packaging           tests\n",
      "_io                 dde                 pandas              text_unidecode\n",
      "_json               debugpy             pandocfilters       textdistance\n",
      "_locale             decimal             paramiko            textwrap\n",
      "_lsprof             decorator           parser              this\n",
      "_lzma               defusedxml          parso               threading\n",
      "_markupbase         diff_match_patch    partd               threadpoolctl\n",
      "_md5                difflib             past                three_merge\n",
      "_msi                dis                 path                tifffile\n",
      "_multibytecodec     distributed         pathlib             time\n",
      "_multiprocessing    distutils           pathlib2            timeit\n",
      "_nsis               doctest             pathspec            timer\n",
      "_onedal4py_host     docutils            patsy               tinycss\n",
      "_opcode             email               pdb                 tkinter\n",
      "_operator           encodings           pep8                tlz\n",
      "_osx_support        ensurepip           perfmon             token\n",
      "_overlapped         entrypoints         pexpect             tokenize\n",
      "_peg_parser         enum                pickle              toml\n",
      "_pickle             erfa                pickleshare         toolz\n",
      "_py_abc             errno               pickletools         tornado\n",
      "_pydecimal          et_xmlfile          pip                 tqdm\n",
      "_pyio               fastcache           pipes               trace\n",
      "_pyrsistent_version faulthandler        pkg_resources       traceback\n",
      "_pytest             filecmp             pkginfo             tracemalloc\n",
      "_queue              fileinput           pkgutil             traitlets\n",
      "_random             filelock            platform            tty\n",
      "_sha1               flake8              plistlib            turtle\n",
      "_sha256             flask               pluggy              turtledemo\n",
      "_sha3               fnmatch             ply                 typed_ast\n",
      "_sha512             fontTools           poplib              types\n",
      "_signal             formatter           posixpath           typing\n",
      "_sitebuiltins       fractions           poyo                typing_extensions\n",
      "_socket             fsspec              pprint              ujson\n",
      "_sqlite3            ftplib              profile             unicodecsv\n",
      "_sre                functools           prometheus_client   unicodedata\n",
      "_ssl                future              prompt_toolkit      unidecode\n",
      "_stat               gc                  pstats              unittest\n",
      "_statistics         genericpath         psutil              urllib\n",
      "_string             getopt              pty                 urllib3\n",
      "_strptime           getpass             ptyprocess          uu\n",
      "_struct             gettext             pvectorc            uuid\n",
      "_symtable           gevent              py                  venv\n",
      "_system_path        glob                py_compile          warnings\n",
      "_testbuffer         glob2               pyclbr              watchdog\n",
      "_testcapi           graphlib            pycodestyle         wave\n",
      "_testconsole        greenlet            pycosat             wcwidth\n",
      "_testimportmultiple gzip                pycparser           weakref\n",
      "_testinternalcapi   h5py                pycurl              webbrowser\n",
      "_testmultiphase     hashlib             pydoc               webencodings\n",
      "_thread             heapdict            pydoc_data          werkzeug\n",
      "_threading_local    heapq               pydocstyle          wheel\n",
      "_tkinter            hmac                pyexpat             whichcraft\n",
      "_tracemalloc        html                pyflakes            widgetsnbextension\n",
      "_uuid               html5lib            pygments            win2kras\n",
      "_warnings           http                pylab               win32api\n",
      "_weakref            idlelib             pylint              win32clipboard\n",
      "_weakrefset         idna                pyls_spyder         win32com\n",
      "_win32sysloader     imagecodecs         pylsp               win32con\n",
      "_winapi             imageio             pylsp_black         win32console\n",
      "_winxptheme         imagesize           pylsp_jsonrpc       win32cred\n",
      "_xxsubinterpreters  imaplib             pyodbc              win32crypt\n",
      "_yaml               imghdr              pyparsing           win32cryptcon\n",
      "_zoneinfo           imp                 pyreadline          win32ctypes\n",
      "abc                 importlib           pyrsistent          win32event\n",
      "adodbapi            importlib_metadata  pytest              win32evtlog\n",
      "afxres              inflection          pythoncom           win32evtlogutil\n",
      "aifc                iniconfig           pytz                win32file\n",
      "alabaster           inspect             pywin               win32gui\n",
      "anaconda_navigator  intervaltree        pywin32_bootstrap   win32gui_struct\n",
      "anaconda_project    io                  pywin32_testutil    win32help\n",
      "antigravity         ipaddress           pywintypes          win32inet\n",
      "anyio               ipykernel           pywt                win32inetcon\n",
      "appdirs             ipykernel_launcher  pyximport           win32job\n",
      "argh                ipython_genutils    qdarkstyle          win32lz\n",
      "argon2              ipywidgets          qstylizer           win32net\n",
      "argparse            isapi               qtawesome           win32netcon\n",
      "array               isort               qtconsole           win32pdh\n",
      "arrow               isympy              qtpy                win32pdhquery\n",
      "asn1crypto          itertools           queue               win32pdhutil\n",
      "ast                 itsdangerous        quopri              win32pipe\n",
      "astroid             jdcal               random              win32print\n",
      "astropy             jedi                rasutil             win32process\n",
      "async_generator     jinja2              re                  win32profile\n",
      "asynchat            jinja2_time         readline            win32ras\n",
      "asyncio             joblib              regcheck            win32rcparser\n",
      "asyncore            json                regex               win32security\n",
      "atexit              json5               regutil             win32service\n",
      "atomicwrites        jsonschema          repo_cli            win32serviceutil\n",
      "attr                jupyter             reprlib             win32timezone\n",
      "audioop             jupyter_client      requests            win32trace\n",
      "autopep8            jupyter_console     rlcompleter         win32traceutil\n",
      "autoreload          jupyter_core        rmagic              win32transaction\n",
      "babel               jupyter_server      rope                win32ts\n",
      "backcall            jupyterlab          rtree               win32ui\n",
      "backports           jupyterlab_pygments ruamel_yaml         win32uiole\n",
      "base64              jupyterlab_server   run                 win32verstamp\n",
      "bcrypt              jupyterlab_widgets  runpy               win32wnet\n",
      "bdb                 jwt                 sched               win_inet_pton\n",
      "binaryornot         keyring             scipy               win_unicode_console\n",
      "binascii            keyword             scripts             wincertstore\n",
      "binhex              kiwisolver          seaborn             winerror\n",
      "binstar_client      lazy_object_proxy   secrets             winioctlcon\n",
      "bisect              lib2to3             select              winnt\n",
      "bitarray            libarchive          selectors           winperf\n",
      "bkcharts            libfuturize         send2trash          winpty\n",
      "black               libpasteurize       servicemanager      winreg\n",
      "blackd              lief                setuptools          winsound\n",
      "bleach              linecache           shelve              winxpgui\n",
      "blib2to3            llvmlite            shlex               winxptheme\n",
      "bokeh               locale              shutil              wrapt\n",
      "boto                locket              signal              wsgiref\n",
      "bottleneck          logging             simplegeneric       xdrlib\n",
      "brotli              lxml                singledispatch      xlrd\n",
      "bs4                 lzma                sip                 xlsxwriter\n",
      "builtins            mailbox             sipconfig           xlwings\n",
      "bz2                 mailcap             sipdistutils        xlwt\n",
      "cProfile            markupsafe          site                xml\n",
      "cached_property     marshal             six                 xmlrpc\n",
      "calendar            math                skimage             xmltodict\n",
      "certifi             matplotlib          sklearn             xxsubtype\n",
      "cffi                matplotlib_inline   sklearnex           yaml\n",
      "cgi                 mccabe              slugify             yapf\n",
      "cgitb               menuinst            smtpd               yapftests\n",
      "chardet             mimetypes           smtplib             zict\n",
      "charset_normalizer  mistune             sndhdr              zipapp\n",
      "chunk               mkl                 sniffio             zipfile\n",
      "click               mkl_fft             snowballstemmer     zipimport\n",
      "cloudpickle         mkl_random          socket              zipp\n",
      "clyent              mmap                socketserver        zlib\n",
      "cmath               mmapfile            socks               zmq\n",
      "cmd                 mmsystem            sockshandler        zoneinfo\n",
      "code                mock                sortedcollections   zope\n",
      "\n",
      "Enter any module name to get more help.  Or, type \"modules spam\" to search\n",
      "for modules whose name or summary contain the string \"spam\".\n",
      "\n"
     ]
    }
   ],
   "source": [
    "#4.Write a Python program to get a list of locally installed Python modules\n",
    "\n",
    "help('modules')"
   ]
  },
  {
   "cell_type": "code",
   "execution_count": 9,
   "id": "3196bcd7",
   "metadata": {},
   "outputs": [
    {
     "name": "stdout",
     "output_type": "stream",
     "text": [
      "Requirement already satisfied: numpy in c:\\users\\sayanik\\anaconda3\\lib\\site-packages (1.20.3)\n"
     ]
    }
   ],
   "source": [
    "import numpy as np\n",
    "!pip install numpy"
   ]
  },
  {
   "cell_type": "code",
   "execution_count": 28,
   "id": "92ad26c0",
   "metadata": {},
   "outputs": [
    {
     "data": {
      "text/plain": [
       "array([0., 0., 0., 0., 0., 0., 0., 0., 0., 0.])"
      ]
     },
     "execution_count": 28,
     "metadata": {},
     "output_type": "execute_result"
    }
   ],
   "source": [
    "#5.a) A 1-D array called ‘zeros’ having 10 elements and all the elements are set to zero.\n",
    "zeros = np.zeros(10)\n",
    "zeros"
   ]
  },
  {
   "cell_type": "code",
   "execution_count": 16,
   "id": "797d4d64",
   "metadata": {},
   "outputs": [
    {
     "data": {
      "text/plain": [
       "array(['a', 'e', 'i', 'o', 'u'], dtype='<U1')"
      ]
     },
     "execution_count": 16,
     "metadata": {},
     "output_type": "execute_result"
    }
   ],
   "source": [
    "#5.b) 1-D array called ‘vowels’ having the elements ‘a’, ‘e’, ‘i’, ‘o’ and ‘u’.\n",
    "\n",
    "vowels = np.array(['a','e','i','o','u'])\n",
    "vowels"
   ]
  },
  {
   "cell_type": "code",
   "execution_count": 29,
   "id": "c8b9be0c",
   "metadata": {},
   "outputs": [
    {
     "data": {
      "text/plain": [
       "array([[1, 1, 1, 1, 1],\n",
       "       [1, 1, 1, 1, 1]])"
      ]
     },
     "execution_count": 29,
     "metadata": {},
     "output_type": "execute_result"
    }
   ],
   "source": [
    "#5.c) A 2-D array called ‘ones’ having 2 rows and 5 columns and all the elements are set to 1 and dtype as int\n",
    "\n",
    "ones = np.ones((2,5),dtype=int)\n",
    "ones"
   ]
  },
  {
   "cell_type": "code",
   "execution_count": 21,
   "id": "1678a55e",
   "metadata": {},
   "outputs": [
    {
     "data": {
      "text/plain": [
       "array([[  2.7,  -2. , -19. ],\n",
       "       [  0. ,   3.4,  99.9],\n",
       "       [ 10.6,   0. ,   1. ]])"
      ]
     },
     "execution_count": 21,
     "metadata": {},
     "output_type": "execute_result"
    }
   ],
   "source": [
    "#5.d) Use nested Python lists to create a 2-D array called myarray1 having 3 rows and 3 columns and store the following data: 2.7, -2, -19, 0, 3.4, 99.9, 10.6, 0, 13\n",
    "\n",
    "lst1 = [[2.7, -2, -19], [0, 3.4, 99.9], [10.6, 0, 1]]\n",
    "myarray1 = np.array(lst1)\n",
    "myarray1\n",
    "#print(myarray1.shape)"
   ]
  },
  {
   "cell_type": "code",
   "execution_count": 49,
   "id": "7eca4e39",
   "metadata": {},
   "outputs": [
    {
     "data": {
      "text/plain": [
       "array([[ 4.,  8., 12., 16., 20.],\n",
       "       [24., 28., 32., 36., 40.],\n",
       "       [44., 48., 52., 56., 60.]])"
      ]
     },
     "execution_count": 49,
     "metadata": {},
     "output_type": "execute_result"
    }
   ],
   "source": [
    "#5.e) A 2-D array called myarray2 using arange() having 3 rows and 5 columns with start value = 4, step size 4 and dtype as float\n",
    "\n",
    "myarray2 = np.arange(4,64,4,dtype=float).reshape(3,5)\n",
    "myarray2"
   ]
  },
  {
   "cell_type": "code",
   "execution_count": 35,
   "id": "1049e4d3",
   "metadata": {},
   "outputs": [
    {
     "name": "stdout",
     "output_type": "stream",
     "text": [
      "(10,)\n",
      "10\n",
      "1\n",
      "float64\n",
      "8\n"
     ]
    }
   ],
   "source": [
    "#6.a) Find the dimensions, shape, size, data type of the items and itemsize of arrays ‘zeros’, ‘vowels’, ‘ones’, myarray1 and myarray2\n",
    "\n",
    "print(zeros.shape)\n",
    "print(zeros.size)\n",
    "print(zeros.ndim)\n",
    "print(zeros.dtype)\n",
    "print(zeros.itemsize)   # returns the size (in bytes) of each element of a NumPy array"
   ]
  },
  {
   "cell_type": "code",
   "execution_count": 36,
   "id": "57d3c19a",
   "metadata": {},
   "outputs": [
    {
     "name": "stdout",
     "output_type": "stream",
     "text": [
      "(5,)\n",
      "5\n",
      "1\n",
      "<U1\n",
      "4\n"
     ]
    }
   ],
   "source": [
    "# array vowels\n",
    "print(vowels.shape)\n",
    "print(vowels.size)\n",
    "print(vowels.ndim)\n",
    "print(vowels.dtype)\n",
    "print(vowels.itemsize)"
   ]
  },
  {
   "cell_type": "code",
   "execution_count": 37,
   "id": "b2698ce2",
   "metadata": {},
   "outputs": [
    {
     "name": "stdout",
     "output_type": "stream",
     "text": [
      "(2, 5)\n",
      "10\n",
      "2\n",
      "int32\n",
      "4\n"
     ]
    }
   ],
   "source": [
    "# array ones\n",
    "print(ones.shape)\n",
    "print(ones.size)\n",
    "print(ones.ndim)\n",
    "print(ones.dtype)\n",
    "print(ones.itemsize)"
   ]
  },
  {
   "cell_type": "code",
   "execution_count": 38,
   "id": "328816ac",
   "metadata": {},
   "outputs": [
    {
     "name": "stdout",
     "output_type": "stream",
     "text": [
      "(3, 3)\n",
      "9\n",
      "2\n",
      "float64\n",
      "8\n"
     ]
    }
   ],
   "source": [
    "#array myarray1 \n",
    "print(myarray1.shape)\n",
    "print(myarray1.size)\n",
    "print(myarray1.ndim)\n",
    "print(myarray1.dtype)\n",
    "print(myarray1.itemsize)"
   ]
  },
  {
   "cell_type": "code",
   "execution_count": 39,
   "id": "b56c8ba1",
   "metadata": {},
   "outputs": [
    {
     "name": "stdout",
     "output_type": "stream",
     "text": [
      "(3, 5)\n",
      "15\n",
      "2\n",
      "float64\n",
      "8\n"
     ]
    }
   ],
   "source": [
    "#array myarray2\n",
    "print(myarray2.shape)\n",
    "print(myarray2.size)\n",
    "print(myarray2.ndim)\n",
    "print(myarray2.dtype)\n",
    "print(myarray2.itemsize)"
   ]
  },
  {
   "cell_type": "code",
   "execution_count": 42,
   "id": "79c15cd6",
   "metadata": {},
   "outputs": [
    {
     "data": {
      "text/plain": [
       "array([[1, 1, 1, 1, 1, 1, 1, 1, 1, 1]])"
      ]
     },
     "execution_count": 42,
     "metadata": {},
     "output_type": "execute_result"
    }
   ],
   "source": [
    "#6.b) Reshape the array ‘ones’ to have all the 10 elements in a single row.\n",
    "\n",
    "ones_1 = ones.reshape(1,10)\n",
    "ones_1"
   ]
  },
  {
   "cell_type": "code",
   "execution_count": 46,
   "id": "d0b60d20",
   "metadata": {},
   "outputs": [
    {
     "data": {
      "text/plain": [
       "array(['e', 'i'], dtype='<U1')"
      ]
     },
     "execution_count": 46,
     "metadata": {},
     "output_type": "execute_result"
    }
   ],
   "source": [
    "#6.c) Display the 2nd and 3rd element of the array ‘vowels’\n",
    "\n",
    "vowels[1:3]"
   ]
  },
  {
   "cell_type": "code",
   "execution_count": 50,
   "id": "65854555",
   "metadata": {},
   "outputs": [
    {
     "data": {
      "text/plain": [
       "array([[ 0. ,  3.4, 99.9],\n",
       "       [10.6,  0. ,  1. ]])"
      ]
     },
     "execution_count": 50,
     "metadata": {},
     "output_type": "execute_result"
    }
   ],
   "source": [
    "#6.d) Display all elements in the 2nd and 3rd row of the array ‘myarray1’.\n",
    "\n",
    "myarray1[1:3,:]"
   ]
  },
  {
   "cell_type": "code",
   "execution_count": 52,
   "id": "94a824ca",
   "metadata": {},
   "outputs": [
    {
     "data": {
      "text/plain": [
       "array([[ 2.7, -2. ],\n",
       "       [ 0. ,  3.4],\n",
       "       [10.6,  0. ]])"
      ]
     },
     "execution_count": 52,
     "metadata": {},
     "output_type": "execute_result"
    }
   ],
   "source": [
    "#6.e) Display the elements in the 1st and 2nd column of the array ‘myarray1’.\n",
    "\n",
    "myarray1[:,:2]"
   ]
  },
  {
   "cell_type": "code",
   "execution_count": 56,
   "id": "092412af",
   "metadata": {},
   "outputs": [
    {
     "data": {
      "text/plain": [
       "array([ 0. , 10.6])"
      ]
     },
     "execution_count": 56,
     "metadata": {},
     "output_type": "execute_result"
    }
   ],
   "source": [
    "#6.f) Display the elements in the 1st column of the 2nd and 3rd row of the array ‘myarray1’\n",
    "\n",
    "myarray1[1:,0]"
   ]
  },
  {
   "cell_type": "code",
   "execution_count": 58,
   "id": "844a33e7",
   "metadata": {},
   "outputs": [
    {
     "data": {
      "text/plain": [
       "array(['u', 'o', 'i', 'e', 'a'], dtype='<U1')"
      ]
     },
     "execution_count": 58,
     "metadata": {},
     "output_type": "execute_result"
    }
   ],
   "source": [
    "#6.g) Reverse the array of ‘vowels’.\n",
    "\n",
    "vowels[::-1]"
   ]
  },
  {
   "cell_type": "code",
   "execution_count": null,
   "id": "17471ae5",
   "metadata": {},
   "outputs": [],
   "source": []
  }
 ],
 "metadata": {
  "kernelspec": {
   "display_name": "Python 3 (ipykernel)",
   "language": "python",
   "name": "python3"
  },
  "language_info": {
   "codemirror_mode": {
    "name": "ipython",
    "version": 3
   },
   "file_extension": ".py",
   "mimetype": "text/x-python",
   "name": "python",
   "nbconvert_exporter": "python",
   "pygments_lexer": "ipython3",
   "version": "3.9.7"
  }
 },
 "nbformat": 4,
 "nbformat_minor": 5
}
