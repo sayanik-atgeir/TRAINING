{
 "cells": [
  {
   "cell_type": "code",
   "execution_count": null,
   "id": "e6ad00db",
   "metadata": {},
   "outputs": [],
   "source": [
    "# Python DAY-4"
   ]
  },
  {
   "cell_type": "code",
   "execution_count": 12,
   "id": "74a66ad7",
   "metadata": {},
   "outputs": [
    {
     "name": "stdout",
     "output_type": "stream",
     "text": [
      "x -> 10\n",
      "y -> 20\n",
      "z -> 30\n"
     ]
    }
   ],
   "source": [
    "#1.Write a Python program to iterate over dictionaries using for loops.\n",
    "\n",
    "d = {'x': 10, 'y': 20, 'z': 30} \n",
    "for i in d.keys():\n",
    "    print(i,'->',d[i])"
   ]
  },
  {
   "cell_type": "code",
   "execution_count": 23,
   "id": "23af3abd",
   "metadata": {},
   "outputs": [
    {
     "name": "stdout",
     "output_type": "stream",
     "text": [
      "{0: 0, 2: 1, 1: 2, 4: 3, 3: 4}\n"
     ]
    }
   ],
   "source": [
    "#2.Write a Python program to sort (ascending and descending) a dictionary by value.\n",
    "# ascending\n",
    "dict1 = {1: 2, 3: 4, 4: 3, 2: 1, 0: 0}\n",
    "a =sorted(dict1.items(),key= lambda x:x[1])\n",
    "print(dict(a))"
   ]
  },
  {
   "cell_type": "code",
   "execution_count": 24,
   "id": "dbffc538",
   "metadata": {},
   "outputs": [
    {
     "name": "stdout",
     "output_type": "stream",
     "text": [
      "{3: 4, 4: 3, 1: 2, 2: 1, 0: 0}\n"
     ]
    }
   ],
   "source": [
    "#2.Write a Python program to sort (ascending and descending) a dictionary by value.\n",
    "# descending\n",
    "dict1 = {1: 2, 3: 4, 4: 3, 2: 1, 0: 0}\n",
    "a = sorted(dict1.items(),key= lambda x:x[1],reverse=True)\n",
    "print(dict(a))"
   ]
  },
  {
   "cell_type": "code",
   "execution_count": 26,
   "id": "dc3b5caa",
   "metadata": {},
   "outputs": [
    {
     "name": "stdout",
     "output_type": "stream",
     "text": [
      "Enter a key :10\n",
      "Key is not present in the dectionary\n"
     ]
    }
   ],
   "source": [
    "#3.Write a Python program to check whether a given key already exists in a dictionary. Ask the user to input a Key to be searched.\n",
    "\n",
    "d = {1: 10, 2: 20, 3: 30, 4: 40, 5: 50, 6: 60}\n",
    "k1 = int(input('Enter a key :'))\n",
    "if k1 in d.keys():\n",
    "    print(\"Key is present in the dictionary\")\n",
    "else:\n",
    "    print(\"Key is not present in the dectionary\")"
   ]
  },
  {
   "cell_type": "code",
   "execution_count": 28,
   "id": "111c8f49",
   "metadata": {},
   "outputs": [
    {
     "name": "stdout",
     "output_type": "stream",
     "text": [
      "{1, 3, 4, 5}\n"
     ]
    }
   ],
   "source": [
    "#4. Write a Python program to remove item(s) from a given set\n",
    "\n",
    "s1 = {0, 1, 3, 4, 5}\n",
    "s1.remove(0)\n",
    "print(s1)"
   ]
  },
  {
   "cell_type": "code",
   "execution_count": 32,
   "id": "94b88796",
   "metadata": {},
   "outputs": [
    {
     "name": "stdout",
     "output_type": "stream",
     "text": [
      "x is subset of y : False\n",
      "y is subset of x : False\n",
      "y is subset of z : False\n",
      "z is subset of y : True\n"
     ]
    }
   ],
   "source": [
    "#5. Check if a set is a subset of another set, using comparison operators and issubset():\n",
    "\n",
    "x= {'mango', 'apple'}\n",
    "y={'mango', 'orange'}\n",
    "z={'mango'}\n",
    "    \n",
    "print(\"x is subset of y :\",x.issubset(y))\n",
    "print(\"y is subset of x :\",y.issubset(x))\n",
    "print(\"y is subset of z :\",y.issubset(z))\n",
    "print(\"z is subset of y :\",z.issubset(y))"
   ]
  },
  {
   "cell_type": "code",
   "execution_count": 33,
   "id": "db3d2dd3",
   "metadata": {},
   "outputs": [
    {
     "name": "stdout",
     "output_type": "stream",
     "text": [
      "{'sayanik', True, 3.25, 5}\n"
     ]
    }
   ],
   "source": [
    "#6.Write a Python program to find the elements in a given set that are not in another set.\n",
    "\n",
    "set1 = {'sayanik','Atgeir',5,9,True,3.25}\n",
    "set2 = {'Mukherjee','Atgeir',6,9}\n",
    "\n",
    "print(set1.difference(set2))"
   ]
  },
  {
   "cell_type": "code",
   "execution_count": 34,
   "id": "7c1bdcb5",
   "metadata": {},
   "outputs": [
    {
     "name": "stdout",
     "output_type": "stream",
     "text": [
      "Enter a set :{12,25,36,96,100,45,86,12,36,89}\n",
      "Length of the set is : 8\n",
      "MAX value of the set is : 100\n",
      "MIN value of the set is : 12\n"
     ]
    }
   ],
   "source": [
    "#7.Write a Python program to find length of set, maximum and the minimum value in a set.\n",
    "\n",
    "set_3 = eval(input(\"Enter a set :\"))\n",
    "length = len(set_3)\n",
    "print(\"Length of the set is :\",length)\n",
    "max_value = max(set_3)\n",
    "print(\"MAX value of the set is :\",max_value)\n",
    "min_value = min(set_3)\n",
    "print(\"MIN value of the set is :\",min_value)"
   ]
  },
  {
   "cell_type": "code",
   "execution_count": 35,
   "id": "b5daf2ab",
   "metadata": {},
   "outputs": [
    {
     "name": "stdout",
     "output_type": "stream",
     "text": [
      "Enter a set :{12,25,36,96,100,45,86,12,36,89}\n",
      "Enter a set :{2,89,'sayanik','python',5.6,45,86}\n",
      "Union: {96, 2, 'python', 36, 100, 5.6, 'sayanik', 12, 45, 86, 89, 25}\n",
      "Intersection: {89, 45, 86}\n"
     ]
    }
   ],
   "source": [
    "#8.Write a Python program to create an intersection and union of sets\n",
    "\n",
    "set1 = eval(input(\"Enter a set :\"))\n",
    "set2 = eval(input(\"Enter a set :\"))\n",
    "\n",
    "print('Union:',set1.union(set2))\n",
    "print('Intersection:',set1.intersection(set2))"
   ]
  },
  {
   "cell_type": "code",
   "execution_count": 47,
   "id": "1833a7b6",
   "metadata": {},
   "outputs": [
    {
     "name": "stdout",
     "output_type": "stream",
     "text": [
      "{'a': 400, 'b': 400, 'c': 300, 'd': 400}\n"
     ]
    }
   ],
   "source": [
    "#9.Write a Python program to combine two dictionary adding values for common keys\n",
    "\n",
    "d1 = {'a': 100, 'b': 200, 'c':300}\n",
    "d2 = {'a': 300, 'b': 200, 'd':400}\n",
    "d3 = d1.copy()\n",
    "d3.update(d2)\n",
    "for i,j in d1.items():\n",
    "    for k,l in d2.items():\n",
    "        if i == k:\n",
    "            d3[i]=(j+l)\n",
    "print(d3)"
   ]
  },
  {
   "cell_type": "code",
   "execution_count": 65,
   "id": "471e869c",
   "metadata": {},
   "outputs": [
    {
     "name": "stdout",
     "output_type": "stream",
     "text": [
      "d\n",
      "e\n",
      "f\n",
      "45\n"
     ]
    }
   ],
   "source": [
    "#10.Write a Python program to find the highest of 3 values for corresponding keys in a dictionary.\n",
    "\n",
    "D ={'a':10,'b':37,'c':22,'d':33,'e':45,'f':9,'g':88,'h':63,'i':98,'j':12}\n",
    "k1 = str(input())\n",
    "k2 = str(input())\n",
    "k3 = str(input())\n",
    "\n",
    "k_list = [k1,k2,k3]\n",
    "stor_val = []\n",
    "\n",
    "for i in D:\n",
    "    if i in k_list:\n",
    "        stor_val.append(D[i])\n",
    "print(max(stor_val))"
   ]
  },
  {
   "cell_type": "code",
   "execution_count": 66,
   "id": "030970d3",
   "metadata": {},
   "outputs": [
    {
     "name": "stdout",
     "output_type": "stream",
     "text": [
      "{'a': 10, 'b': 37, 'c': 22, 'd': 33, 'e': 45, 'f': 9, 'g': 88, 'h': 63, 'i': 98, 'j': 12, 1: 10, 2: 20, 3: 30, 4: 40, 5: 50, 6: 60}\n"
     ]
    }
   ],
   "source": [
    "#11.WAP concatenate two different dictionaries into single dictionary\n",
    "\n",
    "dict1 ={'a':10,'b':37,'c':22,'d':33,'e':45,'f':9,'g':88,'h':63,'i':98,'j':12}\n",
    "dict2 = {1: 10, 2: 20, 3: 30, 4: 40, 5: 50, 6: 60}\n",
    "dict1.update(dict2)\n",
    "print(dict1)"
   ]
  },
  {
   "cell_type": "code",
   "execution_count": 69,
   "id": "ff5bb5e3",
   "metadata": {
    "scrolled": true
   },
   "outputs": [
    {
     "name": "stdout",
     "output_type": "stream",
     "text": [
      "Enter a list :['sayanik',86,96,86,2.36,54,2.36]\n",
      "[96, 2.36, 86, 54, 'sayanik']\n"
     ]
    }
   ],
   "source": [
    "#12.WAP to remove duplicates values from a list\n",
    "\n",
    "list1 = eval(input('Enter a list :'))\n",
    "lst_new = list(set(list1))\n",
    "print(lst_new)"
   ]
  },
  {
   "cell_type": "code",
   "execution_count": 72,
   "id": "e81c3383",
   "metadata": {},
   "outputs": [
    {
     "name": "stdout",
     "output_type": "stream",
     "text": [
      "Enter a value :20\n",
      "{'b': 37, 'c': 22, 'd': 33}\n"
     ]
    }
   ],
   "source": [
    "#13.WAP to remove key value pair where value is greater than entered number from the dictionary\n",
    "\n",
    "D ={'a':10,'b':37,'c':22,'d':33}\n",
    "ip = eval(input('Enter a value :'))\n",
    "\n",
    "D_copy = D.copy()\n",
    "\n",
    "for i in D_copy:\n",
    "    if ip>D_copy[i]:\n",
    "        del D[i]\n",
    "print(D)"
   ]
  },
  {
   "cell_type": "code",
   "execution_count": null,
   "id": "771d7a65",
   "metadata": {},
   "outputs": [],
   "source": []
  }
 ],
 "metadata": {
  "kernelspec": {
   "display_name": "Python 3 (ipykernel)",
   "language": "python",
   "name": "python3"
  },
  "language_info": {
   "codemirror_mode": {
    "name": "ipython",
    "version": 3
   },
   "file_extension": ".py",
   "mimetype": "text/x-python",
   "name": "python",
   "nbconvert_exporter": "python",
   "pygments_lexer": "ipython3",
   "version": "3.9.7"
  }
 },
 "nbformat": 4,
 "nbformat_minor": 5
}
