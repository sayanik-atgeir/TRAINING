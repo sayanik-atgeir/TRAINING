{
 "cells": [
  {
   "cell_type": "markdown",
   "id": "5eb13636",
   "metadata": {},
   "source": [
    "# LIST"
   ]
  },
  {
   "cell_type": "code",
   "execution_count": null,
   "id": "07d98fa1",
   "metadata": {},
   "outputs": [],
   "source": [
    "# List - []\n",
    "# List is a collection of heterogeneous data\n",
    "# List allows the duplicate data\n",
    "\n",
    "lst = [10, 10.20, 10+20j,'Python', None, True, 10, 20, 10, True, None]\n",
    "print(lst, type(lst))\n"
   ]
  },
  {
   "cell_type": "code",
   "execution_count": null,
   "id": "fe577613",
   "metadata": {},
   "outputs": [],
   "source": [
    "# List is a sequence - Indexing, Slicing, Concatenation, Repetition, length, membership, identity\n",
    "\n",
    "lst = [10,20,30,40]\n",
    "lst1 = [1, 2, 3]\n",
    "\n",
    "# List concatrentation - +, Both object s should be list\n",
    "print(lst + lst1)\n",
    "#print(lst + 'Python')\n",
    "\n",
    "# List Repetition - * - one objects should be list and other should be integer\n",
    "print(lst * 3)\n",
    "\n",
    "# length\n",
    "print(len(lst))\n",
    "\n",
    "# lst2 = [10, 10.20, 10+20j,'Python', None, True, 10, 20, 10, True, None]\n",
    "print(10 in lst2)\n",
    "print('Python' in lst2)\n",
    "\n",
    "lst2 = [10, 10.20, 10+20j,'Python', None, True, 10, 20, 10, True, None]\n",
    "print(lst2[0])\n",
    "print(lst2[-1])\n",
    "\n",
    "# print(lst2[20])\n",
    "\n",
    "\n",
    "# print(lst2[2:50])\n",
    "print(lst2)"
   ]
  },
  {
   "cell_type": "code",
   "execution_count": null,
   "id": "8723762d",
   "metadata": {},
   "outputs": [],
   "source": [
    "# Nested List\n",
    "\n",
    "# lst = [10,20,30,[1,2,3], 40,50]\n",
    "# print(lst[3][1])\n",
    "\n",
    "lst = [10,20,30,[40,50,[60,70,[80,90,100,110,120,[130,140,150]]]]]\n",
    "print(lst[3][2][-1][-1][1])\n",
    "print(lst[3][2][-1][-1][1])"
   ]
  },
  {
   "cell_type": "code",
   "execution_count": null,
   "id": "dbbdcfac",
   "metadata": {},
   "outputs": [],
   "source": [
    "# List creation\n",
    "\n",
    "print(list('Python'))\n",
    "print(list((1,2,3,4)))\n",
    "print(list([10,20,30,40]))\n",
    "print(list({1:100, 2:200, 3:300}))\n",
    "\n",
    "lst = eval(input('Enter a list: '))\n",
    "print(lst, type(lst))\n",
    "\n",
    "\n",
    "lst = 'peter piper picked a peck of pickled peppers.'\n",
    "print(lst.split())"
   ]
  },
  {
   "cell_type": "code",
   "execution_count": null,
   "id": "288a2378",
   "metadata": {},
   "outputs": [],
   "source": [
    "# List is mutable\n",
    "    # item assignment is possible\n",
    "    # Modification will be done in same object\n",
    "    \n",
    "lst = [10,20,30,40]\n",
    "print(lst, id(lst))\n",
    "lst[0] = 111\n",
    "print(lst, id(lst))"
   ]
  },
  {
   "cell_type": "code",
   "execution_count": null,
   "id": "680b803c",
   "metadata": {},
   "outputs": [],
   "source": [
    "lst = [1,2,3,4]\n",
    "lst1 = [1,2,3,4]\n",
    "print(lst is lst1)\n",
    "print(id(lst))\n",
    "print(id(lst1))"
   ]
  },
  {
   "cell_type": "code",
   "execution_count": null,
   "id": "76120a35",
   "metadata": {},
   "outputs": [],
   "source": [
    "# append - adds the element at end\n",
    "# memory id will be same\n",
    "lst = [10,20,30,40,50,60]\n",
    "print(lst, id(lst))\n",
    "lst.append(100)\n",
    "print(lst, id(lst))\n",
    "print(lst, id(lst))\n",
    "lst.append([1,2,3,4])\n",
    "print(lst, id(lst))"
   ]
  },
  {
   "cell_type": "code",
   "execution_count": null,
   "id": "38649434",
   "metadata": {},
   "outputs": [],
   "source": [
    "# extend - similar to concatenation\n",
    "# It adds one list to another list at end and changes will be made to first list\n",
    "\n",
    "lst = [10,20,30,40,50,60]\n",
    "lst1 = [1,2,3,4]\n",
    "print(lst+lst1)\n",
    "print(lst)\n",
    "print(lst1)\n",
    "\n",
    "# extending lst1 to lstr\n",
    "lst.extend(lst1)\n",
    "print(lst)\n",
    "print(lst1)"
   ]
  },
  {
   "cell_type": "code",
   "execution_count": null,
   "id": "b6f6051c",
   "metadata": {},
   "outputs": [],
   "source": [
    "# insert - inserts an element insode a list at specified index\n",
    "\n",
    "lst = [10,20,30,40,50,60]\n",
    "lst.insert(2, 333)\n",
    "print(lst)"
   ]
  },
  {
   "cell_type": "code",
   "execution_count": null,
   "id": "2bd29637",
   "metadata": {},
   "outputs": [],
   "source": [
    "# pop - if index is not specified removes last element from list\n",
    "# pop - if index is specified removes element from list from specified index\n",
    "lst2 = [10, 10.20, [10+20j,'Python'], None, True, 10, 20, 10, True, None]\n",
    "# print(lst2.pop())\n",
    "# print(lst2.pop(3))\n",
    "\n",
    "#remove - removes the specified value from list\n",
    "x = lst2[2]\n",
    "print(x)\n",
    "lst2.remove(x)\n",
    "print(lst2)\n",
    "\n",
    "# clear - clears a list, leaves empty list behind\n",
    "lst2.clear()\n",
    "print(lst2)"
   ]
  },
  {
   "cell_type": "code",
   "execution_count": null,
   "id": "a66fed64",
   "metadata": {},
   "outputs": [],
   "source": [
    "# 'count',  - gives how many time an element is repeating\n",
    "# 'index', - First occurrence of the element in list\n",
    "\n",
    "lst = [10,1,2,10,100,200,1,2,3,1,4,50,60,1,80,89,1,1]\n",
    "print(lst.count(1))\n",
    "print(lst.index(89))"
   ]
  },
  {
   "cell_type": "code",
   "execution_count": null,
   "id": "13d5ffab",
   "metadata": {},
   "outputs": [],
   "source": [
    "#  'reverse', reverse a list\n",
    "lst2 = [10, 10.20, [10+20j,'Python'], None, True, 10, 20, 10, True, None]\n",
    "lst2.reverse()\n",
    "print(lst2)\n",
    "\n",
    "\n",
    "# sort method sorts a list\n",
    "# works only on list which are having homogeneous data\n",
    "lst2 = [10, 10.20, [10+20j,'Python'], None, True, 10, 20, 10, True, None]\n",
    "lst2.sort()\n",
    "\n",
    "lst = [10,1,2,10,100,200,1,2,3,1,4,50,60,1,80,89.90,1,1]\n",
    "lst.sort()    # Ascending order\n",
    "print(lst)\n",
    "\n",
    "\n",
    "# to get list in desecending order\n",
    "lst.sort(reverse = True)   # Descending order\n",
    "print(lst)"
   ]
  },
  {
   "cell_type": "code",
   "execution_count": null,
   "id": "717943dd",
   "metadata": {},
   "outputs": [],
   "source": [
    "# List Comprehension - [expr for var in seq if cond]\n",
    "\n",
    "lst = [var**2 for var in range(1, 11) if var%2 == 0]\n",
    "print(lst)"
   ]
  },
  {
   "cell_type": "markdown",
   "id": "a46dbc6f",
   "metadata": {},
   "source": [
    "# Tuple"
   ]
  },
  {
   "cell_type": "code",
   "execution_count": null,
   "id": "e5ca407a",
   "metadata": {},
   "outputs": [
    {
     "name": "stdout",
     "output_type": "stream",
     "text": [
      "(10, 10.2, (10+20j), 'Python', [10, 20, 30], (1, 2, 3), None, True) <class 'tuple'>\n",
      "(10,) <class 'tuple'>\n",
      "('Python',)\n",
      "(1, 2, 3, 4)\n",
      "(1, 2, 3, 4)\n",
      "(1, 2, 3)\n"
     ]
    }
   ],
   "source": [
    "# Tuple - values kept inside () seprated by comma\n",
    "# Parenthesis are optional\n",
    "# Tuple is immutble object\n",
    "# Tuple can have duplicate elements\n",
    "# Tuple is a collection of heterogeneous elements\n",
    "# Tuple is a seq - Indexing, Slicing, Concatenation, Repetition, Length, Membership, Identity\n",
    "\n",
    "\n",
    "\n",
    "# Creation of tuple\n",
    "# tpl = (10,10.20, 10+20j, 'Python', [10,20,30], (1,2,3), None, True)\n",
    "# print(tpl, type(tpl))\n",
    "\n",
    "# Tuple packing\n",
    "tpl = 10,10.20, 10+20j, 'Python', [10,20,30], (1,2,3), None, True\n",
    "print(tpl, type(tpl))\n",
    "\n",
    "\n",
    "# Creation a tuple with single element\n",
    "tpl = 10,\n",
    "print(tpl, type(tpl))\n",
    "\n",
    "\n",
    "# Creating tuple using tuple function\n",
    "print(tuple(('Python',)))\n",
    "print(tuple((1,2,3,4)))\n",
    "print(tuple([1,2,3,4]))\n",
    "print(tuple({1:100, 2:200, 3:300}))\n",
    "#tuple(10) # TypeError: 'int' object is not iterable\n",
    "\n",
    "\n",
    "# Using eval(input())\n",
    "tpl = eval(input('Enter a tuple:'))\n",
    "print(tpl, type(tpl))"
   ]
  },
  {
   "cell_type": "code",
   "execution_count": null,
   "id": "d0c44fc0",
   "metadata": {},
   "outputs": [],
   "source": [
    "# Tuple is immutable object\n",
    "tpl = (10,20,30,40)\n",
    "tpl[0] = 111             # TypeError: 'tuple' object does not support item assignment\n",
    "print(tpl, type(tpl))"
   ]
  },
  {
   "cell_type": "code",
   "execution_count": null,
   "id": "f482d73a",
   "metadata": {},
   "outputs": [],
   "source": [
    "# Basic Operation\n",
    "\n",
    "tpl = (10,10.20, 10+20j, 'Python',10, 10.20, True, None)\n",
    "print('Length of Tuple: ', len(tpl))\n",
    "print('Accessing first element: ', tpl[0])\n",
    "print('Accessing first element: ', tpl[-8])\n",
    "print('Accessing first element: ', tpl[-len(tpl)])\n",
    "print('Accessing last element: ', tpl[-1])\n",
    "print('Accessing last element: ', tpl[7])\n",
    "print('Accessing last element: ', tpl[len(tpl)-1])\n",
    "\n",
    "#Slicing (10+20j, 'Python',10)\n",
    "print(tpl[2:5])\n",
    "print(tpl[4:1:-1])\n",
    "\n",
    "# Concatenation\n",
    "tpl1 = (1,2,3,4)\n",
    "print(tpl+tpl1)\n",
    "print(tpl)\n",
    "print(tpl1)\n",
    "\n",
    "\n",
    "# Repetition\n",
    "print(tpl * 3)\n",
    "\n",
    "# Membership\n",
    "print(\"Python\" in tpl)"
   ]
  },
  {
   "cell_type": "code",
   "execution_count": null,
   "id": "7c5ab3de",
   "metadata": {},
   "outputs": [],
   "source": [
    "# Tuple packing and Unpacking\n",
    "a = 20\n",
    "b = 10+20j\n",
    "c = 10.20\n",
    "d = True\n",
    "e = None\n",
    "f = 'Python'\n",
    "\n",
    "tpl = a,b,c,d,e,f   # Tuple packing\n",
    "print(tpl)\n",
    "\n",
    "\n",
    "# Unpacking\n",
    "\n",
    "lst = (10,20+30j,'Python',40,50,60)\n",
    "a,b,c,d,e,f = lst\n",
    "print(a,b,c,d,e,f)"
   ]
  },
  {
   "cell_type": "code",
   "execution_count": null,
   "id": "d824b80c",
   "metadata": {},
   "outputs": [],
   "source": []
  },
  {
   "cell_type": "code",
   "execution_count": null,
   "id": "d4abcfdd",
   "metadata": {},
   "outputs": [],
   "source": []
  },
  {
   "cell_type": "code",
   "execution_count": null,
   "id": "b2b1d517",
   "metadata": {},
   "outputs": [],
   "source": []
  },
  {
   "cell_type": "code",
   "execution_count": null,
   "id": "ea44f129",
   "metadata": {},
   "outputs": [],
   "source": []
  }
 ],
 "metadata": {
  "kernelspec": {
   "display_name": "Python 3 (ipykernel)",
   "language": "python",
   "name": "python3"
  },
  "language_info": {
   "codemirror_mode": {
    "name": "ipython",
    "version": 3
   },
   "file_extension": ".py",
   "mimetype": "text/x-python",
   "name": "python",
   "nbconvert_exporter": "python",
   "pygments_lexer": "ipython3",
   "version": "3.9.7"
  }
 },
 "nbformat": 4,
 "nbformat_minor": 5
}
