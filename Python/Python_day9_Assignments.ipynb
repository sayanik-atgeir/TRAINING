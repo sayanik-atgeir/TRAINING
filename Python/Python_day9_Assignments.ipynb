{
 "cells": [
  {
   "cell_type": "code",
   "execution_count": null,
   "id": "b021f7a3",
   "metadata": {},
   "outputs": [],
   "source": [
    "#Python Assignment_09"
   ]
  },
  {
   "cell_type": "code",
   "execution_count": 13,
   "id": "66c15319",
   "metadata": {},
   "outputs": [
    {
     "name": "stdout",
     "output_type": "stream",
     "text": [
      "447\n"
     ]
    }
   ],
   "source": [
    "#1.Create three text files file1.txt, file2.txt, file3.txt which contains following data given in the image Count the number of  numerical elements in each file and also perform its sum\n",
    "\n",
    "f1 = open(\"file1.txt\",\"r\")\n",
    "s1=f1.readlines()\n",
    "add= 0\n",
    "for val in s1:\n",
    "    val=val.split()\n",
    "    for x in val:\n",
    "        if x.isdigit():\n",
    "            add = add + int(x)\n",
    "print(add)\n",
    "f1.close()"
   ]
  },
  {
   "cell_type": "code",
   "execution_count": 51,
   "id": "2add8d9e",
   "metadata": {},
   "outputs": [
    {
     "name": "stdout",
     "output_type": "stream",
     "text": [
      "3063\n"
     ]
    }
   ],
   "source": [
    "f2 = open(\"file2.txt\",\"r\")\n",
    "s2 = f2.readlines()\n",
    "add = 0\n",
    "for val in s2:\n",
    "    val = val.split()\n",
    "    for i in val:\n",
    "        if i.isdigit():\n",
    "            add=add+int(i)\n",
    "print(add)\n",
    "f1.close()"
   ]
  },
  {
   "cell_type": "code",
   "execution_count": 52,
   "id": "aa5db4d8",
   "metadata": {},
   "outputs": [
    {
     "name": "stdout",
     "output_type": "stream",
     "text": [
      "3009\n"
     ]
    }
   ],
   "source": [
    "f3 = open(\"file3.txt\",\"r\")\n",
    "s3 = f3.readlines()\n",
    "add = 0\n",
    "for val in s3:\n",
    "    val = val.split()\n",
    "    for i in val:\n",
    "        if i.isdigit():\n",
    "            add=add+int(i)\n",
    "print(add)\n",
    "f1.close()"
   ]
  },
  {
   "cell_type": "code",
   "execution_count": 2,
   "id": "e1badc25",
   "metadata": {},
   "outputs": [
    {
     "name": "stdout",
     "output_type": "stream",
     "text": [
      "Average of the marks : 65.75\n"
     ]
    }
   ],
   "source": [
    "#2.Create text file with name “data.txt” which contains following data given in the image\n",
    "#then write a program to count average of the  marks and find the name of topper student.\n",
    "\n",
    "f = open(\"data.txt\",\"r\")\n",
    "st1 = f.readlines()\n",
    "lst = []\n",
    "for i in st1:\n",
    "    student = i.split(\" \")\n",
    "    lst.append(student)\n",
    "add = 0\n",
    "for i in range (len(lst)):\n",
    "    add = add + float(lst[i][2])\n",
    "    \n",
    "print(\"Average of the marks :\",add/len(lst))\n",
    "f.close()"
   ]
  },
  {
   "cell_type": "code",
   "execution_count": 14,
   "id": "cbf22724",
   "metadata": {},
   "outputs": [
    {
     "name": "stdout",
     "output_type": "stream",
     "text": [
      "topper name : anita\n"
     ]
    }
   ],
   "source": [
    "#topper name\n",
    "output = max(lst,key = lambda x:x[2])\n",
    "print(\"topper name :\", output[1])"
   ]
  },
  {
   "cell_type": "code",
   "execution_count": 29,
   "id": "aa065dfe",
   "metadata": {},
   "outputs": [
    {
     "name": "stdout",
     "output_type": "stream",
     "text": [
      "23 87\n",
      "45 qs 52 84 55\n",
      "65\n",
      "1889 12 10\n",
      "23 abc knh\n",
      "92 64\n",
      "69 12 x 66\n",
      "26 44\n",
      "74\n",
      "12 90 42 xy 73\n"
     ]
    }
   ],
   "source": [
    "#3.Write a Python program to copy the contents of a file to another file\n",
    "\n",
    "f = open(\"file3.txt\",\"r\")\n",
    "w = open(\"newfile.txt\",\"w\")\n",
    "\n",
    "data=f.read()\n",
    "w.write(data)\n",
    "\n",
    "nw = open(\"newfile.txt\",\"r\")\n",
    "print(nw.read())\n",
    "\n",
    "f.close()\n",
    "w.close()"
   ]
  },
  {
   "cell_type": "code",
   "execution_count": null,
   "id": "91cb93e2",
   "metadata": {},
   "outputs": [],
   "source": [
    "#4.Read the data of student like roll number,  name and marks, store it in a file by  appending it into another student data file.\n",
    "\n",
    "st1 = open(\"data.txt\", 'r')\n",
    "st2 = open(\"data1.txt\", 'r')\n",
    "\n",
    "print(st1.read())\n",
    "print(st2.read())\n",
    "\n",
    "st1.close()\n",
    "st2.close()\n",
    "\n",
    "st1 = open(\"data.txt\", 'r')\n",
    "st2 = open(\"data1.txt\", 'a+')\n",
    "\n",
    "st2.write(st1.read())\n",
    "\n",
    "st1.seek(0)\n",
    "st2.seek(0)\n",
    "\n",
    "print(st1.read())\n",
    "print(st2.read())\n",
    "\n",
    "st1.close()\n",
    "st2.close()"
   ]
  },
  {
   "cell_type": "code",
   "execution_count": 8,
   "id": "1739666e",
   "metadata": {},
   "outputs": [
    {
     "name": "stdout",
     "output_type": "stream",
     "text": [
      "69\n",
      "\n",
      "26\n",
      "\n",
      "74\n",
      "\n",
      "12\n"
     ]
    }
   ],
   "source": [
    "#5.Create a file having 10 lines and take input from the user to print the last ‘n’ number of lines.\n",
    "#Note: if user enters 7 then it will print the data of line number 7,8,9 & 10\n",
    "\n",
    "def read_lastnlines(fname,n):\n",
    "    with open('file1.txt') as f:\n",
    "        for line in (f.readlines() [(n-1):]):\n",
    "            print(line)\n",
    "\n",
    "read_lastnlines('file1.txt',7)"
   ]
  },
  {
   "cell_type": "code",
   "execution_count": 12,
   "id": "c111c814",
   "metadata": {},
   "outputs": [
    {
     "name": "stdout",
     "output_type": "stream",
     "text": [
      "['23 87', '45 10 52 84 55', '65', '1889 12 10', '23', '92 64', '69 12 66', '26 44', '74', '12 90 42 44 73']\n",
      "23 87\n"
     ]
    }
   ],
   "source": [
    "#6.Write a Python program to read a random line from a file. Consider Q.5 text file\n",
    "\n",
    "import random\n",
    "def randline(filename):\n",
    "    i= open(filename).read().splitlines()\n",
    "    print(i)\n",
    "    return random.choice(i)\n",
    "\n",
    "print(randline('file2.txt'))"
   ]
  },
  {
   "cell_type": "code",
   "execution_count": 47,
   "id": "4e697f49",
   "metadata": {},
   "outputs": [
    {
     "name": "stdout",
     "output_type": "stream",
     "text": [
      "Before swapping: My NamE is Sayanik MUKHerjee.\n",
      "After swapping : mY nAMe IS sAYANIK mukhERJEE.\n"
     ]
    }
   ],
   "source": [
    "#7.Copy the contents of a file and write it in  another file by swapping case of every  character.\n",
    "\n",
    "r1 = open(\"file5.txt\",\"r\")\n",
    "w1 = open(\"newfile5.txt\",\"w\")\n",
    "print(\"Before swapping:\",r1.read())\n",
    "\n",
    "data1 = r1.readlines()\n",
    "for i in data1:\n",
    "    w1.write(i.swapcase())\n",
    "    \n",
    "r2 = open(\"newfile5.txt\",\"r\")\n",
    "print(\"After swapping :\",r2.read())\n",
    "\n",
    "r1.close()\n",
    "w1.close()"
   ]
  },
  {
   "cell_type": "code",
   "execution_count": 48,
   "id": "bd6a02c2",
   "metadata": {},
   "outputs": [
    {
     "name": "stdout",
     "output_type": "stream",
     "text": [
      "Counter({'the': 15, 'in': 10, 'of': 10, 'The': 5, 'is': 5, 'river': 4, 'and': 4, 'Krishna': 3, 'at': 3, 'near': 2, 'Mahabaleshwar': 2, 'state': 2, 'Maharashtra': 2, 'kilometres': 2, 'mi)': 2, 'one': 2, 'most': 2, 'to': 2, 'on': 2, 'originates': 1, 'Western': 1, 'Ghats': 1, 'an': 1, 'elevation': 1, 'about': 1, '1,300': 1, 'metres': 1, '(4,300': 1, 'ft),': 1, 'central': 1, 'India.': 1, 'around': 1, '1,400': 1, '(870': 1, 'length': 1, '(282': 1, '(175': 1, 'Maharashtra).': 1, 'It': 1, 'suitable': 1, 'arable': 1, 'basins': 1, 'world': 1, 'as': 1, '75.6%': 1, 'basin': 1, 'under': 1, 'cultivation': 1, 'due': 1, 'availability': 1, 'water.': 1, \"river's\": 1, 'source': 1, 'Jor': 1, 'village': 1, 'extreme': 1, 'north': 1, 'Wai': 1, 'Taluka,': 1, 'Satara': 1, 'District,': 1, 'west,': 1, 'it': 1, 'empties': 1, 'into': 1, 'Bay': 1, 'Bengal': 1, 'Hamasaladeevi': 1, '(near': 1, 'Koduru)': 1, 'Andhra': 1, 'Pradesh': 1, 'east': 1, 'coast.': 1, 'flows': 1, 'through': 1, 'Karnataka': 1, 'before': 1, 'entering': 1, 'Telangana': 1, 'state.': 1, 'delta': 1, 'this': 1, 'fertile': 1, 'regions': 1, 'India': 1, 'was': 1, 'home': 1, 'ancient': 1, 'Satavahana': 1, 'Ikshvaku': 1, 'Sun': 1, 'Dynasty': 1, 'kings.': 1, 'Vijayawada': 1, 'Sangli': 1, 'are': 1, 'largest': 1, 'cities': 1, 'Krishna.': 1})\n"
     ]
    }
   ],
   "source": [
    "#8.Write a Python program to count the frequency of words in a file.\n",
    "\n",
    "from collections import Counter\n",
    "def wordfrequency(file):\n",
    "        with open(file) as f:\n",
    "                return Counter(f.read().split())\n",
    "\n",
    "print(wordfrequency(\"f2.txt\"))"
   ]
  },
  {
   "cell_type": "code",
   "execution_count": 49,
   "id": "96daef7c",
   "metadata": {},
   "outputs": [
    {
     "name": "stdout",
     "output_type": "stream",
     "text": [
      "5\n"
     ]
    }
   ],
   "source": [
    "#9.Write a Python program that takes a text file as input and returns the number of words of a given text file\n",
    "# My NamE is Sayanik MUKHerjee ----- file5.txt \n",
    "\n",
    "with open('file5.txt','r') as f:\n",
    "    l=f.read()\n",
    "    words=l.split()\n",
    "    print(len(words))"
   ]
  },
  {
   "cell_type": "code",
   "execution_count": 50,
   "id": "1d640e6b",
   "metadata": {},
   "outputs": [
    {
     "name": "stdout",
     "output_type": "stream",
     "text": [
      "['1 amit 56.77\\n2 ajit 67.55\\n3 anita 75.44\\n4 anil 63.44\\n5 ajinkya 65.55', '24 sayanik 86.75\\n25 soham 92.55\\n26 kishore 78.25\\n1 amit 56.77\\n2 ajit 67.55\\n3 anita 75.44\\n4 anil 63.44\\n5 ajinkya 65.551 amit 56.77\\n2 ajit 67.55\\n3 anita 75.44\\n4 anil 63.44\\n5 ajinkya 65.551 amit 56.77\\n2 ajit 67.55\\n3 anita 75.44\\n4 anil 63.44\\n5 ajinkya 65.551 amit 56.77\\n2 ajit 67.55\\n3 anita 75.44\\n4 anil 63.44\\n5 ajinkya 65.55', \"The Krishna river originates in the Western Ghats near Mahabaleshwar at an \\nelevation of about 1,300 metres (4,300 ft), \\nin the state of Maharashtra in central India. \\nThe Krishna river is around 1,400 kilometres (870 mi) in length (282 kilometres (175 mi) \\nin Maharashtra). \\nIt is one of the most suitable arable basins in the world as 75.6% of the Krishna basin \\nis under cultivation due to the availability of water.\\nThe river's source is at Mahabaleshwar near Jor village in the extreme north \\nof Wai Taluka, Satara District, Maharashtra in the west, \\nand it empties into the Bay of Bengal at Hamasaladeevi (near Koduru) \\nin Andhra Pradesh on the east coast. \\nThe river flows through the state of Karnataka before entering Telangana state. \\nThe delta of this river is \\none of the most fertile regions in India and was home to the ancient Satavahana \\nand Ikshvaku Sun Dynasty kings. \\nVijayawada and Sangli are the largest cities on the Krishna.\", '23\\n45\\n65\\n18\\n23\\n92\\n69\\n26\\n74\\n12', '23 87\\n45 10 52 84 55\\n65\\n1889 12 10\\n23\\n92 64\\n69 12 66\\n26 44\\n74\\n12 90 42 44 73', '23 87\\n45 qs 52 84 55\\n65\\n1889 12 10\\n23 abc knh\\n92 64\\n69 12 x 66\\n26 44\\n74\\n12 90 42 xy 73', 'My NamE is Sayanik MUKHerjee.', '23 87\\n45 qs 52 84 55\\n65\\n1889 12 10\\n23 abc knh\\n92 64\\n69 12 x 66\\n26 44\\n74\\n12 90 42 xy 73', 'mY nAMe IS sAYANIK mukhERJEE.', '23 \\n45 \\n65 \\n18 \\n23 \\n92 \\n69 \\n26 \\n74 \\n12 \\n']\n"
     ]
    }
   ],
   "source": [
    "#10.Write a Python program to extract characters from various text files and put them into a list.\n",
    "\n",
    "import glob\n",
    "lst = []\n",
    "files = glob.glob(\"*.txt\")\n",
    "for i in files:\n",
    "    with open(i, \"r\") as f:\n",
    "        lst.append(f.read())\n",
    "print(lst)"
   ]
  },
  {
   "cell_type": "code",
   "execution_count": null,
   "id": "fbb329a1",
   "metadata": {},
   "outputs": [],
   "source": []
  },
  {
   "cell_type": "code",
   "execution_count": null,
   "id": "81171652",
   "metadata": {},
   "outputs": [],
   "source": []
  },
  {
   "cell_type": "code",
   "execution_count": null,
   "id": "7044e9ca",
   "metadata": {},
   "outputs": [],
   "source": []
  },
  {
   "cell_type": "code",
   "execution_count": null,
   "id": "bba0244b",
   "metadata": {},
   "outputs": [],
   "source": []
  }
 ],
 "metadata": {
  "kernelspec": {
   "display_name": "Python 3 (ipykernel)",
   "language": "python",
   "name": "python3"
  },
  "language_info": {
   "codemirror_mode": {
    "name": "ipython",
    "version": 3
   },
   "file_extension": ".py",
   "mimetype": "text/x-python",
   "name": "python",
   "nbconvert_exporter": "python",
   "pygments_lexer": "ipython3",
   "version": "3.9.7"
  }
 },
 "nbformat": 4,
 "nbformat_minor": 5
}
