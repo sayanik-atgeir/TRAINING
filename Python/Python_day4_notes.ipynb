{
 "cells": [
  {
   "cell_type": "markdown",
   "id": "7aac7103",
   "metadata": {},
   "source": [
    "# DICTIONARY"
   ]
  },
  {
   "cell_type": "code",
   "execution_count": null,
   "id": "752eb82b",
   "metadata": {},
   "outputs": [],
   "source": [
    "# Dictionary is a collection of key value pair, \n",
    "# Key value pair is called item or element of dictionary, \n",
    "# key:value \n",
    "# Dictionary is not a seq\n",
    "# Value are mapped to key so we canaccess the value using key\n",
    "# Key should be immutable type only\n",
    "# Key can not be duplicated\n",
    "# Dictionary is mutable"
   ]
  },
  {
   "cell_type": "code",
   "execution_count": null,
   "id": "a7ee706d",
   "metadata": {},
   "outputs": [],
   "source": [
    "d1 = {1:100, 10.20:100.29, 'abfg':'Python', 2:'Class', None: True, (1,2,30):[10,20,30]}\n",
    "print(d1, type(d1))"
   ]
  },
  {
   "cell_type": "code",
   "execution_count": 11,
   "id": "1e8001cb",
   "metadata": {},
   "outputs": [],
   "source": [
    "# Using dict function\n",
    "# dict([(1, 100), (10+20j, 100.20), ('abc', 'Python'), ((1,2,3), [11, 22, 33])])\n",
    "dict(((1, 100), (10+20j, 100.20), ('abc', 'Python'), ((1,2,3), [11, 22, 33])))\n",
    "# dict(([1, 100], [10+20j, 100.20], ['abc', 'Python'], [(1,2,3), [11, 22, 33]]))\n",
    "# dict([[1, 100], [10+20j, 100.20], ['abc', 'Python'], [(1,2,3), [11, 22, 33]]])\n",
    "\n",
    "email_lst = ['abc@gmail.com', 'abcd@yahoo.com', 'pqrst@hotmail.com', 'mnopqr@gmail.com', 'pqr@rediffmail.com']\n",
    "usr_name = [var.split('@')[0] for var in email_lst]\n",
    "# item = []\n",
    "# for i in range(5):\n",
    "#     item.append([usr_name[i],email_lst[i]])\n",
    "# print(item)\n",
    "# print((dict(item)))\n",
    "\n",
    "# dict(zip(usr_name, email_lst))\n",
    "\n",
    "# dict(enumerate([10,20.40,30+50j,'Python',50]))\n",
    "\n",
    "# dict(enumerate(email_lst))\n",
    "\n",
    "# for i in enumerate('Python'):\n",
    "#     print(i)\n",
    "\n",
    "# abc((10, 20, 30))"
   ]
  },
  {
   "cell_type": "code",
   "execution_count": 12,
   "id": "2738e4c5",
   "metadata": {},
   "outputs": [
    {
     "name": "stdout",
     "output_type": "stream",
     "text": [
      "['ArithmeticError', 'AssertionError', 'AttributeError', 'BaseException', 'BlockingIOError', 'BrokenPipeError', 'BufferError', 'BytesWarning', 'ChildProcessError', 'ConnectionAbortedError', 'ConnectionError', 'ConnectionRefusedError', 'ConnectionResetError', 'DeprecationWarning', 'EOFError', 'Ellipsis', 'EnvironmentError', 'Exception', 'False', 'FileExistsError', 'FileNotFoundError', 'FloatingPointError', 'FutureWarning', 'GeneratorExit', 'IOError', 'ImportError', 'ImportWarning', 'IndentationError', 'IndexError', 'InterruptedError', 'IsADirectoryError', 'KeyError', 'KeyboardInterrupt', 'LookupError', 'MemoryError', 'ModuleNotFoundError', 'NameError', 'None', 'NotADirectoryError', 'NotImplemented', 'NotImplementedError', 'OSError', 'OverflowError', 'PendingDeprecationWarning', 'PermissionError', 'ProcessLookupError', 'RecursionError', 'ReferenceError', 'ResourceWarning', 'RuntimeError', 'RuntimeWarning', 'StopAsyncIteration', 'StopIteration', 'SyntaxError', 'SyntaxWarning', 'SystemError', 'SystemExit', 'TabError', 'TimeoutError', 'True', 'TypeError', 'UnboundLocalError', 'UnicodeDecodeError', 'UnicodeEncodeError', 'UnicodeError', 'UnicodeTranslateError', 'UnicodeWarning', 'UserWarning', 'ValueError', 'Warning', 'WindowsError', 'ZeroDivisionError', '__IPYTHON__', '__build_class__', '__debug__', '__doc__', '__import__', '__loader__', '__name__', '__package__', '__spec__', 'abs', 'all', 'any', 'ascii', 'bin', 'bool', 'breakpoint', 'bytearray', 'bytes', 'callable', 'chr', 'classmethod', 'compile', 'complex', 'copyright', 'credits', 'delattr', 'dict', 'dir', 'display', 'divmod', 'enumerate', 'eval', 'exec', 'execfile', 'filter', 'float', 'format', 'frozenset', 'get_ipython', 'getattr', 'globals', 'hasattr', 'hash', 'help', 'hex', 'id', 'input', 'int', 'isinstance', 'issubclass', 'iter', 'len', 'license', 'list', 'locals', 'map', 'max', 'memoryview', 'min', 'next', 'object', 'oct', 'open', 'ord', 'pow', 'print', 'property', 'range', 'repr', 'reversed', 'round', 'runfile', 'set', 'setattr', 'slice', 'sorted', 'staticmethod', 'str', 'sum', 'super', 'tuple', 'type', 'vars', 'zip']\n"
     ]
    }
   ],
   "source": [
    "print(dir(__builtins__))"
   ]
  },
  {
   "cell_type": "code",
   "execution_count": null,
   "id": "f83d03ca",
   "metadata": {},
   "outputs": [],
   "source": [
    "# Creating dictionary using eval(input())\n",
    "d = eval(input('ENter a dictionary: '))\n",
    "print(d, type(d))"
   ]
  },
  {
   "cell_type": "code",
   "execution_count": null,
   "id": "6e126999",
   "metadata": {},
   "outputs": [],
   "source": [
    "# Accessing element from a dictionary\n",
    "d1 = {1:100, 10.20:100.29, 'abfg':'Python', 2:'Class', None: True, (1,2,30):[10,20,30]}\n",
    "# print(d1['abfg'])\n",
    "# print(d1['abcd'])"
   ]
  },
  {
   "cell_type": "code",
   "execution_count": null,
   "id": "e19f502e",
   "metadata": {},
   "outputs": [],
   "source": [
    "# get - d1.get(key, default=None, /)\n",
    "# Return the value for key if key is in the dictionary, else default.\n",
    "\n",
    "# d1 = {1:100, 10.20:100.29, 'abfg':'Python', 2:'Class', None: True, (1,2,30):[10,20,30]}\n",
    "# print(d1.get('abfg', 'No key'))\n",
    "# # print(d1.get('abcd'))\n",
    "# print(d1.get('abcd', 'No key'))\n",
    "# print(d1)"
   ]
  },
  {
   "cell_type": "code",
   "execution_count": 2,
   "id": "20b9f16f",
   "metadata": {},
   "outputs": [
    {
     "name": "stdout",
     "output_type": "stream",
     "text": [
      "Class\n"
     ]
    }
   ],
   "source": [
    "d2 = {1:100, 2:200, 3:300, 1:100.200, 'abfg':'Python', 'abfg':'Class'}\n",
    "print(d2.get('abfg'))"
   ]
  },
  {
   "cell_type": "code",
   "execution_count": 3,
   "id": "03fadca4",
   "metadata": {},
   "outputs": [],
   "source": [
    "# setdefault - d1.setdefault(key, default=None, /)\n",
    "# Insert key with a value of default if key is not in the dictionary.\n",
    "\n",
    "# Return the value for key if key is in the dictionary, else default.\n",
    "\n",
    "d1 = {1:100, 10.20:100.29, 'abfg':'Python', 2:'Class', None: True, (1,2,30):[10,20,30]}\n",
    "# d1.setdefault('abfg')\n",
    "# print(d1.setdefault('abfg', 'No keys'))\n",
    "\n",
    "# d1.setdefault('abcd', 'No keys')\n",
    "# print(d1)"
   ]
  },
  {
   "cell_type": "code",
   "execution_count": 4,
   "id": "b6393da3",
   "metadata": {},
   "outputs": [
    {
     "name": "stdout",
     "output_type": "stream",
     "text": [
      "{1: 111, 10.2: 100.29, 'abfg': 'Python', 2: 200, None: True, (1, 2, 30): [10, 20, 30], 3: 300}\n"
     ]
    }
   ],
   "source": [
    "# 'update', - similar to extend method\n",
    "# d1.update(d2) - updates d1 with d2\n",
    "\n",
    "d1.update({1:111, 2:200, 3:300})\n",
    "print(d1)"
   ]
  },
  {
   "cell_type": "code",
   "execution_count": 5,
   "id": "f5448dad",
   "metadata": {},
   "outputs": [
    {
     "name": "stdout",
     "output_type": "stream",
     "text": [
      "Python\n",
      "{1: 111, 10.2: 100.29, 2: 200, None: True, (1, 2, 30): [10, 20, 30], 3: 300}\n"
     ]
    }
   ],
   "source": [
    "# pop, popitem, clear\n",
    "# d1.pop(4, 'No keys')\n",
    "\n",
    "print(d1.pop('abfg'))\n",
    "print(d1)"
   ]
  },
  {
   "cell_type": "code",
   "execution_count": 6,
   "id": "3529dc9f",
   "metadata": {},
   "outputs": [
    {
     "name": "stdout",
     "output_type": "stream",
     "text": [
      "{1: 111, 10.2: 100.29, 2: 200, None: True, (1, 2, 30): [10, 20, 30], 3: 300}\n",
      "{}\n"
     ]
    }
   ],
   "source": [
    "print(d1)\n",
    "# clear - clears the dicionary, but does not delete the dictionary\n",
    "d1.clear()\n",
    "print(d1)"
   ]
  },
  {
   "cell_type": "code",
   "execution_count": 7,
   "id": "4566b6a0",
   "metadata": {},
   "outputs": [
    {
     "name": "stdout",
     "output_type": "stream",
     "text": [
      "[1, 10.2, 'abfg', 2, None, (1, 2, 30)]\n",
      "dict_values([100, 100.29, 'Python', 'Class', True, [10, 20, 30]])\n",
      "dict_items([(1, 100), (10.2, 100.29), ('abfg', 'Python'), (2, 'Class'), (None, True), ((1, 2, 30), [10, 20, 30])])\n"
     ]
    }
   ],
   "source": [
    "d1 = {1:100, 10.20:100.29, 'abfg':'Python', 2:'Class', None: True, (1,2,30):[10,20,30]}\n",
    "print(list(d1.keys()))\n",
    "print(d1.values())\n",
    "print(d1.items())"
   ]
  },
  {
   "cell_type": "code",
   "execution_count": 8,
   "id": "46167060",
   "metadata": {},
   "outputs": [
    {
     "name": "stdout",
     "output_type": "stream",
     "text": [
      "{1: [10, 20, 30], 2: [10, 20, 30], 3: [10, 20, 30], 4: [10, 20, 30], 5: [10, 20, 30]}\n"
     ]
    }
   ],
   "source": [
    "# 'fromkeys', \n",
    "# Create a new dictionary with keys from iterable and values set to value.\n",
    "\n",
    "# d1 = {}\n",
    "d1 = d1.fromkeys([1,2,3,4,5,], [10,20,30])\n",
    "print(d1)"
   ]
  },
  {
   "cell_type": "code",
   "execution_count": 9,
   "id": "faa7c3b0",
   "metadata": {},
   "outputs": [
    {
     "data": {
      "text/plain": [
       "{'abc': 'abc@gmail.com',\n",
       " 'abcd': 'abcd@yahoo.com',\n",
       " 'pqrst': 'pqrst@hotmail.com',\n",
       " 'mnopqr': 'mnopqr@gmail.com',\n",
       " 'pqr': 'pqr@rediffmail.com'}"
      ]
     },
     "execution_count": 9,
     "metadata": {},
     "output_type": "execute_result"
    }
   ],
   "source": [
    "# Dictionary comprehension - {key:expr for loop if cond}\n",
    "email_lst = ['abc@gmail.com', 'abcd@yahoo.com', 'pqrst@hotmail.com', 'mnopqr@gmail.com', 'pqr@rediffmail.com']\n",
    "usr_name = [var.split('@')[0] for var in email_lst]\n",
    "\n",
    "{usr_name[i]:email_lst[i] for i in range(5)}"
   ]
  },
  {
   "cell_type": "code",
   "execution_count": 10,
   "id": "508bc8b9",
   "metadata": {},
   "outputs": [
    {
     "name": "stdout",
     "output_type": "stream",
     "text": [
      "['abc', 'abcd', 'pqrst', 'mnopqr', 'pqr'] <class 'list'>\n",
      "('abc', 'abcd', 'pqrst', 'mnopqr', 'pqr') <class 'tuple'>\n"
     ]
    }
   ],
   "source": [
    "email_lst = ['abc@gmail.com', 'abcd@yahoo.com', 'pqrst@hotmail.com', 'mnopqr@gmail.com', 'pqr@rediffmail.com']\n",
    "\n",
    "email_lst = [var.split('@')[0] for var in email_lst ]\n",
    "print(email_lst, type(email_lst))\n",
    "\n",
    "email_lst_tup = tuple(email_lst)\n",
    "print(email_lst_tup, type(email_lst_tup))\n",
    "\n",
    "email_lst = list(email_lst_tup)"
   ]
  },
  {
   "cell_type": "code",
   "execution_count": null,
   "id": "a74e1dbf",
   "metadata": {},
   "outputs": [],
   "source": []
  },
  {
   "cell_type": "code",
   "execution_count": null,
   "id": "c388737c",
   "metadata": {},
   "outputs": [],
   "source": []
  },
  {
   "cell_type": "code",
   "execution_count": null,
   "id": "441f9c80",
   "metadata": {},
   "outputs": [],
   "source": []
  },
  {
   "cell_type": "code",
   "execution_count": null,
   "id": "42e74d9e",
   "metadata": {},
   "outputs": [],
   "source": []
  },
  {
   "cell_type": "code",
   "execution_count": null,
   "id": "01139b34",
   "metadata": {},
   "outputs": [],
   "source": []
  },
  {
   "cell_type": "code",
   "execution_count": null,
   "id": "105672c4",
   "metadata": {},
   "outputs": [],
   "source": []
  }
 ],
 "metadata": {
  "kernelspec": {
   "display_name": "Python 3 (ipykernel)",
   "language": "python",
   "name": "python3"
  },
  "language_info": {
   "codemirror_mode": {
    "name": "ipython",
    "version": 3
   },
   "file_extension": ".py",
   "mimetype": "text/x-python",
   "name": "python",
   "nbconvert_exporter": "python",
   "pygments_lexer": "ipython3",
   "version": "3.9.7"
  }
 },
 "nbformat": 4,
 "nbformat_minor": 5
}
