{
 "cells": [
  {
   "cell_type": "code",
   "execution_count": 16,
   "id": "bb875008",
   "metadata": {},
   "outputs": [
    {
     "name": "stdout",
     "output_type": "stream",
     "text": [
      "Enter a list: [20,50,13,15,19]\n",
      "<class 'list'>\n",
      "Enter a list: [100,200,300]\n",
      "[20, 50, 13, 15, [100, 200, 300]]\n"
     ]
    }
   ],
   "source": [
    "#1.1. Write a Python program to replace the last element in a list with another list. \n",
    "\n",
    "lst1 = eval(input('Enter a list: '))\n",
    "print(type(lst1))\n",
    "lst2 = eval(input('Enter a list: '))\n",
    "lst1[-1] = lst2\n",
    "print(lst1)"
   ]
  },
  {
   "cell_type": "code",
   "execution_count": 4,
   "id": "7463166c",
   "metadata": {},
   "outputs": [
    {
     "name": "stdout",
     "output_type": "stream",
     "text": [
      "Enter a tuple: 'sayanik',100,5.36\n",
      "(5.36, 100, 'sayanik')\n"
     ]
    }
   ],
   "source": [
    "#2.Write a Python program to reverse a tuple.(String and Numeric values)\n",
    "\n",
    "tpl1 = eval(input('Enter a tuple: '))\n",
    "tpl_new = tpl1[::-1]\n",
    "print(tpl_new)"
   ]
  },
  {
   "cell_type": "code",
   "execution_count": 5,
   "id": "6c691b3f",
   "metadata": {},
   "outputs": [
    {
     "name": "stdout",
     "output_type": "stream",
     "text": [
      "1452\n",
      "<class 'int'>\n",
      "11.23\n",
      "<class 'float'>\n",
      "(1+2j)\n",
      "<class 'complex'>\n",
      "True\n",
      "<class 'bool'>\n",
      "Atgeir\n",
      "<class 'str'>\n",
      "(0, -1)\n",
      "<class 'tuple'>\n",
      "[5, 12]\n",
      "<class 'list'>\n",
      "{'class': 'V', 'section': 'A'}\n",
      "<class 'dict'>\n"
     ]
    }
   ],
   "source": [
    "#3.Write a Python program that prints each item and its corresponding type from the following list\n",
    "\n",
    "datalist = [1452, 11.23, 1+2j, True, 'Atgeir', (0, -1), [5, 12], {\"class\":'V', \"section\":'A'}]\n",
    "for i in datalist:\n",
    "    print(i)\n",
    "    print(type(i))"
   ]
  },
  {
   "cell_type": "code",
   "execution_count": 6,
   "id": "45aa2eee",
   "metadata": {},
   "outputs": [
    {
     "name": "stdout",
     "output_type": "stream",
     "text": [
      "Enter a list: [\"Red\",\"Green\",\"Blue\",\"Yellow\"]\n"
     ]
    },
    {
     "data": {
      "text/plain": [
       "['Green', 'Blue']"
      ]
     },
     "execution_count": 6,
     "metadata": {},
     "output_type": "execute_result"
    }
   ],
   "source": [
    "#4.Write a Python program to display the middle two colors from the following list.\n",
    "\n",
    "color_lst = eval(input('Enter a list: '))\n",
    "color_lst[1:3]"
   ]
  },
  {
   "cell_type": "code",
   "execution_count": 12,
   "id": "5ce5cf2a",
   "metadata": {},
   "outputs": [
    {
     "name": "stdout",
     "output_type": "stream",
     "text": [
      "6 days\n"
     ]
    }
   ],
   "source": [
    "#5.Write a Python program to calculate the number of days between two dates. Note:from datetime import date\n",
    "\n",
    "from datetime import date\n",
    "date_1 = date(2022,7,10)\n",
    "date_2 = date(2022,7,4)\n",
    "date_diff = date_1-date_2\n",
    "print(date_diff.days,\"days\")"
   ]
  },
  {
   "cell_type": "code",
   "execution_count": 18,
   "id": "1dd0bfca",
   "metadata": {},
   "outputs": [
    {
     "name": "stdout",
     "output_type": "stream",
     "text": [
      "Enter a num:20\n",
      "6\n"
     ]
    }
   ],
   "source": [
    "#6.Write a Python program to get the difference between a given number and 17, if the number is greater than 17 then return double of the difference.(Print Absolute value of output)\n",
    "\n",
    "num1 = int(input(\"Enter a num:\"))\n",
    "if (num1 > 17):\n",
    "    print(2 * abs(num1-17))\n",
    "else:\n",
    "    print(abs(num1-17))"
   ]
  },
  {
   "cell_type": "code",
   "execution_count": 26,
   "id": "1b370da4",
   "metadata": {},
   "outputs": [
    {
     "name": "stdout",
     "output_type": "stream",
     "text": [
      "Enter a list: ['atgeir',56.79,False,True,9.86,'Sayanik']\n",
      "[False, 'atgeir', 56.79, True, 'Sayanik', 9.86]\n"
     ]
    }
   ],
   "source": [
    "#7.Write a Python program to shuffle and print a list entered by the user\n",
    "\n",
    "import random\n",
    "lst11 = eval(input('Enter a list: '))\n",
    "random.shuffle(lst11)\n",
    "print(lst11)"
   ]
  },
  {
   "cell_type": "code",
   "execution_count": 28,
   "id": "07f24731",
   "metadata": {},
   "outputs": [
    {
     "name": "stdout",
     "output_type": "stream",
     "text": [
      "Enter a list: [12,16,18,12,18,20]\n",
      "[16, 18, 12, 20]\n"
     ]
    }
   ],
   "source": [
    "#8.Write a Python program to get unique values from a list.\n",
    "\n",
    "lst_unq = eval(input('Enter a list: '))\n",
    "print(list(set(lst_unq)))"
   ]
  },
  {
   "cell_type": "code",
   "execution_count": 30,
   "id": "29672583",
   "metadata": {},
   "outputs": [
    {
     "name": "stdout",
     "output_type": "stream",
     "text": [
      "Enter a list: [12,14,16,12,13,14,16]\n",
      "[12, 14, 16, 13]\n",
      "<class 'list'>\n"
     ]
    }
   ],
   "source": [
    "#8.Write a Python program to get unique values from a list.\n",
    "\n",
    "lst_unq = eval(input('Enter a list: '))\n",
    "out_lst = []\n",
    "for x in lst_unq:\n",
    "    if x not in out_lst:\n",
    "        out_lst.append(x)\n",
    "print(out_lst)\n",
    "print(type(out_lst))"
   ]
  },
  {
   "cell_type": "code",
   "execution_count": 64,
   "id": "c9de875a",
   "metadata": {},
   "outputs": [
    {
     "name": "stdout",
     "output_type": "stream",
     "text": [
      "[(214, 235)]\n"
     ]
    }
   ],
   "source": [
    "#9.Extract tuples having 3 digit elements\n",
    "\n",
    "test_list = [(25, 6), (34, 7), (214, 235), (12, 45), (78,),(111,22),[356,729]]\n",
    "lst_new = [x for x in test_list if all(len(str(i))==3 and type(x)==tuple for i in x)]\n",
    "print(lst_new)"
   ]
  },
  {
   "cell_type": "code",
   "execution_count": 49,
   "id": "3655b408",
   "metadata": {},
   "outputs": [
    {
     "name": "stdout",
     "output_type": "stream",
     "text": [
      "Enter a list: [1,53,25,[32,89,[56,35],45,[96,822],83],89]\n",
      "[1, 53, 25, 32, 89, 56, 35, 45, 96, 822, 83, 89]\n"
     ]
    }
   ],
   "source": [
    "#10.Given a list with multiple sub list inside it. Convert it into flat list\n",
    "\n",
    "input_list = eval(input('Enter a list: '))\n",
    "out_list = []\n",
    "\n",
    "def list_flat(name_list):\n",
    "    for x in name_list:\n",
    "        if type(x) == list:\n",
    "            list_flat(x)\n",
    "        else:\n",
    "             out_list.append(x)\n",
    "\n",
    "list_flat(input_list)\n",
    "print(out_list)"
   ]
  },
  {
   "cell_type": "code",
   "execution_count": 67,
   "id": "63306710",
   "metadata": {
    "scrolled": true
   },
   "outputs": [
    {
     "name": "stdout",
     "output_type": "stream",
     "text": [
      "Enter a list: [[2,3,4,6],[8,9,10,6],[5,6,3,9]]\n",
      "Enter a list: [[4,9,3],[9,10,5],[8,9,2],[10,2,6]]\n",
      "[127, 96, 65]\n",
      "[253, 264, 125]\n",
      "[188, 150, 105]\n"
     ]
    }
   ],
   "source": [
    "#11.WAP to calculate multiplication of two matrices.\n",
    "\n",
    "mat1 = eval(input('Enter a list: '))\n",
    "mat2 = eval(input('Enter a list: '))\n",
    "out_mat = [[0,0,0,],[0,0,0,],[0,0,0,]]\n",
    "\n",
    "for i in range(len(mat1)):\n",
    "    for j in range(len(mat2[0])):\n",
    "        for k in range(len(mat2)):\n",
    "            out_mat[i][j] += mat1[i][k] * mat2[k][j]\n",
    "\n",
    "for l in out_mat:\n",
    "    print(l)"
   ]
  },
  {
   "cell_type": "code",
   "execution_count": null,
   "id": "c2a402dd",
   "metadata": {},
   "outputs": [],
   "source": []
  }
 ],
 "metadata": {
  "kernelspec": {
   "display_name": "Python 3 (ipykernel)",
   "language": "python",
   "name": "python3"
  },
  "language_info": {
   "codemirror_mode": {
    "name": "ipython",
    "version": 3
   },
   "file_extension": ".py",
   "mimetype": "text/x-python",
   "name": "python",
   "nbconvert_exporter": "python",
   "pygments_lexer": "ipython3",
   "version": "3.9.7"
  }
 },
 "nbformat": 4,
 "nbformat_minor": 5
}
