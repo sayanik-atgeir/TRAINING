{
 "cells": [
  {
   "cell_type": "markdown",
   "metadata": {
    "_uuid": "d76db92d1a2f45239227cbf473bd38168af60452",
    "id": "KVEv6-ndO6YH"
   },
   "source": [
    "# <center> Assignment #8\n",
    "## <center>  Exploratory data analysis with Pandas\n"
   ]
  },
  {
   "cell_type": "markdown",
   "metadata": {
    "_uuid": "871816f339b052f7c49025b19ddd06b634d2febb",
    "id": "Gj0sHyU0O6YJ"
   },
   "source": [
    "**In this task you should use Pandas to answer a few questions about the [Adult](https://archive.ics.uci.edu/ml/datasets/Adult) dataset. (You don't have to download the data – it's already  in the repository). Choose the answers in the [web-form](https://docs.google.com/forms/d/1uY7MpI2trKx6FLWZte0uVh3ULV4Cm_tDud0VDFGCOKg).**"
   ]
  },
  {
   "cell_type": "markdown",
   "metadata": {
    "_uuid": "f9641558236566bc4515b86271f69b2934afe7a9",
    "id": "OPq_ml_vO6YK"
   },
   "source": [
    "Unique values of features (for more information please see the link above):\n",
    "- `age`: continuous.\n",
    "- `workclass`: Private, Self-emp-not-inc, Self-emp-inc, Federal-gov, Local-gov, State-gov, Without-pay, Never-worked.\n",
    "- `fnlwgt`: continuous.\n",
    "- `education`: Bachelors, Some-college, 11th, HS-grad, Prof-school, Assoc-acdm, Assoc-voc, 9th, 7th-8th, 12th, Masters, 1st-4th, 10th, Doctorate, 5th-6th, Preschool.\n",
    "- `education-num`: continuous.\n",
    "- `marital-status`: Married-civ-spouse, Divorced, Never-married, Separated, Widowed, Married-spouse-absent, Married-AF-spouse.\n",
    "- `occupation`: Tech-support, Craft-repair, Other-service, Sales, Exec-managerial, Prof-specialty, Handlers-cleaners, Machine-op-inspct, Adm-clerical, Farming-fishing, Transport-moving, Priv-house-serv, Protective-serv, Armed-Forces.\n",
    "- `relationship`: Wife, Own-child, Husband, Not-in-family, Other-relative, Unmarried.\n",
    "- `race`: White, Asian-Pac-Islander, Amer-Indian-Eskimo, Other, Black.\n",
    "- `sex`: Female, Male.\n",
    "- `capital-gain`: continuous.\n",
    "- `capital-loss`: continuous.\n",
    "- `hours-per-week`: continuous.\n",
    "- `native-country`: United-States, Cambodia, England, Puerto-Rico, Canada, Germany, Outlying-US(Guam-USVI-etc), India, Japan, Greece, South, China, Cuba, Iran, Honduras, Philippines, Italy, Poland, Jamaica, Vietnam, Mexico, Portugal, Ireland, France, Dominican-Republic, Laos, Ecuador, Taiwan, Haiti, Columbia, Hungary, Guatemala, Nicaragua, Scotland, Thailand, Yugoslavia, El-Salvador, Trinadad&Tobago, Peru, Hong, Holand-Netherlands.   \n",
    "- `salary`: >50K,<=50K"
   ]
  },
  {
   "cell_type": "code",
   "execution_count": 1,
   "metadata": {
    "_uuid": "3570c8e98366e6e09f6e9e09bfef1385a74898a8",
    "id": "sdbWHx2hO6YL"
   },
   "outputs": [],
   "source": [
    "import numpy as np\n",
    "import pandas as pd"
   ]
  },
  {
   "cell_type": "code",
   "execution_count": 2,
   "metadata": {
    "_uuid": "00e99b05a3236a79b7177f4ddb63f8844c275f78",
    "id": "yk4EX3ZzO6YO"
   },
   "outputs": [],
   "source": [
    "data = pd.read_csv('adult.data.csv')"
   ]
  },
  {
   "cell_type": "code",
   "execution_count": 3,
   "metadata": {},
   "outputs": [
    {
     "data": {
      "text/html": [
       "<div>\n",
       "<style scoped>\n",
       "    .dataframe tbody tr th:only-of-type {\n",
       "        vertical-align: middle;\n",
       "    }\n",
       "\n",
       "    .dataframe tbody tr th {\n",
       "        vertical-align: top;\n",
       "    }\n",
       "\n",
       "    .dataframe thead th {\n",
       "        text-align: right;\n",
       "    }\n",
       "</style>\n",
       "<table border=\"1\" class=\"dataframe\">\n",
       "  <thead>\n",
       "    <tr style=\"text-align: right;\">\n",
       "      <th></th>\n",
       "      <th>age</th>\n",
       "      <th>workclass</th>\n",
       "      <th>fnlwgt</th>\n",
       "      <th>education</th>\n",
       "      <th>education-num</th>\n",
       "      <th>marital-status</th>\n",
       "      <th>occupation</th>\n",
       "      <th>relationship</th>\n",
       "      <th>race</th>\n",
       "      <th>sex</th>\n",
       "      <th>capital-gain</th>\n",
       "      <th>capital-loss</th>\n",
       "      <th>hours-per-week</th>\n",
       "      <th>native-country</th>\n",
       "      <th>salary</th>\n",
       "    </tr>\n",
       "  </thead>\n",
       "  <tbody>\n",
       "    <tr>\n",
       "      <th>0</th>\n",
       "      <td>39</td>\n",
       "      <td>State-gov</td>\n",
       "      <td>77516</td>\n",
       "      <td>Bachelors</td>\n",
       "      <td>13</td>\n",
       "      <td>Never-married</td>\n",
       "      <td>Adm-clerical</td>\n",
       "      <td>Not-in-family</td>\n",
       "      <td>White</td>\n",
       "      <td>Male</td>\n",
       "      <td>2174</td>\n",
       "      <td>0</td>\n",
       "      <td>40</td>\n",
       "      <td>United-States</td>\n",
       "      <td>&lt;=50K</td>\n",
       "    </tr>\n",
       "    <tr>\n",
       "      <th>1</th>\n",
       "      <td>50</td>\n",
       "      <td>Self-emp-not-inc</td>\n",
       "      <td>83311</td>\n",
       "      <td>Bachelors</td>\n",
       "      <td>13</td>\n",
       "      <td>Married-civ-spouse</td>\n",
       "      <td>Exec-managerial</td>\n",
       "      <td>Husband</td>\n",
       "      <td>White</td>\n",
       "      <td>Male</td>\n",
       "      <td>0</td>\n",
       "      <td>0</td>\n",
       "      <td>13</td>\n",
       "      <td>United-States</td>\n",
       "      <td>&lt;=50K</td>\n",
       "    </tr>\n",
       "    <tr>\n",
       "      <th>2</th>\n",
       "      <td>38</td>\n",
       "      <td>Private</td>\n",
       "      <td>215646</td>\n",
       "      <td>HS-grad</td>\n",
       "      <td>9</td>\n",
       "      <td>Divorced</td>\n",
       "      <td>Handlers-cleaners</td>\n",
       "      <td>Not-in-family</td>\n",
       "      <td>White</td>\n",
       "      <td>Male</td>\n",
       "      <td>0</td>\n",
       "      <td>0</td>\n",
       "      <td>40</td>\n",
       "      <td>United-States</td>\n",
       "      <td>&lt;=50K</td>\n",
       "    </tr>\n",
       "    <tr>\n",
       "      <th>3</th>\n",
       "      <td>53</td>\n",
       "      <td>Private</td>\n",
       "      <td>234721</td>\n",
       "      <td>11th</td>\n",
       "      <td>7</td>\n",
       "      <td>Married-civ-spouse</td>\n",
       "      <td>Handlers-cleaners</td>\n",
       "      <td>Husband</td>\n",
       "      <td>Black</td>\n",
       "      <td>Male</td>\n",
       "      <td>0</td>\n",
       "      <td>0</td>\n",
       "      <td>40</td>\n",
       "      <td>United-States</td>\n",
       "      <td>&lt;=50K</td>\n",
       "    </tr>\n",
       "    <tr>\n",
       "      <th>4</th>\n",
       "      <td>28</td>\n",
       "      <td>Private</td>\n",
       "      <td>338409</td>\n",
       "      <td>Bachelors</td>\n",
       "      <td>13</td>\n",
       "      <td>Married-civ-spouse</td>\n",
       "      <td>Prof-specialty</td>\n",
       "      <td>Wife</td>\n",
       "      <td>Black</td>\n",
       "      <td>Female</td>\n",
       "      <td>0</td>\n",
       "      <td>0</td>\n",
       "      <td>40</td>\n",
       "      <td>Cuba</td>\n",
       "      <td>&lt;=50K</td>\n",
       "    </tr>\n",
       "    <tr>\n",
       "      <th>...</th>\n",
       "      <td>...</td>\n",
       "      <td>...</td>\n",
       "      <td>...</td>\n",
       "      <td>...</td>\n",
       "      <td>...</td>\n",
       "      <td>...</td>\n",
       "      <td>...</td>\n",
       "      <td>...</td>\n",
       "      <td>...</td>\n",
       "      <td>...</td>\n",
       "      <td>...</td>\n",
       "      <td>...</td>\n",
       "      <td>...</td>\n",
       "      <td>...</td>\n",
       "      <td>...</td>\n",
       "    </tr>\n",
       "    <tr>\n",
       "      <th>32556</th>\n",
       "      <td>27</td>\n",
       "      <td>Private</td>\n",
       "      <td>257302</td>\n",
       "      <td>Assoc-acdm</td>\n",
       "      <td>12</td>\n",
       "      <td>Married-civ-spouse</td>\n",
       "      <td>Tech-support</td>\n",
       "      <td>Wife</td>\n",
       "      <td>White</td>\n",
       "      <td>Female</td>\n",
       "      <td>0</td>\n",
       "      <td>0</td>\n",
       "      <td>38</td>\n",
       "      <td>United-States</td>\n",
       "      <td>&lt;=50K</td>\n",
       "    </tr>\n",
       "    <tr>\n",
       "      <th>32557</th>\n",
       "      <td>40</td>\n",
       "      <td>Private</td>\n",
       "      <td>154374</td>\n",
       "      <td>HS-grad</td>\n",
       "      <td>9</td>\n",
       "      <td>Married-civ-spouse</td>\n",
       "      <td>Machine-op-inspct</td>\n",
       "      <td>Husband</td>\n",
       "      <td>White</td>\n",
       "      <td>Male</td>\n",
       "      <td>0</td>\n",
       "      <td>0</td>\n",
       "      <td>40</td>\n",
       "      <td>United-States</td>\n",
       "      <td>&gt;50K</td>\n",
       "    </tr>\n",
       "    <tr>\n",
       "      <th>32558</th>\n",
       "      <td>58</td>\n",
       "      <td>Private</td>\n",
       "      <td>151910</td>\n",
       "      <td>HS-grad</td>\n",
       "      <td>9</td>\n",
       "      <td>Widowed</td>\n",
       "      <td>Adm-clerical</td>\n",
       "      <td>Unmarried</td>\n",
       "      <td>White</td>\n",
       "      <td>Female</td>\n",
       "      <td>0</td>\n",
       "      <td>0</td>\n",
       "      <td>40</td>\n",
       "      <td>United-States</td>\n",
       "      <td>&lt;=50K</td>\n",
       "    </tr>\n",
       "    <tr>\n",
       "      <th>32559</th>\n",
       "      <td>22</td>\n",
       "      <td>Private</td>\n",
       "      <td>201490</td>\n",
       "      <td>HS-grad</td>\n",
       "      <td>9</td>\n",
       "      <td>Never-married</td>\n",
       "      <td>Adm-clerical</td>\n",
       "      <td>Own-child</td>\n",
       "      <td>White</td>\n",
       "      <td>Male</td>\n",
       "      <td>0</td>\n",
       "      <td>0</td>\n",
       "      <td>20</td>\n",
       "      <td>United-States</td>\n",
       "      <td>&lt;=50K</td>\n",
       "    </tr>\n",
       "    <tr>\n",
       "      <th>32560</th>\n",
       "      <td>52</td>\n",
       "      <td>Self-emp-inc</td>\n",
       "      <td>287927</td>\n",
       "      <td>HS-grad</td>\n",
       "      <td>9</td>\n",
       "      <td>Married-civ-spouse</td>\n",
       "      <td>Exec-managerial</td>\n",
       "      <td>Wife</td>\n",
       "      <td>White</td>\n",
       "      <td>Female</td>\n",
       "      <td>15024</td>\n",
       "      <td>0</td>\n",
       "      <td>40</td>\n",
       "      <td>United-States</td>\n",
       "      <td>&gt;50K</td>\n",
       "    </tr>\n",
       "  </tbody>\n",
       "</table>\n",
       "<p>32561 rows × 15 columns</p>\n",
       "</div>"
      ],
      "text/plain": [
       "       age         workclass  fnlwgt   education  education-num  \\\n",
       "0       39         State-gov   77516   Bachelors             13   \n",
       "1       50  Self-emp-not-inc   83311   Bachelors             13   \n",
       "2       38           Private  215646     HS-grad              9   \n",
       "3       53           Private  234721        11th              7   \n",
       "4       28           Private  338409   Bachelors             13   \n",
       "...    ...               ...     ...         ...            ...   \n",
       "32556   27           Private  257302  Assoc-acdm             12   \n",
       "32557   40           Private  154374     HS-grad              9   \n",
       "32558   58           Private  151910     HS-grad              9   \n",
       "32559   22           Private  201490     HS-grad              9   \n",
       "32560   52      Self-emp-inc  287927     HS-grad              9   \n",
       "\n",
       "           marital-status         occupation   relationship   race     sex  \\\n",
       "0           Never-married       Adm-clerical  Not-in-family  White    Male   \n",
       "1      Married-civ-spouse    Exec-managerial        Husband  White    Male   \n",
       "2                Divorced  Handlers-cleaners  Not-in-family  White    Male   \n",
       "3      Married-civ-spouse  Handlers-cleaners        Husband  Black    Male   \n",
       "4      Married-civ-spouse     Prof-specialty           Wife  Black  Female   \n",
       "...                   ...                ...            ...    ...     ...   \n",
       "32556  Married-civ-spouse       Tech-support           Wife  White  Female   \n",
       "32557  Married-civ-spouse  Machine-op-inspct        Husband  White    Male   \n",
       "32558             Widowed       Adm-clerical      Unmarried  White  Female   \n",
       "32559       Never-married       Adm-clerical      Own-child  White    Male   \n",
       "32560  Married-civ-spouse    Exec-managerial           Wife  White  Female   \n",
       "\n",
       "       capital-gain  capital-loss  hours-per-week native-country salary  \n",
       "0              2174             0              40  United-States  <=50K  \n",
       "1                 0             0              13  United-States  <=50K  \n",
       "2                 0             0              40  United-States  <=50K  \n",
       "3                 0             0              40  United-States  <=50K  \n",
       "4                 0             0              40           Cuba  <=50K  \n",
       "...             ...           ...             ...            ...    ...  \n",
       "32556             0             0              38  United-States  <=50K  \n",
       "32557             0             0              40  United-States   >50K  \n",
       "32558             0             0              40  United-States  <=50K  \n",
       "32559             0             0              20  United-States  <=50K  \n",
       "32560         15024             0              40  United-States   >50K  \n",
       "\n",
       "[32561 rows x 15 columns]"
      ]
     },
     "execution_count": 3,
     "metadata": {},
     "output_type": "execute_result"
    }
   ],
   "source": [
    "data"
   ]
  },
  {
   "cell_type": "markdown",
   "metadata": {
    "id": "gb10jQruVUS0"
   },
   "source": [
    "**1. Print first 5 rows**"
   ]
  },
  {
   "cell_type": "code",
   "execution_count": 4,
   "metadata": {
    "id": "Vsw9hiIyVbM8"
   },
   "outputs": [
    {
     "data": {
      "text/html": [
       "<div>\n",
       "<style scoped>\n",
       "    .dataframe tbody tr th:only-of-type {\n",
       "        vertical-align: middle;\n",
       "    }\n",
       "\n",
       "    .dataframe tbody tr th {\n",
       "        vertical-align: top;\n",
       "    }\n",
       "\n",
       "    .dataframe thead th {\n",
       "        text-align: right;\n",
       "    }\n",
       "</style>\n",
       "<table border=\"1\" class=\"dataframe\">\n",
       "  <thead>\n",
       "    <tr style=\"text-align: right;\">\n",
       "      <th></th>\n",
       "      <th>age</th>\n",
       "      <th>workclass</th>\n",
       "      <th>fnlwgt</th>\n",
       "      <th>education</th>\n",
       "      <th>education-num</th>\n",
       "      <th>marital-status</th>\n",
       "      <th>occupation</th>\n",
       "      <th>relationship</th>\n",
       "      <th>race</th>\n",
       "      <th>sex</th>\n",
       "      <th>capital-gain</th>\n",
       "      <th>capital-loss</th>\n",
       "      <th>hours-per-week</th>\n",
       "      <th>native-country</th>\n",
       "      <th>salary</th>\n",
       "    </tr>\n",
       "  </thead>\n",
       "  <tbody>\n",
       "    <tr>\n",
       "      <th>0</th>\n",
       "      <td>39</td>\n",
       "      <td>State-gov</td>\n",
       "      <td>77516</td>\n",
       "      <td>Bachelors</td>\n",
       "      <td>13</td>\n",
       "      <td>Never-married</td>\n",
       "      <td>Adm-clerical</td>\n",
       "      <td>Not-in-family</td>\n",
       "      <td>White</td>\n",
       "      <td>Male</td>\n",
       "      <td>2174</td>\n",
       "      <td>0</td>\n",
       "      <td>40</td>\n",
       "      <td>United-States</td>\n",
       "      <td>&lt;=50K</td>\n",
       "    </tr>\n",
       "    <tr>\n",
       "      <th>1</th>\n",
       "      <td>50</td>\n",
       "      <td>Self-emp-not-inc</td>\n",
       "      <td>83311</td>\n",
       "      <td>Bachelors</td>\n",
       "      <td>13</td>\n",
       "      <td>Married-civ-spouse</td>\n",
       "      <td>Exec-managerial</td>\n",
       "      <td>Husband</td>\n",
       "      <td>White</td>\n",
       "      <td>Male</td>\n",
       "      <td>0</td>\n",
       "      <td>0</td>\n",
       "      <td>13</td>\n",
       "      <td>United-States</td>\n",
       "      <td>&lt;=50K</td>\n",
       "    </tr>\n",
       "    <tr>\n",
       "      <th>2</th>\n",
       "      <td>38</td>\n",
       "      <td>Private</td>\n",
       "      <td>215646</td>\n",
       "      <td>HS-grad</td>\n",
       "      <td>9</td>\n",
       "      <td>Divorced</td>\n",
       "      <td>Handlers-cleaners</td>\n",
       "      <td>Not-in-family</td>\n",
       "      <td>White</td>\n",
       "      <td>Male</td>\n",
       "      <td>0</td>\n",
       "      <td>0</td>\n",
       "      <td>40</td>\n",
       "      <td>United-States</td>\n",
       "      <td>&lt;=50K</td>\n",
       "    </tr>\n",
       "    <tr>\n",
       "      <th>3</th>\n",
       "      <td>53</td>\n",
       "      <td>Private</td>\n",
       "      <td>234721</td>\n",
       "      <td>11th</td>\n",
       "      <td>7</td>\n",
       "      <td>Married-civ-spouse</td>\n",
       "      <td>Handlers-cleaners</td>\n",
       "      <td>Husband</td>\n",
       "      <td>Black</td>\n",
       "      <td>Male</td>\n",
       "      <td>0</td>\n",
       "      <td>0</td>\n",
       "      <td>40</td>\n",
       "      <td>United-States</td>\n",
       "      <td>&lt;=50K</td>\n",
       "    </tr>\n",
       "    <tr>\n",
       "      <th>4</th>\n",
       "      <td>28</td>\n",
       "      <td>Private</td>\n",
       "      <td>338409</td>\n",
       "      <td>Bachelors</td>\n",
       "      <td>13</td>\n",
       "      <td>Married-civ-spouse</td>\n",
       "      <td>Prof-specialty</td>\n",
       "      <td>Wife</td>\n",
       "      <td>Black</td>\n",
       "      <td>Female</td>\n",
       "      <td>0</td>\n",
       "      <td>0</td>\n",
       "      <td>40</td>\n",
       "      <td>Cuba</td>\n",
       "      <td>&lt;=50K</td>\n",
       "    </tr>\n",
       "  </tbody>\n",
       "</table>\n",
       "</div>"
      ],
      "text/plain": [
       "   age         workclass  fnlwgt  education  education-num  \\\n",
       "0   39         State-gov   77516  Bachelors             13   \n",
       "1   50  Self-emp-not-inc   83311  Bachelors             13   \n",
       "2   38           Private  215646    HS-grad              9   \n",
       "3   53           Private  234721       11th              7   \n",
       "4   28           Private  338409  Bachelors             13   \n",
       "\n",
       "       marital-status         occupation   relationship   race     sex  \\\n",
       "0       Never-married       Adm-clerical  Not-in-family  White    Male   \n",
       "1  Married-civ-spouse    Exec-managerial        Husband  White    Male   \n",
       "2            Divorced  Handlers-cleaners  Not-in-family  White    Male   \n",
       "3  Married-civ-spouse  Handlers-cleaners        Husband  Black    Male   \n",
       "4  Married-civ-spouse     Prof-specialty           Wife  Black  Female   \n",
       "\n",
       "   capital-gain  capital-loss  hours-per-week native-country salary  \n",
       "0          2174             0              40  United-States  <=50K  \n",
       "1             0             0              13  United-States  <=50K  \n",
       "2             0             0              40  United-States  <=50K  \n",
       "3             0             0              40  United-States  <=50K  \n",
       "4             0             0              40           Cuba  <=50K  "
      ]
     },
     "execution_count": 4,
     "metadata": {},
     "output_type": "execute_result"
    }
   ],
   "source": [
    "data.head()"
   ]
  },
  {
   "cell_type": "markdown",
   "metadata": {
    "_uuid": "91ae74b07f8d0f10549b2feb55dc39886a601820",
    "id": "3QWZi7-OO6YP"
   },
   "source": [
    "**2. How many men and women (*sex* feature) are represented in this dataset?** "
   ]
  },
  {
   "cell_type": "code",
   "execution_count": 8,
   "metadata": {
    "_uuid": "b47a687d2ef3a449909c9212421d83e42c039bd8",
    "colab": {
     "base_uri": "https://localhost:8080/"
    },
    "executionInfo": {
     "elapsed": 549,
     "status": "ok",
     "timestamp": 1642175621620,
     "user": {
      "displayName": "Farha Qureshi",
      "photoUrl": "https://lh3.googleusercontent.com/a-/AOh14Gg-CuU0ovHxtmuyLYlK2dlucANMR2TBI4unTdTiP9VoMh5O86Co68L3fYO5_BOzxJC5aENsqgab3hMRb3zgJ3tUP8ZrSQ4OMbE-IbIVTC-2nG6IEtgFntuTvA2YR_oXjtxiZojgTz27RpMvMDWSrFoUgE8hutSo1HQSpDXkQWEqp-B1w4AjBCzTQWyFatzQ7s3T6mPe-i8L985NUlWu9Gl3sUmoXGmXVVRaKLqAP8bCbmiN1d3rDcsh6S0cJx38PzOLqZt8XPIxKfETAK9GIrAoCmJLpgaFhbxe1-6KR0czPHlHKpv3gHzyZQDw8quuCIMnTUVlXYkTphi7Lqn0izZPlWofY-YE4-8Nqr1NiHhE1EvzhOFTe9xHJTDNXPYzTQ5rb0M7c6zpoeoFOLjLyuZuGPLiMs9UT2VYU4AxHcmXVcImZJ9PBxDmPg7ZTMuzb8TN-thgI95sthgtnfXNe-k6zktTpAfNS95_w7X21wQUAtjljxYhU7-m-n4p-Vsfuzr3hAPob9w2SokmlfgHTdXXtvAoC9R1blE1bG4ogGc7otPfH2xvxgiK1v9H2QvLFomMF_H02XwdjOjRZmVNF0Tl5c3klO4IMYY5JE4DSb47AcqqLPootL3ZMfkLDCEBIniB7lM4-qv1ooF3W8EHiVcUGlx8AePt_OtIHXXwCBJLmOTTQCLZRIj8dZmqrMQb4OeMPnkX6BdRfY-GDLBtpnLSIvm_FuzDtyIzok-b7grOA7C_UxRGhe1o0FYf-22sEQ=s64",
      "userId": "04634770902388220364"
     },
     "user_tz": -330
    },
    "id": "Ppky4UshO6YQ",
    "outputId": "3545eb62-5c93-44ee-dce3-cbe7d89f215d"
   },
   "outputs": [
    {
     "data": {
      "text/plain": [
       "Male      21790\n",
       "Female    10771\n",
       "Name: sex, dtype: int64"
      ]
     },
     "execution_count": 8,
     "metadata": {},
     "output_type": "execute_result"
    }
   ],
   "source": [
    "data['sex'].value_counts()"
   ]
  },
  {
   "cell_type": "markdown",
   "metadata": {
    "_uuid": "a5d127ecc8d050395077b5a1c0b14d97d93cacc9",
    "id": "LG_BNpWBO6YR"
   },
   "source": [
    "**3. What is the average age (*age* feature) of women?**"
   ]
  },
  {
   "cell_type": "code",
   "execution_count": 30,
   "metadata": {},
   "outputs": [
    {
     "data": {
      "text/plain": [
       "36.85823043357163"
      ]
     },
     "execution_count": 30,
     "metadata": {},
     "output_type": "execute_result"
    }
   ],
   "source": [
    "a = data.groupby(['sex']).get_group('Female')\n",
    "a['age'].mean()"
   ]
  },
  {
   "cell_type": "markdown",
   "metadata": {
    "_uuid": "ada771f6ca96842c828ab872caa28ffa79774482",
    "id": "s08-eEnSO6YT"
   },
   "source": [
    "**4. What is the proportion of German citizens (*native-country* feature)?**"
   ]
  },
  {
   "cell_type": "code",
   "execution_count": 60,
   "metadata": {
    "_uuid": "4edbe332b55c59e05da5574920b0f91283b7814a",
    "colab": {
     "base_uri": "https://localhost:8080/"
    },
    "executionInfo": {
     "elapsed": 4,
     "status": "ok",
     "timestamp": 1642175632094,
     "user": {
      "displayName": "Farha Qureshi",
      "photoUrl": "https://lh3.googleusercontent.com/a-/AOh14Gg-CuU0ovHxtmuyLYlK2dlucANMR2TBI4unTdTiP9VoMh5O86Co68L3fYO5_BOzxJC5aENsqgab3hMRb3zgJ3tUP8ZrSQ4OMbE-IbIVTC-2nG6IEtgFntuTvA2YR_oXjtxiZojgTz27RpMvMDWSrFoUgE8hutSo1HQSpDXkQWEqp-B1w4AjBCzTQWyFatzQ7s3T6mPe-i8L985NUlWu9Gl3sUmoXGmXVVRaKLqAP8bCbmiN1d3rDcsh6S0cJx38PzOLqZt8XPIxKfETAK9GIrAoCmJLpgaFhbxe1-6KR0czPHlHKpv3gHzyZQDw8quuCIMnTUVlXYkTphi7Lqn0izZPlWofY-YE4-8Nqr1NiHhE1EvzhOFTe9xHJTDNXPYzTQ5rb0M7c6zpoeoFOLjLyuZuGPLiMs9UT2VYU4AxHcmXVcImZJ9PBxDmPg7ZTMuzb8TN-thgI95sthgtnfXNe-k6zktTpAfNS95_w7X21wQUAtjljxYhU7-m-n4p-Vsfuzr3hAPob9w2SokmlfgHTdXXtvAoC9R1blE1bG4ogGc7otPfH2xvxgiK1v9H2QvLFomMF_H02XwdjOjRZmVNF0Tl5c3klO4IMYY5JE4DSb47AcqqLPootL3ZMfkLDCEBIniB7lM4-qv1ooF3W8EHiVcUGlx8AePt_OtIHXXwCBJLmOTTQCLZRIj8dZmqrMQb4OeMPnkX6BdRfY-GDLBtpnLSIvm_FuzDtyIzok-b7grOA7C_UxRGhe1o0FYf-22sEQ=s64",
      "userId": "04634770902388220364"
     },
     "user_tz": -330
    },
    "id": "xc-aquWaO6YT",
    "outputId": "a0c9dee9-9b7b-4790-899d-b729446cfd23",
    "scrolled": true
   },
   "outputs": [
    {
     "data": {
      "text/plain": [
       "0.004207487485028101"
      ]
     },
     "execution_count": 60,
     "metadata": {},
     "output_type": "execute_result"
    }
   ],
   "source": [
    "b = data.groupby(['native-country']).get_group('Germany')\n",
    "b.shape[0]/data.shape[0]"
   ]
  },
  {
   "cell_type": "markdown",
   "metadata": {
    "_uuid": "33938b38d3bcf5651b2b6cb4b77ffee764847aa8",
    "id": "SouhTdR7O6YU"
   },
   "source": [
    "**4-5. What are mean value and standard deviation of the age of those who recieve more than 50K per year (*salary* feature) and those who receive less than 50K per year? **"
   ]
  },
  {
   "cell_type": "code",
   "execution_count": 36,
   "metadata": {
    "_uuid": "94d017ce7c339eae7a13a816cee415527837d802",
    "colab": {
     "base_uri": "https://localhost:8080/"
    },
    "executionInfo": {
     "elapsed": 5,
     "status": "ok",
     "timestamp": 1642175636411,
     "user": {
      "displayName": "Farha Qureshi",
      "photoUrl": "https://lh3.googleusercontent.com/a-/AOh14Gg-CuU0ovHxtmuyLYlK2dlucANMR2TBI4unTdTiP9VoMh5O86Co68L3fYO5_BOzxJC5aENsqgab3hMRb3zgJ3tUP8ZrSQ4OMbE-IbIVTC-2nG6IEtgFntuTvA2YR_oXjtxiZojgTz27RpMvMDWSrFoUgE8hutSo1HQSpDXkQWEqp-B1w4AjBCzTQWyFatzQ7s3T6mPe-i8L985NUlWu9Gl3sUmoXGmXVVRaKLqAP8bCbmiN1d3rDcsh6S0cJx38PzOLqZt8XPIxKfETAK9GIrAoCmJLpgaFhbxe1-6KR0czPHlHKpv3gHzyZQDw8quuCIMnTUVlXYkTphi7Lqn0izZPlWofY-YE4-8Nqr1NiHhE1EvzhOFTe9xHJTDNXPYzTQ5rb0M7c6zpoeoFOLjLyuZuGPLiMs9UT2VYU4AxHcmXVcImZJ9PBxDmPg7ZTMuzb8TN-thgI95sthgtnfXNe-k6zktTpAfNS95_w7X21wQUAtjljxYhU7-m-n4p-Vsfuzr3hAPob9w2SokmlfgHTdXXtvAoC9R1blE1bG4ogGc7otPfH2xvxgiK1v9H2QvLFomMF_H02XwdjOjRZmVNF0Tl5c3klO4IMYY5JE4DSb47AcqqLPootL3ZMfkLDCEBIniB7lM4-qv1ooF3W8EHiVcUGlx8AePt_OtIHXXwCBJLmOTTQCLZRIj8dZmqrMQb4OeMPnkX6BdRfY-GDLBtpnLSIvm_FuzDtyIzok-b7grOA7C_UxRGhe1o0FYf-22sEQ=s64",
      "userId": "04634770902388220364"
     },
     "user_tz": -330
    },
    "id": "24GYsKarO6YV",
    "outputId": "69c54e0d-9eb6-4a8f-d475-c1b99e6c0ee2"
   },
   "outputs": [
    {
     "name": "stdout",
     "output_type": "stream",
     "text": [
      "The average age of the rich: 44 +- 10.5 years, poor - 37 +- 14.0 years.\n"
     ]
    }
   ],
   "source": [
    "ages1 = data.loc[data['salary'] == '>50K', 'age']\n",
    "ages2 = data.loc[data['salary'] == '<=50K', 'age']\n",
    "print(\"The average age of the rich: {0} +- {1} years, poor - {2} +- {3} years.\".format(\n",
    "    round(ages1.mean()), round(ages1.std(), 1),\n",
    "    round(ages2.mean()), round(ages2.std(), 1)))"
   ]
  },
  {
   "cell_type": "markdown",
   "metadata": {
    "_uuid": "bce4b94a99843606b948b70f5502035223b9b7ba",
    "id": "mYooVZrFO6YV"
   },
   "source": [
    "**6. Is it true that people who receive more than 50k have at least high school education? (*education - Bachelors, Prof-school, Assoc-acdm, Assoc-voc, Masters* or *Doctorate* feature)**"
   ]
  },
  {
   "cell_type": "markdown",
   "metadata": {},
   "source": [
    "No it is false"
   ]
  },
  {
   "cell_type": "code",
   "execution_count": 41,
   "metadata": {},
   "outputs": [
    {
     "data": {
      "text/plain": [
       "Bachelors       2221\n",
       "HS-grad         1675\n",
       "Some-college    1387\n",
       "Masters          959\n",
       "Prof-school      423\n",
       "Assoc-voc        361\n",
       "Doctorate        306\n",
       "Assoc-acdm       265\n",
       "10th              62\n",
       "11th              60\n",
       "7th-8th           40\n",
       "12th              33\n",
       "9th               27\n",
       "5th-6th           16\n",
       "1st-4th            6\n",
       "Name: education, dtype: int64"
      ]
     },
     "execution_count": 41,
     "metadata": {},
     "output_type": "execute_result"
    }
   ],
   "source": [
    "edu = data.loc[data['salary'] == '>50K', 'education']\n",
    "edu.value_counts()"
   ]
  },
  {
   "cell_type": "markdown",
   "metadata": {
    "_uuid": "b50e3e7bdbb660bdaeed0ab41c1f7ea774a04a60",
    "id": "-s5l3VwzO6YW"
   },
   "source": [
    "**7. Display statistics of age for each race (*race* feature) and each gender. Use *groupby()* and *describe()*. Find the maximum age of men of *Amer-Indian-Eskimo* race.**"
   ]
  },
  {
   "cell_type": "code",
   "execution_count": 45,
   "metadata": {
    "_uuid": "f8d3404d2871b68504a3920faa635d723ac2f45b",
    "colab": {
     "base_uri": "https://localhost:8080/"
    },
    "executionInfo": {
     "elapsed": 809,
     "status": "ok",
     "timestamp": 1642175657024,
     "user": {
      "displayName": "Farha Qureshi",
      "photoUrl": "https://lh3.googleusercontent.com/a-/AOh14Gg-CuU0ovHxtmuyLYlK2dlucANMR2TBI4unTdTiP9VoMh5O86Co68L3fYO5_BOzxJC5aENsqgab3hMRb3zgJ3tUP8ZrSQ4OMbE-IbIVTC-2nG6IEtgFntuTvA2YR_oXjtxiZojgTz27RpMvMDWSrFoUgE8hutSo1HQSpDXkQWEqp-B1w4AjBCzTQWyFatzQ7s3T6mPe-i8L985NUlWu9Gl3sUmoXGmXVVRaKLqAP8bCbmiN1d3rDcsh6S0cJx38PzOLqZt8XPIxKfETAK9GIrAoCmJLpgaFhbxe1-6KR0czPHlHKpv3gHzyZQDw8quuCIMnTUVlXYkTphi7Lqn0izZPlWofY-YE4-8Nqr1NiHhE1EvzhOFTe9xHJTDNXPYzTQ5rb0M7c6zpoeoFOLjLyuZuGPLiMs9UT2VYU4AxHcmXVcImZJ9PBxDmPg7ZTMuzb8TN-thgI95sthgtnfXNe-k6zktTpAfNS95_w7X21wQUAtjljxYhU7-m-n4p-Vsfuzr3hAPob9w2SokmlfgHTdXXtvAoC9R1blE1bG4ogGc7otPfH2xvxgiK1v9H2QvLFomMF_H02XwdjOjRZmVNF0Tl5c3klO4IMYY5JE4DSb47AcqqLPootL3ZMfkLDCEBIniB7lM4-qv1ooF3W8EHiVcUGlx8AePt_OtIHXXwCBJLmOTTQCLZRIj8dZmqrMQb4OeMPnkX6BdRfY-GDLBtpnLSIvm_FuzDtyIzok-b7grOA7C_UxRGhe1o0FYf-22sEQ=s64",
      "userId": "04634770902388220364"
     },
     "user_tz": -330
    },
    "id": "1eIlgeQFO6YW",
    "outputId": "67fb3e72-e78f-40c6-d07c-3ed30af2bb67"
   },
   "outputs": [
    {
     "name": "stdout",
     "output_type": "stream",
     "text": [
      "Race: Amer-Indian-Eskimo, sex: Female\n",
      "count    119.000000\n",
      "mean      37.117647\n",
      "std       13.114991\n",
      "min       17.000000\n",
      "25%       27.000000\n",
      "50%       36.000000\n",
      "75%       46.000000\n",
      "max       80.000000\n",
      "Name: age, dtype: float64\n",
      "Race: Amer-Indian-Eskimo, sex: Male\n",
      "count    192.000000\n",
      "mean      37.208333\n",
      "std       12.049563\n",
      "min       17.000000\n",
      "25%       28.000000\n",
      "50%       35.000000\n",
      "75%       45.000000\n",
      "max       82.000000\n",
      "Name: age, dtype: float64\n",
      "Race: Asian-Pac-Islander, sex: Female\n",
      "count    346.000000\n",
      "mean      35.089595\n",
      "std       12.300845\n",
      "min       17.000000\n",
      "25%       25.000000\n",
      "50%       33.000000\n",
      "75%       43.750000\n",
      "max       75.000000\n",
      "Name: age, dtype: float64\n",
      "Race: Asian-Pac-Islander, sex: Male\n",
      "count    693.000000\n",
      "mean      39.073593\n",
      "std       12.883944\n",
      "min       18.000000\n",
      "25%       29.000000\n",
      "50%       37.000000\n",
      "75%       46.000000\n",
      "max       90.000000\n",
      "Name: age, dtype: float64\n",
      "Race: Black, sex: Female\n",
      "count    1555.000000\n",
      "mean       37.854019\n",
      "std        12.637197\n",
      "min        17.000000\n",
      "25%        28.000000\n",
      "50%        37.000000\n",
      "75%        46.000000\n",
      "max        90.000000\n",
      "Name: age, dtype: float64\n",
      "Race: Black, sex: Male\n",
      "count    1569.000000\n",
      "mean       37.682600\n",
      "std        12.882612\n",
      "min        17.000000\n",
      "25%        27.000000\n",
      "50%        36.000000\n",
      "75%        46.000000\n",
      "max        90.000000\n",
      "Name: age, dtype: float64\n",
      "Race: Other, sex: Female\n",
      "count    109.000000\n",
      "mean      31.678899\n",
      "std       11.631599\n",
      "min       17.000000\n",
      "25%       23.000000\n",
      "50%       29.000000\n",
      "75%       39.000000\n",
      "max       74.000000\n",
      "Name: age, dtype: float64\n",
      "Race: Other, sex: Male\n",
      "count    162.000000\n",
      "mean      34.654321\n",
      "std       11.355531\n",
      "min       17.000000\n",
      "25%       26.000000\n",
      "50%       32.000000\n",
      "75%       42.000000\n",
      "max       77.000000\n",
      "Name: age, dtype: float64\n",
      "Race: White, sex: Female\n",
      "count    8642.000000\n",
      "mean       36.811618\n",
      "std        14.329093\n",
      "min        17.000000\n",
      "25%        25.000000\n",
      "50%        35.000000\n",
      "75%        46.000000\n",
      "max        90.000000\n",
      "Name: age, dtype: float64\n",
      "Race: White, sex: Male\n",
      "count    19174.000000\n",
      "mean        39.652498\n",
      "std         13.436029\n",
      "min         17.000000\n",
      "25%         29.000000\n",
      "50%         38.000000\n",
      "75%         49.000000\n",
      "max         90.000000\n",
      "Name: age, dtype: float64\n"
     ]
    }
   ],
   "source": [
    "for (race, sex), sub_df in data.groupby(['race', 'sex']):\n",
    "    print(\"Race: {0}, sex: {1}\".format(race, sex))\n",
    "    print(sub_df['age'].describe())"
   ]
  },
  {
   "cell_type": "code",
   "execution_count": 48,
   "metadata": {},
   "outputs": [
    {
     "data": {
      "text/plain": [
       "Male    19174\n",
       "Name: sex, dtype: int64"
      ]
     },
     "execution_count": 48,
     "metadata": {},
     "output_type": "execute_result"
    }
   ],
   "source": [
    "sub_df['sex'].value_counts()"
   ]
  },
  {
   "cell_type": "markdown",
   "metadata": {
    "_uuid": "94c7cf8d903653f4f661e079fc84513f61752e57",
    "id": "wQKGhTpYO6YX"
   },
   "source": [
    "**8. Among whom the proportion of those who earn a lot(>50K) is more: among married or single men (*marital-status* feature)? Consider married those who have a *marital-status* starting with *Married* (Married-civ-spouse, Married-spouse-absent or Married-AF-spouse), the rest are considered bachelors.**"
   ]
  },
  {
   "cell_type": "code",
   "execution_count": 37,
   "metadata": {
    "_uuid": "0d76dd6753edc9e15a3ecf84d7ea9f44cf497e0d",
    "colab": {
     "base_uri": "https://localhost:8080/"
    },
    "executionInfo": {
     "elapsed": 773,
     "status": "ok",
     "timestamp": 1642175668945,
     "user": {
      "displayName": "Farha Qureshi",
      "photoUrl": "https://lh3.googleusercontent.com/a-/AOh14Gg-CuU0ovHxtmuyLYlK2dlucANMR2TBI4unTdTiP9VoMh5O86Co68L3fYO5_BOzxJC5aENsqgab3hMRb3zgJ3tUP8ZrSQ4OMbE-IbIVTC-2nG6IEtgFntuTvA2YR_oXjtxiZojgTz27RpMvMDWSrFoUgE8hutSo1HQSpDXkQWEqp-B1w4AjBCzTQWyFatzQ7s3T6mPe-i8L985NUlWu9Gl3sUmoXGmXVVRaKLqAP8bCbmiN1d3rDcsh6S0cJx38PzOLqZt8XPIxKfETAK9GIrAoCmJLpgaFhbxe1-6KR0czPHlHKpv3gHzyZQDw8quuCIMnTUVlXYkTphi7Lqn0izZPlWofY-YE4-8Nqr1NiHhE1EvzhOFTe9xHJTDNXPYzTQ5rb0M7c6zpoeoFOLjLyuZuGPLiMs9UT2VYU4AxHcmXVcImZJ9PBxDmPg7ZTMuzb8TN-thgI95sthgtnfXNe-k6zktTpAfNS95_w7X21wQUAtjljxYhU7-m-n4p-Vsfuzr3hAPob9w2SokmlfgHTdXXtvAoC9R1blE1bG4ogGc7otPfH2xvxgiK1v9H2QvLFomMF_H02XwdjOjRZmVNF0Tl5c3klO4IMYY5JE4DSb47AcqqLPootL3ZMfkLDCEBIniB7lM4-qv1ooF3W8EHiVcUGlx8AePt_OtIHXXwCBJLmOTTQCLZRIj8dZmqrMQb4OeMPnkX6BdRfY-GDLBtpnLSIvm_FuzDtyIzok-b7grOA7C_UxRGhe1o0FYf-22sEQ=s64",
      "userId": "04634770902388220364"
     },
     "user_tz": -330
    },
    "id": "HpB4_NQ4O6YX",
    "outputId": "f7c9b420-a38c-4c87-bb5d-318de25c7634"
   },
   "outputs": [
    {
     "data": {
      "text/plain": [
       "<=50K    7552\n",
       ">50K      697\n",
       "Name: salary, dtype: int64"
      ]
     },
     "execution_count": 37,
     "metadata": {},
     "output_type": "execute_result"
    }
   ],
   "source": [
    "data.loc[(data['sex'] == 'Male') &\n",
    "     (data['marital-status'].isin(['Never-married', \n",
    "                                   'Separated', \n",
    "                                   'Divorced',\n",
    "                                   'Widowed'])), 'salary'].value_counts()"
   ]
  },
  {
   "cell_type": "code",
   "execution_count": null,
   "metadata": {
    "_uuid": "3ebaeb074e6cc61d190ff5c8a1f9e54ece35e166",
    "colab": {
     "base_uri": "https://localhost:8080/"
    },
    "executionInfo": {
     "elapsed": 527,
     "status": "ok",
     "timestamp": 1642175672556,
     "user": {
      "displayName": "Farha Qureshi",
      "photoUrl": "https://lh3.googleusercontent.com/a-/AOh14Gg-CuU0ovHxtmuyLYlK2dlucANMR2TBI4unTdTiP9VoMh5O86Co68L3fYO5_BOzxJC5aENsqgab3hMRb3zgJ3tUP8ZrSQ4OMbE-IbIVTC-2nG6IEtgFntuTvA2YR_oXjtxiZojgTz27RpMvMDWSrFoUgE8hutSo1HQSpDXkQWEqp-B1w4AjBCzTQWyFatzQ7s3T6mPe-i8L985NUlWu9Gl3sUmoXGmXVVRaKLqAP8bCbmiN1d3rDcsh6S0cJx38PzOLqZt8XPIxKfETAK9GIrAoCmJLpgaFhbxe1-6KR0czPHlHKpv3gHzyZQDw8quuCIMnTUVlXYkTphi7Lqn0izZPlWofY-YE4-8Nqr1NiHhE1EvzhOFTe9xHJTDNXPYzTQ5rb0M7c6zpoeoFOLjLyuZuGPLiMs9UT2VYU4AxHcmXVcImZJ9PBxDmPg7ZTMuzb8TN-thgI95sthgtnfXNe-k6zktTpAfNS95_w7X21wQUAtjljxYhU7-m-n4p-Vsfuzr3hAPob9w2SokmlfgHTdXXtvAoC9R1blE1bG4ogGc7otPfH2xvxgiK1v9H2QvLFomMF_H02XwdjOjRZmVNF0Tl5c3klO4IMYY5JE4DSb47AcqqLPootL3ZMfkLDCEBIniB7lM4-qv1ooF3W8EHiVcUGlx8AePt_OtIHXXwCBJLmOTTQCLZRIj8dZmqrMQb4OeMPnkX6BdRfY-GDLBtpnLSIvm_FuzDtyIzok-b7grOA7C_UxRGhe1o0FYf-22sEQ=s64",
      "userId": "04634770902388220364"
     },
     "user_tz": -330
    },
    "id": "8S97Kx5OO6YY",
    "outputId": "68933090-fe21-4e61-e326-b6df4ca101e5"
   },
   "outputs": [
    {
     "data": {
      "text/plain": [
       "<=50K    7576\n",
       ">50K     5965\n",
       "Name: salary, dtype: int64"
      ]
     },
     "execution_count": 15,
     "metadata": {},
     "output_type": "execute_result"
    }
   ],
   "source": [
    "data.loc[(data['sex'] == 'Male') &\n",
    "     (data['marital-status'].str.startswith('Married')), 'salary'].value_counts()"
   ]
  },
  {
   "cell_type": "code",
   "execution_count": 51,
   "metadata": {
    "_uuid": "6caad66a24cf60a6105f41955b14ba9f25501c87",
    "colab": {
     "base_uri": "https://localhost:8080/"
    },
    "executionInfo": {
     "elapsed": 3,
     "status": "ok",
     "timestamp": 1642175675715,
     "user": {
      "displayName": "Farha Qureshi",
      "photoUrl": "https://lh3.googleusercontent.com/a-/AOh14Gg-CuU0ovHxtmuyLYlK2dlucANMR2TBI4unTdTiP9VoMh5O86Co68L3fYO5_BOzxJC5aENsqgab3hMRb3zgJ3tUP8ZrSQ4OMbE-IbIVTC-2nG6IEtgFntuTvA2YR_oXjtxiZojgTz27RpMvMDWSrFoUgE8hutSo1HQSpDXkQWEqp-B1w4AjBCzTQWyFatzQ7s3T6mPe-i8L985NUlWu9Gl3sUmoXGmXVVRaKLqAP8bCbmiN1d3rDcsh6S0cJx38PzOLqZt8XPIxKfETAK9GIrAoCmJLpgaFhbxe1-6KR0czPHlHKpv3gHzyZQDw8quuCIMnTUVlXYkTphi7Lqn0izZPlWofY-YE4-8Nqr1NiHhE1EvzhOFTe9xHJTDNXPYzTQ5rb0M7c6zpoeoFOLjLyuZuGPLiMs9UT2VYU4AxHcmXVcImZJ9PBxDmPg7ZTMuzb8TN-thgI95sthgtnfXNe-k6zktTpAfNS95_w7X21wQUAtjljxYhU7-m-n4p-Vsfuzr3hAPob9w2SokmlfgHTdXXtvAoC9R1blE1bG4ogGc7otPfH2xvxgiK1v9H2QvLFomMF_H02XwdjOjRZmVNF0Tl5c3klO4IMYY5JE4DSb47AcqqLPootL3ZMfkLDCEBIniB7lM4-qv1ooF3W8EHiVcUGlx8AePt_OtIHXXwCBJLmOTTQCLZRIj8dZmqrMQb4OeMPnkX6BdRfY-GDLBtpnLSIvm_FuzDtyIzok-b7grOA7C_UxRGhe1o0FYf-22sEQ=s64",
      "userId": "04634770902388220364"
     },
     "user_tz": -330
    },
    "id": "Xm_F6b73O6YY",
    "outputId": "ba4d005d-43e0-4e37-aaa9-2bae24ae3e5f"
   },
   "outputs": [
    {
     "data": {
      "text/plain": [
       "Married-civ-spouse       14976\n",
       "Never-married            10683\n",
       "Divorced                  4443\n",
       "Separated                 1025\n",
       "Widowed                    993\n",
       "Married-spouse-absent      418\n",
       "Married-AF-spouse           23\n",
       "Name: marital-status, dtype: int64"
      ]
     },
     "execution_count": 51,
     "metadata": {},
     "output_type": "execute_result"
    }
   ],
   "source": [
    "data['marital-status'].value_counts()"
   ]
  },
  {
   "cell_type": "markdown",
   "metadata": {
    "_uuid": "a100bde4f74a560148f2bf4cc30f2bf6cdc44cac",
    "id": "tteKiygeO6YY"
   },
   "source": [
    "It's good to be married :)"
   ]
  },
  {
   "cell_type": "markdown",
   "metadata": {
    "_uuid": "5b47a6400f1deb4d122ed032bc7636200bea288e",
    "id": "AnqH4r4FO6YZ"
   },
   "source": [
    "**9. What is the maximum number of hours a person works per week (*hours-per-week* feature)? How many people work such a number of hours and what is the percentage of those who earn a lot among them?**"
   ]
  },
  {
   "cell_type": "code",
   "execution_count": null,
   "metadata": {
    "_uuid": "93ac2854df19a96970e330550c0e1985fb38edc4",
    "colab": {
     "base_uri": "https://localhost:8080/"
    },
    "executionInfo": {
     "elapsed": 597,
     "status": "ok",
     "timestamp": 1642175695810,
     "user": {
      "displayName": "Farha Qureshi",
      "photoUrl": "https://lh3.googleusercontent.com/a-/AOh14Gg-CuU0ovHxtmuyLYlK2dlucANMR2TBI4unTdTiP9VoMh5O86Co68L3fYO5_BOzxJC5aENsqgab3hMRb3zgJ3tUP8ZrSQ4OMbE-IbIVTC-2nG6IEtgFntuTvA2YR_oXjtxiZojgTz27RpMvMDWSrFoUgE8hutSo1HQSpDXkQWEqp-B1w4AjBCzTQWyFatzQ7s3T6mPe-i8L985NUlWu9Gl3sUmoXGmXVVRaKLqAP8bCbmiN1d3rDcsh6S0cJx38PzOLqZt8XPIxKfETAK9GIrAoCmJLpgaFhbxe1-6KR0czPHlHKpv3gHzyZQDw8quuCIMnTUVlXYkTphi7Lqn0izZPlWofY-YE4-8Nqr1NiHhE1EvzhOFTe9xHJTDNXPYzTQ5rb0M7c6zpoeoFOLjLyuZuGPLiMs9UT2VYU4AxHcmXVcImZJ9PBxDmPg7ZTMuzb8TN-thgI95sthgtnfXNe-k6zktTpAfNS95_w7X21wQUAtjljxYhU7-m-n4p-Vsfuzr3hAPob9w2SokmlfgHTdXXtvAoC9R1blE1bG4ogGc7otPfH2xvxgiK1v9H2QvLFomMF_H02XwdjOjRZmVNF0Tl5c3klO4IMYY5JE4DSb47AcqqLPootL3ZMfkLDCEBIniB7lM4-qv1ooF3W8EHiVcUGlx8AePt_OtIHXXwCBJLmOTTQCLZRIj8dZmqrMQb4OeMPnkX6BdRfY-GDLBtpnLSIvm_FuzDtyIzok-b7grOA7C_UxRGhe1o0FYf-22sEQ=s64",
      "userId": "04634770902388220364"
     },
     "user_tz": -330
    },
    "id": "4715Fu3jO6YZ",
    "outputId": "6e975381-f241-496e-e560-b471efcc892c"
   },
   "outputs": [
    {
     "name": "stdout",
     "output_type": "stream",
     "text": [
      "Max time - 99 hours./week.\n",
      "Total number of such hard workers 85\n",
      "Percentage of rich among them 29%\n"
     ]
    }
   ],
   "source": [
    "max_load = data['hours-per-week'].max()\n",
    "print(\"Max time - {0} hours./week.\".format(max_load))\n",
    "\n",
    "num_workaholics = data[data['hours-per-week'] == max_load].shape[0]\n",
    "print(\"Total number of such hard workers {0}\".format(num_workaholics))\n",
    "\n",
    "rich_share = float(data[(data['hours-per-week'] == max_load)\n",
    "                 & (data['salary'] == '>50K')].shape[0]) / num_workaholics\n",
    "print(\"Percentage of rich among them {0}%\".format(int(100 * rich_share)))"
   ]
  },
  {
   "cell_type": "markdown",
   "metadata": {
    "_uuid": "8a69b6fa35a32c4da77aebf257aacad41335a4b0",
    "id": "4Xr4BH3mO6YZ"
   },
   "source": [
    "**10. Count the average time of work (*hours-per-week*) those who earning a little and a lot (*salary*) for each country (*native-country*).**"
   ]
  },
  {
   "cell_type": "markdown",
   "metadata": {
    "_uuid": "fc67334178627c4410c82cf3452b286f11a43732",
    "id": "P3yp_V9jO6Ya"
   },
   "source": [
    "Simple method:"
   ]
  },
  {
   "cell_type": "code",
   "execution_count": null,
   "metadata": {
    "_uuid": "6833dda87a7268b668ddce2d94f44abbac46e8e8",
    "colab": {
     "base_uri": "https://localhost:8080/"
    },
    "executionInfo": {
     "elapsed": 1340,
     "status": "ok",
     "timestamp": 1642175701040,
     "user": {
      "displayName": "Farha Qureshi",
      "photoUrl": "https://lh3.googleusercontent.com/a-/AOh14Gg-CuU0ovHxtmuyLYlK2dlucANMR2TBI4unTdTiP9VoMh5O86Co68L3fYO5_BOzxJC5aENsqgab3hMRb3zgJ3tUP8ZrSQ4OMbE-IbIVTC-2nG6IEtgFntuTvA2YR_oXjtxiZojgTz27RpMvMDWSrFoUgE8hutSo1HQSpDXkQWEqp-B1w4AjBCzTQWyFatzQ7s3T6mPe-i8L985NUlWu9Gl3sUmoXGmXVVRaKLqAP8bCbmiN1d3rDcsh6S0cJx38PzOLqZt8XPIxKfETAK9GIrAoCmJLpgaFhbxe1-6KR0czPHlHKpv3gHzyZQDw8quuCIMnTUVlXYkTphi7Lqn0izZPlWofY-YE4-8Nqr1NiHhE1EvzhOFTe9xHJTDNXPYzTQ5rb0M7c6zpoeoFOLjLyuZuGPLiMs9UT2VYU4AxHcmXVcImZJ9PBxDmPg7ZTMuzb8TN-thgI95sthgtnfXNe-k6zktTpAfNS95_w7X21wQUAtjljxYhU7-m-n4p-Vsfuzr3hAPob9w2SokmlfgHTdXXtvAoC9R1blE1bG4ogGc7otPfH2xvxgiK1v9H2QvLFomMF_H02XwdjOjRZmVNF0Tl5c3klO4IMYY5JE4DSb47AcqqLPootL3ZMfkLDCEBIniB7lM4-qv1ooF3W8EHiVcUGlx8AePt_OtIHXXwCBJLmOTTQCLZRIj8dZmqrMQb4OeMPnkX6BdRfY-GDLBtpnLSIvm_FuzDtyIzok-b7grOA7C_UxRGhe1o0FYf-22sEQ=s64",
      "userId": "04634770902388220364"
     },
     "user_tz": -330
    },
    "id": "EAoE5QgNO6Ya",
    "outputId": "5b80bf26-367f-4805-aefc-911c69502bf8"
   },
   "outputs": [
    {
     "name": "stdout",
     "output_type": "stream",
     "text": [
      "? <=50K 40.16\n",
      "? >50K 45.55\n",
      "Cambodia <=50K 41.42\n",
      "Cambodia >50K 40.0\n",
      "Canada <=50K 37.91\n",
      "Canada >50K 45.64\n",
      "China <=50K 37.38\n",
      "China >50K 38.9\n",
      "Columbia <=50K 38.68\n",
      "Columbia >50K 50.0\n",
      "Cuba <=50K 37.99\n",
      "Cuba >50K 42.44\n",
      "Dominican-Republic <=50K 42.34\n",
      "Dominican-Republic >50K 47.0\n",
      "Ecuador <=50K 38.04\n",
      "Ecuador >50K 48.75\n",
      "El-Salvador <=50K 36.03\n",
      "El-Salvador >50K 45.0\n",
      "England <=50K 40.48\n",
      "England >50K 44.53\n",
      "France <=50K 41.06\n",
      "France >50K 50.75\n",
      "Germany <=50K 39.14\n",
      "Germany >50K 44.98\n",
      "Greece <=50K 41.81\n",
      "Greece >50K 50.62\n",
      "Guatemala <=50K 39.36\n",
      "Guatemala >50K 36.67\n",
      "Haiti <=50K 36.33\n",
      "Haiti >50K 42.75\n",
      "Holand-Netherlands <=50K 40.0\n",
      "Honduras <=50K 34.33\n",
      "Honduras >50K 60.0\n",
      "Hong <=50K 39.14\n",
      "Hong >50K 45.0\n",
      "Hungary <=50K 31.3\n",
      "Hungary >50K 50.0\n",
      "India <=50K 38.23\n",
      "India >50K 46.48\n",
      "Iran <=50K 41.44\n",
      "Iran >50K 47.5\n",
      "Ireland <=50K 40.95\n",
      "Ireland >50K 48.0\n",
      "Italy <=50K 39.62\n",
      "Italy >50K 45.4\n",
      "Jamaica <=50K 38.24\n",
      "Jamaica >50K 41.1\n",
      "Japan <=50K 41.0\n",
      "Japan >50K 47.96\n",
      "Laos <=50K 40.38\n",
      "Laos >50K 40.0\n",
      "Mexico <=50K 40.0\n",
      "Mexico >50K 46.58\n",
      "Nicaragua <=50K 36.09\n",
      "Nicaragua >50K 37.5\n",
      "Outlying-US(Guam-USVI-etc) <=50K 41.86\n",
      "Peru <=50K 35.07\n",
      "Peru >50K 40.0\n",
      "Philippines <=50K 38.07\n",
      "Philippines >50K 43.03\n",
      "Poland <=50K 38.17\n",
      "Poland >50K 39.0\n",
      "Portugal <=50K 41.94\n",
      "Portugal >50K 41.5\n",
      "Puerto-Rico <=50K 38.47\n",
      "Puerto-Rico >50K 39.42\n",
      "Scotland <=50K 39.44\n",
      "Scotland >50K 46.67\n",
      "South <=50K 40.16\n",
      "South >50K 51.44\n",
      "Taiwan <=50K 33.77\n",
      "Taiwan >50K 46.8\n",
      "Thailand <=50K 42.87\n",
      "Thailand >50K 58.33\n",
      "Trinadad&Tobago <=50K 37.06\n",
      "Trinadad&Tobago >50K 40.0\n",
      "United-States <=50K 38.8\n",
      "United-States >50K 45.51\n",
      "Vietnam <=50K 37.19\n",
      "Vietnam >50K 39.2\n",
      "Yugoslavia <=50K 41.6\n",
      "Yugoslavia >50K 49.5\n"
     ]
    }
   ],
   "source": [
    "for (country, salary), sub_df in data.groupby(['native-country', 'salary']):\n",
    "    print(country, salary, round(sub_df['hours-per-week'].mean(), 2))"
   ]
  },
  {
   "cell_type": "markdown",
   "metadata": {
    "_uuid": "7ad90f765ec1d95fdd186b220c69b86f5405387a",
    "id": "DBmLvSaoO6Ya"
   },
   "source": [
    "Elegant method:"
   ]
  },
  {
   "cell_type": "code",
   "execution_count": 21,
   "metadata": {
    "_uuid": "214675c86e5d7eb24fe64850dc5aa2d7bbf95fa8",
    "id": "Bj9V9iOKO6Ya"
   },
   "outputs": [
    {
     "data": {
      "text/html": [
       "<div>\n",
       "<style scoped>\n",
       "    .dataframe tbody tr th:only-of-type {\n",
       "        vertical-align: middle;\n",
       "    }\n",
       "\n",
       "    .dataframe tbody tr th {\n",
       "        vertical-align: top;\n",
       "    }\n",
       "\n",
       "    .dataframe thead th {\n",
       "        text-align: right;\n",
       "    }\n",
       "</style>\n",
       "<table border=\"1\" class=\"dataframe\">\n",
       "  <thead>\n",
       "    <tr style=\"text-align: right;\">\n",
       "      <th>native-country</th>\n",
       "      <th>?</th>\n",
       "      <th>Cambodia</th>\n",
       "      <th>Canada</th>\n",
       "      <th>China</th>\n",
       "      <th>Columbia</th>\n",
       "      <th>Cuba</th>\n",
       "      <th>Dominican-Republic</th>\n",
       "      <th>Ecuador</th>\n",
       "      <th>El-Salvador</th>\n",
       "      <th>England</th>\n",
       "      <th>...</th>\n",
       "      <th>Portugal</th>\n",
       "      <th>Puerto-Rico</th>\n",
       "      <th>Scotland</th>\n",
       "      <th>South</th>\n",
       "      <th>Taiwan</th>\n",
       "      <th>Thailand</th>\n",
       "      <th>Trinadad&amp;Tobago</th>\n",
       "      <th>United-States</th>\n",
       "      <th>Vietnam</th>\n",
       "      <th>Yugoslavia</th>\n",
       "    </tr>\n",
       "    <tr>\n",
       "      <th>salary</th>\n",
       "      <th></th>\n",
       "      <th></th>\n",
       "      <th></th>\n",
       "      <th></th>\n",
       "      <th></th>\n",
       "      <th></th>\n",
       "      <th></th>\n",
       "      <th></th>\n",
       "      <th></th>\n",
       "      <th></th>\n",
       "      <th></th>\n",
       "      <th></th>\n",
       "      <th></th>\n",
       "      <th></th>\n",
       "      <th></th>\n",
       "      <th></th>\n",
       "      <th></th>\n",
       "      <th></th>\n",
       "      <th></th>\n",
       "      <th></th>\n",
       "      <th></th>\n",
       "    </tr>\n",
       "  </thead>\n",
       "  <tbody>\n",
       "    <tr>\n",
       "      <th>&lt;=50K</th>\n",
       "      <td>40.164760</td>\n",
       "      <td>41.416667</td>\n",
       "      <td>37.914634</td>\n",
       "      <td>37.381818</td>\n",
       "      <td>38.684211</td>\n",
       "      <td>37.985714</td>\n",
       "      <td>42.338235</td>\n",
       "      <td>38.041667</td>\n",
       "      <td>36.030928</td>\n",
       "      <td>40.483333</td>\n",
       "      <td>...</td>\n",
       "      <td>41.939394</td>\n",
       "      <td>38.470588</td>\n",
       "      <td>39.444444</td>\n",
       "      <td>40.15625</td>\n",
       "      <td>33.774194</td>\n",
       "      <td>42.866667</td>\n",
       "      <td>37.058824</td>\n",
       "      <td>38.799127</td>\n",
       "      <td>37.193548</td>\n",
       "      <td>41.6</td>\n",
       "    </tr>\n",
       "    <tr>\n",
       "      <th>&gt;50K</th>\n",
       "      <td>45.547945</td>\n",
       "      <td>40.000000</td>\n",
       "      <td>45.641026</td>\n",
       "      <td>38.900000</td>\n",
       "      <td>50.000000</td>\n",
       "      <td>42.440000</td>\n",
       "      <td>47.000000</td>\n",
       "      <td>48.750000</td>\n",
       "      <td>45.000000</td>\n",
       "      <td>44.533333</td>\n",
       "      <td>...</td>\n",
       "      <td>41.500000</td>\n",
       "      <td>39.416667</td>\n",
       "      <td>46.666667</td>\n",
       "      <td>51.43750</td>\n",
       "      <td>46.800000</td>\n",
       "      <td>58.333333</td>\n",
       "      <td>40.000000</td>\n",
       "      <td>45.505369</td>\n",
       "      <td>39.200000</td>\n",
       "      <td>49.5</td>\n",
       "    </tr>\n",
       "  </tbody>\n",
       "</table>\n",
       "<p>2 rows × 42 columns</p>\n",
       "</div>"
      ],
      "text/plain": [
       "native-country          ?   Cambodia     Canada      China   Columbia  \\\n",
       "salary                                                                  \n",
       "<=50K           40.164760  41.416667  37.914634  37.381818  38.684211   \n",
       ">50K            45.547945  40.000000  45.641026  38.900000  50.000000   \n",
       "\n",
       "native-country       Cuba  Dominican-Republic    Ecuador  El-Salvador  \\\n",
       "salary                                                                  \n",
       "<=50K           37.985714           42.338235  38.041667    36.030928   \n",
       ">50K            42.440000           47.000000  48.750000    45.000000   \n",
       "\n",
       "native-country    England  ...   Portugal  Puerto-Rico   Scotland     South  \\\n",
       "salary                     ...                                                \n",
       "<=50K           40.483333  ...  41.939394    38.470588  39.444444  40.15625   \n",
       ">50K            44.533333  ...  41.500000    39.416667  46.666667  51.43750   \n",
       "\n",
       "native-country     Taiwan   Thailand  Trinadad&Tobago  United-States  \\\n",
       "salary                                                                 \n",
       "<=50K           33.774194  42.866667        37.058824      38.799127   \n",
       ">50K            46.800000  58.333333        40.000000      45.505369   \n",
       "\n",
       "native-country    Vietnam  Yugoslavia  \n",
       "salary                                 \n",
       "<=50K           37.193548        41.6  \n",
       ">50K            39.200000        49.5  \n",
       "\n",
       "[2 rows x 42 columns]"
      ]
     },
     "execution_count": 21,
     "metadata": {},
     "output_type": "execute_result"
    }
   ],
   "source": [
    "pd.crosstab(data['native-country'], data['salary'], \n",
    "           values=data['hours-per-week'], aggfunc=np.mean).T"
   ]
  },
  {
   "cell_type": "code",
   "execution_count": null,
   "metadata": {},
   "outputs": [],
   "source": []
  }
 ],
 "metadata": {
  "colab": {
   "name": "AssignmentDataframes.ipynb",
   "provenance": []
  },
  "kernelspec": {
   "display_name": "Python 3 (ipykernel)",
   "language": "python",
   "name": "python3"
  },
  "language_info": {
   "codemirror_mode": {
    "name": "ipython",
    "version": 3
   },
   "file_extension": ".py",
   "mimetype": "text/x-python",
   "name": "python",
   "nbconvert_exporter": "python",
   "pygments_lexer": "ipython3",
   "version": "3.9.7"
  }
 },
 "nbformat": 4,
 "nbformat_minor": 1
}
