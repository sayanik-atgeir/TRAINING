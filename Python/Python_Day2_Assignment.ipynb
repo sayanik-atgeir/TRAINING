{
 "cells": [
  {
   "cell_type": "code",
   "execution_count": 1,
   "id": "db87edf1",
   "metadata": {},
   "outputs": [
    {
     "name": "stdout",
     "output_type": "stream",
     "text": [
      "1540\n",
      "1610\n",
      "1680\n",
      "1750\n",
      "1820\n",
      "1890\n",
      "1960\n",
      "2030\n",
      "2100\n",
      "2170\n",
      "2240\n",
      "2310\n",
      "2380\n",
      "2450\n",
      "2520\n",
      "2590\n",
      "2660\n"
     ]
    }
   ],
   "source": [
    "#1.1. Write a Python program to find those numbers which are divisible by 7, 5 , 2 between 1500 and 2700 (both included).\n",
    "\n",
    "for i in range(1500,2701):\n",
    "    if (i % 7 == 0) and (i % 5 == 0) and (i % 2 == 0):\n",
    "        print(i)"
   ]
  },
  {
   "cell_type": "code",
   "execution_count": 2,
   "id": "73d071c1",
   "metadata": {},
   "outputs": [
    {
     "name": "stdout",
     "output_type": "stream",
     "text": [
      "Enter the word:one\n",
      "eno\n"
     ]
    }
   ],
   "source": [
    "# Write a Python program that accepts a word from the user and reverse it.\n",
    "\n",
    "s1 = str(input('Enter the word:'))\n",
    "s_new = s1[::-1]\n",
    "print(s_new)"
   ]
  },
  {
   "cell_type": "code",
   "execution_count": 3,
   "id": "44eeaca8",
   "metadata": {},
   "outputs": [
    {
     "name": "stdout",
     "output_type": "stream",
     "text": [
      "No of even numbers: 4\n",
      "No of odd numbers: 5\n",
      "No of prime numbers: 0\n"
     ]
    }
   ],
   "source": [
    "#3.Write a Python program to count the number of even,odd and prime numbers from a series of numbers.\n",
    "\n",
    "numbers = (1, 2, 30, 4, 5, 67, 7, 8, 9)\n",
    "\n",
    "even_count=0\n",
    "odd_count = 0\n",
    "\n",
    "\n",
    "for x in numbers:\n",
    "    prime_count=0\n",
    "    if x % 2 ==0:\n",
    "        even_count+=1\n",
    "    elif x % 2!=0:\n",
    "        odd_count+=1\n",
    "    elif x>1:\n",
    "        for i in range(2,x+1):\n",
    "            if (x % i==0):\n",
    "                prime_count+=1\n",
    "\n",
    "print('No of even numbers:',even_count)\n",
    "print('No of odd numbers:',odd_count)\n",
    "print('No of prime numbers:',prime_count)"
   ]
  },
  {
   "cell_type": "code",
   "execution_count": 4,
   "id": "4ddc1fb4",
   "metadata": {},
   "outputs": [
    {
     "name": "stdout",
     "output_type": "stream",
     "text": [
      "0\n",
      "1\n",
      "2\n",
      "4\n",
      "5\n"
     ]
    }
   ],
   "source": [
    "#4.Write a Python program that prints all the numbers from 0 to 6 except 3 and 6.\n",
    "#Note : Use 'continue' statement.\n",
    "\n",
    "for i in range(0,7):\n",
    "    if i==3 or i==6:\n",
    "        continue\n",
    "    print(i)"
   ]
  },
  {
   "cell_type": "code",
   "execution_count": 5,
   "id": "c293841a",
   "metadata": {},
   "outputs": [
    {
     "name": "stdout",
     "output_type": "stream",
     "text": [
      "Height: 5.2\n",
      "Radius: 6.9\n",
      "Volume is:  777.7703764345323\n",
      "Area is:  524.5831412964237\n"
     ]
    }
   ],
   "source": [
    "#5.Write a Python program to calculate the area and volume of a cylinder.\n",
    "\n",
    "from math import pi\n",
    "h = float(input('Height: '))\n",
    "r = float(input('Radius: '))\n",
    "volume = pi * r * r * h\n",
    "area = (2*pi*r*h) + (2*pi*r**2)\n",
    "print(\"Volume is: \", volume)\n",
    "print(\"Area is: \", area)"
   ]
  },
  {
   "cell_type": "code",
   "execution_count": 6,
   "id": "366ef01c",
   "metadata": {},
   "outputs": [
    {
     "name": "stdout",
     "output_type": "stream",
     "text": [
      "User's name: Sayanik Mukherjee\n"
     ]
    },
    {
     "data": {
      "text/plain": [
       "'kinayaS eejrehkuM'"
      ]
     },
     "execution_count": 6,
     "metadata": {},
     "output_type": "execute_result"
    }
   ],
   "source": [
    "#6.Write a Python program which accepts the user's first and last name and print them in reverse order with a space between them\n",
    "\n",
    "name = str(input(\"User's name: \"))\n",
    "' '.join(n[::-1] for n in name.split())"
   ]
  },
  {
   "cell_type": "code",
   "execution_count": 7,
   "id": "0cfc809d",
   "metadata": {},
   "outputs": [
    {
     "name": "stdout",
     "output_type": "stream",
     "text": [
      "number: 2\n",
      "Expected Result: 246\n"
     ]
    }
   ],
   "source": [
    "#7. Write a Python program that accepts an integer (n) and computes the value of n+nn+nnn.\n",
    "\n",
    "n = int(input(\"number: \"))\n",
    "strn= str(n)\n",
    "n1= strn+strn\n",
    "n2= strn+strn+strn\n",
    "add =n+int(n1)+int(n2)\n",
    "print(\"Expected Result:\",add)"
   ]
  },
  {
   "cell_type": "code",
   "execution_count": 8,
   "id": "6e2764a0",
   "metadata": {},
   "outputs": [
    {
     "name": "stdout",
     "output_type": "stream",
     "text": [
      "5.196152422706632\n"
     ]
    }
   ],
   "source": [
    "#8. Write a Python program to compute the distance between the points (x1, y1,z1) and (x2, y2,z2)\n",
    "\n",
    "import math\n",
    "def distance(x1, y1, z1, x2, y2, z2):\n",
    "    return math.sqrt(math.pow(x2 - x1, 2) + math.pow(y2 - y1, 2) + math.pow(z2 - z1, 2))\n",
    "\n",
    "d = distance(1,2,3,4,5,6)\n",
    "print(d)"
   ]
  },
  {
   "cell_type": "code",
   "execution_count": 9,
   "id": "ba6c647c",
   "metadata": {},
   "outputs": [
    {
     "name": "stdout",
     "output_type": "stream",
     "text": [
      "Enter the string :sayanik\n",
      "Enter the character :a\n",
      "2\n"
     ]
    }
   ],
   "source": [
    "#9. Write a Python program to count the number occurrence of a specific character in a string\n",
    "\n",
    "count = 0\n",
    "\n",
    "string = str(input(\"Enter the string :\"))\n",
    "char = str(input(\"Enter the character :\"))\n",
    "\n",
    "for i in string:\n",
    "    if i == char:\n",
    "        count += 1\n",
    "\n",
    "print(count)"
   ]
  },
  {
   "cell_type": "code",
   "execution_count": 10,
   "id": "f0cea821",
   "metadata": {},
   "outputs": [
    {
     "name": "stdout",
     "output_type": "stream",
     "text": [
      "3\n",
      "6\n",
      "9\n",
      "12\n",
      "2\n",
      "7\n",
      "11\n",
      "4\n",
      "10\n",
      "5\n",
      "1\n",
      "8\n",
      "13\n"
     ]
    }
   ],
   "source": [
    "#10. Write a Python program to remove and print every third consecutive number from a list.\n",
    "\n",
    "def char3_removal(int_list):\n",
    "    pos = 2  \n",
    "    index = 0\n",
    "    len_list = (len(int_list))\n",
    "    while (len_list>0):\n",
    "        index = (pos+index) % len_list\n",
    "        print(int_list.pop(index))\n",
    "        len_list -= 1\n",
    "list1 = [1,2,3,4,5,6,7,8,9,10,11,12,13]\n",
    "char3_removal(list1)"
   ]
  },
  {
   "cell_type": "code",
   "execution_count": 11,
   "id": "a2f91799",
   "metadata": {},
   "outputs": [
    {
     "name": "stdout",
     "output_type": "stream",
     "text": [
      "9 0 2 1 3 \n",
      "9 3 0 1 2 \n"
     ]
    }
   ],
   "source": [
    "#11. WAP such that the code produces below output :(Print 1st digit + last digit + 2nd digit + 2nd last digit + …so on)\n",
    "\n",
    "class Node:\n",
    "      \n",
    "    def __init__(self, key):\n",
    "          \n",
    "        self.data = key\n",
    "        self.next = None\n",
    "  \n",
    "left = None\n",
    "  \n",
    "# Function to print the list\n",
    "def printlist(head):\n",
    "      \n",
    "    while (head != None):\n",
    "        print(head.data, end = \" \")\n",
    "        if (head.next != None):\n",
    "            print(\"\", end = \"\")\n",
    "              \n",
    "        head = head.next\n",
    "          \n",
    "    print()\n",
    "  \n",
    "\n",
    "def rearrange(head):\n",
    "      \n",
    "    global left\n",
    "    if (head != None):\n",
    "        left = head\n",
    "        reorderListUtil(left)\n",
    "  \n",
    "def reorderListUtil(right):\n",
    "      \n",
    "    global left\n",
    "    if (right == None):\n",
    "        return\n",
    "      \n",
    "    reorderListUtil(right.next)\n",
    "      \n",
    "    # We set left = null, when we reach stop \n",
    "    # condition, so no processing required \n",
    "    # after that\n",
    "    if (left == None):\n",
    "        return\n",
    "      \n",
    "    # Stop condition: odd case : left = right, even\n",
    "    # case : left.next = right\n",
    "    if (left != right and left.next != right):\n",
    "        temp = left.next\n",
    "        left.next = right\n",
    "        right.next = temp\n",
    "        left = temp\n",
    "    else:\n",
    "          \n",
    "        # Stop condition , set null to left nodes\n",
    "        if (left.next == right):\n",
    "              \n",
    "            # Even case\n",
    "            left.next.next = None\n",
    "            left = None\n",
    "        else:\n",
    "              \n",
    "            # Odd case\n",
    "            left.next = None\n",
    "            left = None\n",
    "  \n",
    "\n",
    "head = Node(9)\n",
    "head.next = Node(0)\n",
    "head.next.next = Node(2)\n",
    "head.next.next.next = Node(1)\n",
    "head.next.next.next.next = Node(3)\n",
    "  \n",
    "# Print original list\n",
    "printlist(head)\n",
    "  \n",
    "#  Modify the list\n",
    "rearrange(head)\n",
    "  \n",
    "# Print modified list\n",
    "printlist(head)"
   ]
  },
  {
   "cell_type": "code",
   "execution_count": 12,
   "id": "c62b67fc",
   "metadata": {},
   "outputs": [
    {
     "name": "stdout",
     "output_type": "stream",
     "text": [
      "12321\n",
      "The Integer is Palindrom\n"
     ]
    }
   ],
   "source": [
    "#12. Check if an integer entered by user is palindrome or not\n",
    "\n",
    "num1 = int(input())\n",
    "if str(num1) == str(num1)[::-1]:\n",
    "    print(\"The Integer is Palindrom\")\n",
    "else:\n",
    "    print(\"It is not a Palindrom\")"
   ]
  },
  {
   "cell_type": "code",
   "execution_count": 13,
   "id": "4aca3619",
   "metadata": {},
   "outputs": [
    {
     "name": "stdout",
     "output_type": "stream",
     "text": [
      "1976 : one thousand nine hundred seventy six\n"
     ]
    }
   ],
   "source": [
    "#13.Write a program to print number  in words \n",
    "\n",
    "def convert_to_words(num):\n",
    " \n",
    "    l = len(num)\n",
    "    \n",
    "    if (l == 0):\n",
    "        print(\"empty string\")\n",
    "        return\n",
    " \n",
    "    if (l > 4):\n",
    "        print(\"Length more than 4 is not supported\")\n",
    "        return\n",
    " \n",
    "    single_digits = [\"zero\", \"one\", \"two\", \"three\", \"four\", \"five\", \"six\", \"seven\", \"eight\", \"nine\"]\n",
    " \n",
    "    two_digits = [\"\", \"ten\", \"eleven\", \"twelve\", \"thirteen\", \"fourteen\", \"fifteen\", \"sixteen\", \"seventeen\", \"eighteen\", \"nineteen\"]\n",
    " \n",
    "    tens_multiple = [\"\", \"\", \"twenty\", \"thirty\", \"forty\", \"fifty\", \"sixty\", \"seventy\", \"eighty\", \"ninety\"]\n",
    " \n",
    "    tens_power = [\"hundred\", \"thousand\"]\n",
    " \n",
    "    print(num, \":\", end=\" \")\n",
    " \n",
    "    if (l == 1):\n",
    "        print(single_digits[ord(num[0]) - 48])\n",
    "        return\n",
    " \n",
    "    x = 0\n",
    "    while (x < len(num)):\n",
    "        if (l >= 3):\n",
    "            if (ord(num[x]) - 48 != 0):\n",
    "                print(single_digits[ord(num[x]) - 48],\n",
    "                      end=\" \")\n",
    "                print(tens_power[l - 3], end=\" \")\n",
    " \n",
    "            l -= 1\n",
    " \n",
    "        else:\n",
    " \n",
    "            if (ord(num[x]) - 48 == 1):\n",
    "                sum = (ord(num[x]) - 48 +\n",
    "                       ord(num[x+1]) - 48)\n",
    "                print(two_digits[sum])\n",
    "                return\n",
    " \n",
    "            elif (ord(num[x]) - 48 == 2 and\n",
    "                  ord(num[x + 1]) - 48 == 0):\n",
    "                print(\"twenty\")\n",
    "                return\n",
    " \n",
    "            else:\n",
    "                i = ord(num[x]) - 48\n",
    "                if(i > 0):\n",
    "                    print(tens_multiple[i], end=\" \")\n",
    "                else:\n",
    "                    print(\"\", end=\"\")\n",
    "                x += 1\n",
    "                if(ord(num[x]) - 48 != 0):\n",
    "                    print(single_digits[ord(num[x]) - 48])\n",
    "        x += 1\n",
    " \n",
    " \n",
    "\n",
    "convert_to_words(\"1976\")"
   ]
  },
  {
   "cell_type": "code",
   "execution_count": 14,
   "id": "ef1bccbd",
   "metadata": {},
   "outputs": [
    {
     "name": "stdout",
     "output_type": "stream",
     "text": [
      "x: 2\n",
      "y: 5\n",
      "x:  5\n",
      "y:  2\n"
     ]
    }
   ],
   "source": [
    "#14.Swap two numbers using the third variable and without using the third variable.\n",
    "\n",
    "# Without 3rd variable\n",
    "x = int(input(\"x: \"))\n",
    "y = int(input(\"y: \"))\n",
    "x=x-y\n",
    "y=x+y\n",
    "x=y-x\n",
    "print(\"x: \", x);\n",
    "print(\"y: \", y);"
   ]
  },
  {
   "cell_type": "code",
   "execution_count": 15,
   "id": "cabb1473",
   "metadata": {},
   "outputs": [
    {
     "name": "stdout",
     "output_type": "stream",
     "text": [
      "x: 2\n",
      "y: 5\n",
      "x:  5\n",
      "y:  2\n"
     ]
    }
   ],
   "source": [
    "# with 3rd variable\n",
    "\n",
    "x = int(input(\"x: \"))\n",
    "y = int(input(\"y: \"))\n",
    "z = x\n",
    "x = y\n",
    "y = z\n",
    "print(\"x: \", x);\n",
    "print(\"y: \", y);"
   ]
  },
  {
   "cell_type": "code",
   "execution_count": 16,
   "id": "bf89d3e7",
   "metadata": {},
   "outputs": [
    {
     "name": "stdout",
     "output_type": "stream",
     "text": [
      "Enter the String:Hi,My Name is Abc\n",
      "Upper case String is:   H I \f",
      " M Y \u0000 N A M E \u0000 I S \u0000 A B C\n"
     ]
    }
   ],
   "source": [
    "#15. Take string value from user as :\n",
    "#\"Hi,My Name is Abc.\"  \n",
    "#convert it into \"HI,MY NAME IS ABC\" and \"hi,my name is abc.\"\n",
    "#without using the inbuilt function.\n",
    "\n",
    "str = input(\"Enter the String:\")\n",
    "i = 0\n",
    "ch2 = ' '\n",
    "\n",
    "while str[i:]:\n",
    "    ch = ord(str[i])\n",
    "    if ch > 64 and ch < 90:\n",
    "        ch2 += chr(ch) \n",
    "    else:\n",
    "        ch2 += chr(ch-32)\n",
    "    i += 1\n",
    "print(\"Upper case String is:\", ' '.join(ch2))"
   ]
  },
  {
   "cell_type": "code",
   "execution_count": 17,
   "id": "bb6eef31",
   "metadata": {},
   "outputs": [
    {
     "name": "stdout",
     "output_type": "stream",
     "text": [
      "Enter the String:Hi,My Name is Abc\n",
      "Upper case String is:   h i , m y   n a m e   i s   a b c\n"
     ]
    }
   ],
   "source": [
    "str = input(\"Enter the String:\")\n",
    "i = 0\n",
    "ch2 = ' '\n",
    "\n",
    "while str[i:]:\n",
    "    ch = ord(str[i])\n",
    "    if ch > 64 and ch < 90:\n",
    "        ch2 += chr(ch+32) \n",
    "    else:\n",
    "        ch2 += chr(ch)\n",
    "    i += 1\n",
    "print(\"Upper case String is:\", ' '.join(ch2))"
   ]
  },
  {
   "cell_type": "code",
   "execution_count": 20,
   "id": "d63eec19",
   "metadata": {},
   "outputs": [
    {
     "name": "stdout",
     "output_type": "stream",
     "text": [
      "Enter a year: 2022\n",
      "2022 is not a leap year\n"
     ]
    }
   ],
   "source": [
    "#16. Check entered year is leap year or not using logical operator\n",
    "\n",
    "year = int(input(\"Enter a year: \"))\n",
    "if (year % 400 == 0) and (year % 100 == 0):\n",
    "    print(\"{} is a leap year\".format(year))\n",
    "\n",
    "elif (year % 4 ==0) and (year % 100 != 0):\n",
    "    print(\"{} is a leap year\".format(year))\n",
    "\n",
    "else:\n",
    "    print(\"{} is not a leap year\".format(year))"
   ]
  },
  {
   "cell_type": "code",
   "execution_count": 21,
   "id": "0b03a975",
   "metadata": {},
   "outputs": [
    {
     "name": "stdout",
     "output_type": "stream",
     "text": [
      "Enter a String : Pune - 412203 \t\t\t\tMaharashtra\n",
      "alphabets = 15\n",
      "digits = 6\n"
     ]
    }
   ],
   "source": [
    "#17. count the number of digits and number of alphabets in the string\n",
    "\n",
    "string = input(\"Enter a String : \")\n",
    "a=0\n",
    "d=0\n",
    "for i in string:\n",
    "    if i.isalpha():\n",
    "        a+=1\n",
    "    elif i.isdigit():\n",
    "        d+=1\n",
    "print(\"alphabets =\",a)\n",
    "print(\"digits =\",d)"
   ]
  },
  {
   "cell_type": "code",
   "execution_count": null,
   "id": "3e6d55b2",
   "metadata": {},
   "outputs": [],
   "source": []
  },
  {
   "cell_type": "code",
   "execution_count": null,
   "id": "9ed9bc08",
   "metadata": {},
   "outputs": [],
   "source": []
  }
 ],
 "metadata": {
  "kernelspec": {
   "display_name": "Python 3 (ipykernel)",
   "language": "python",
   "name": "python3"
  },
  "language_info": {
   "codemirror_mode": {
    "name": "ipython",
    "version": 3
   },
   "file_extension": ".py",
   "mimetype": "text/x-python",
   "name": "python",
   "nbconvert_exporter": "python",
   "pygments_lexer": "ipython3",
   "version": "3.9.7"
  }
 },
 "nbformat": 4,
 "nbformat_minor": 5
}
